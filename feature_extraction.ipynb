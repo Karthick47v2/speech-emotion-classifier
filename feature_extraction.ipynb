{
  "cells": [
    {
      "cell_type": "markdown",
      "metadata": {
        "id": "view-in-github",
        "colab_type": "text"
      },
      "source": [
        "<a href=\"https://colab.research.google.com/github/Karthick47v2/speech-emotion-classifier/blob/main/feature_extraction.ipynb\" target=\"_parent\"><img src=\"https://colab.research.google.com/assets/colab-badge.svg\" alt=\"Open In Colab\"/></a>"
      ]
    },
    {
      "cell_type": "code",
      "execution_count": null,
      "metadata": {
        "id": "3UFPW2Dnget7"
      },
      "outputs": [],
      "source": [
        "! pip install kaggle\n",
        "\n",
        "! mkdir ~/.kaggle \n",
        "! cp kaggle.json ~/.kaggle/\n",
        "! chmod 600 ~/.kaggle/kaggle.json\n",
        "\n",
        "! kaggle datasets download uwrfkaggler/ravdess-emotional-speech-audio\n",
        "! kaggle datasets download ejlok1/surrey-audiovisual-expressed-emotion-savee\n",
        "! kaggle datasets download ejlok1/toronto-emotional-speech-set-tess\n",
        "\n",
        "! unzip ravdess-emotional-speech-audio\n",
        "! unzip surrey-audiovisual-expressed-emotion-savee\n",
        "! unzip toronto-emotional-speech-set-tess"
      ]
    },
    {
      "cell_type": "code",
      "execution_count": 19,
      "metadata": {
        "id": "8qwthWHlg58y"
      },
      "outputs": [],
      "source": [
        "import glob\n",
        "import pandas as pd\n",
        "import numpy as np\n",
        "import random\n",
        "import cv2\n",
        "import librosa \n",
        "import librosa.display\n",
        "import matplotlib.pyplot as plt\n",
        "\n",
        "import IPython.display as ipd"
      ]
    },
    {
      "cell_type": "code",
      "execution_count": null,
      "metadata": {
        "id": "AYZxgrn9g_Fo"
      },
      "outputs": [],
      "source": [
        "# 1 - neutral \n",
        "# 2 - calm ## \n",
        "# 3 - happy\n",
        "# 4 - sad\n",
        "# 5 - angry\n",
        "# 6 - fear\n",
        "# 7 - disgust \n",
        "# 8 - surprise"
      ]
    },
    {
      "cell_type": "code",
      "execution_count": 20,
      "metadata": {
        "id": "3p_ru43lhg7O"
      },
      "outputs": [],
      "source": [
        "r_path_list = glob.glob('/content/Actor_*/**')\n",
        "r_emotion_list = [int((x.split('.')[0]).split('-')[2]) for x in r_path_list]\n",
        "r_df = pd.DataFrame({'path': r_path_list, 'emotion': r_emotion_list})\n",
        "\n",
        "s_path_list = glob.glob('/content/ALL/**')\n",
        "s_emotion_list = [(list((x.split('.')[0]).split('_')[1])[0]) + (list((x.split('.')[0]).split('_')[1])[1] if list((x.split('.')[0]).split('_')[1])[0] == 's' else '0') for x in s_path_list]\n",
        "s_df = pd.DataFrame({'path': s_path_list, 'emotion': s_emotion_list})\n",
        "\n",
        "t_path_list = glob.glob('/content/TESS Toronto emotional speech set data/**/**')\n",
        "t_emotion_list = [((x.split('.')[0]).split('/')[-1].split('_')[-1]) for x in t_path_list]\n",
        "t_df = pd.DataFrame({'path': t_path_list, 'emotion': t_emotion_list})"
      ]
    },
    {
      "cell_type": "code",
      "source": [
        "s_df['emotion'] = s_df['emotion'].replace(['a0', 'd0', 'f0', 'h0', 'n0', 'sa', 'su'], [5, 7, 6, 3, 1, 4, 8])\n",
        "t_df['emotion'] = t_df['emotion'].replace(['angry', 'disgust', 'fear', 'happy', 'neutral', 'ps', 'sad'], [5, 7, 6, 3, 1, 8, 4])"
      ],
      "metadata": {
        "id": "Pn5J6Do2lVrc"
      },
      "execution_count": 24,
      "outputs": []
    },
    {
      "cell_type": "code",
      "source": [
        "df = pd.concat([r_df, s_df, t_df], ignore_index=True)\n",
        "df = df[df['emotion'] != 2]"
      ],
      "metadata": {
        "id": "B6BKtNNTmJbo"
      },
      "execution_count": 58,
      "outputs": []
    },
    {
      "cell_type": "code",
      "source": [
        "df['emotion'].value_counts()"
      ],
      "metadata": {
        "id": "lSh7YMYJptrU",
        "outputId": "d87667b3-e249-4c97-9d3c-d7d08a0ddc44",
        "colab": {
          "base_uri": "https://localhost:8080/"
        }
      },
      "execution_count": 59,
      "outputs": [
        {
          "output_type": "execute_result",
          "data": {
            "text/plain": [
              "8    652\n",
              "6    652\n",
              "3    652\n",
              "5    652\n",
              "4    652\n",
              "7    652\n",
              "1    616\n",
              "Name: emotion, dtype: int64"
            ]
          },
          "metadata": {},
          "execution_count": 59
        }
      ]
    },
    {
      "cell_type": "code",
      "execution_count": 51,
      "metadata": {
        "id": "mPXu7y90h5MD"
      },
      "outputs": [],
      "source": [
        "wav_len = []\n",
        "\n",
        "for path in df['path']:\n",
        "  y, sr = librosa.load(path, sr=None, mono=True)\n",
        "\n",
        "  wav_len.append(y.shape[0] / sr)\n",
        "\n",
        "df['length'] = wav_len"
      ]
    },
    {
      "cell_type": "code",
      "execution_count": 52,
      "metadata": {
        "id": "Xgcx4o0TmepV",
        "outputId": "496b6aa3-1c3c-49b2-ee7f-aa53b644b0d1",
        "colab": {
          "base_uri": "https://localhost:8080/"
        }
      },
      "outputs": [
        {
          "output_type": "execute_result",
          "data": {
            "text/plain": [
              "emotion\n",
              "1    2.582359\n",
              "2    3.795806\n",
              "3    2.631889\n",
              "4    2.973956\n",
              "5    2.611496\n",
              "6    2.415004\n",
              "7    3.026898\n",
              "8    2.608745\n",
              "Name: length, dtype: float64"
            ]
          },
          "metadata": {},
          "execution_count": 52
        }
      ],
      "source": [
        "df.groupby(['emotion'])['length'].mean()"
      ]
    },
    {
      "cell_type": "code",
      "execution_count": null,
      "metadata": {
        "id": "CzMQGAvRoFE5"
      },
      "outputs": [],
      "source": []
    },
    {
      "cell_type": "code",
      "execution_count": null,
      "metadata": {
        "id": "Upk89JzfA8CR"
      },
      "outputs": [],
      "source": []
    },
    {
      "cell_type": "code",
      "execution_count": 46,
      "metadata": {
        "id": "hqjKIu_qDScu",
        "outputId": "3b26c332-f313-4c1f-f09f-f6a68ebafbc7",
        "colab": {
          "base_uri": "https://localhost:8080/",
          "height": 206
        }
      },
      "outputs": [
        {
          "output_type": "execute_result",
          "data": {
            "text/plain": [
              "                                         path  emotion    length\n",
              "0  /content/Actor_21/03-01-08-01-02-02-21.wav        8  3.570229\n",
              "1  /content/Actor_21/03-01-06-01-01-02-21.wav        6  3.770417\n",
              "2  /content/Actor_21/03-01-03-01-01-01-21.wav        3  3.837167\n",
              "3  /content/Actor_21/03-01-02-02-02-01-21.wav        2  4.137479\n",
              "4  /content/Actor_21/03-01-08-01-01-02-21.wav        8  3.470125"
            ],
            "text/html": [
              "\n",
              "  <div id=\"df-31014231-7c0d-4490-b1d1-fc1554c24ecb\">\n",
              "    <div class=\"colab-df-container\">\n",
              "      <div>\n",
              "<style scoped>\n",
              "    .dataframe tbody tr th:only-of-type {\n",
              "        vertical-align: middle;\n",
              "    }\n",
              "\n",
              "    .dataframe tbody tr th {\n",
              "        vertical-align: top;\n",
              "    }\n",
              "\n",
              "    .dataframe thead th {\n",
              "        text-align: right;\n",
              "    }\n",
              "</style>\n",
              "<table border=\"1\" class=\"dataframe\">\n",
              "  <thead>\n",
              "    <tr style=\"text-align: right;\">\n",
              "      <th></th>\n",
              "      <th>path</th>\n",
              "      <th>emotion</th>\n",
              "      <th>length</th>\n",
              "    </tr>\n",
              "  </thead>\n",
              "  <tbody>\n",
              "    <tr>\n",
              "      <th>0</th>\n",
              "      <td>/content/Actor_21/03-01-08-01-02-02-21.wav</td>\n",
              "      <td>8</td>\n",
              "      <td>3.570229</td>\n",
              "    </tr>\n",
              "    <tr>\n",
              "      <th>1</th>\n",
              "      <td>/content/Actor_21/03-01-06-01-01-02-21.wav</td>\n",
              "      <td>6</td>\n",
              "      <td>3.770417</td>\n",
              "    </tr>\n",
              "    <tr>\n",
              "      <th>2</th>\n",
              "      <td>/content/Actor_21/03-01-03-01-01-01-21.wav</td>\n",
              "      <td>3</td>\n",
              "      <td>3.837167</td>\n",
              "    </tr>\n",
              "    <tr>\n",
              "      <th>3</th>\n",
              "      <td>/content/Actor_21/03-01-02-02-02-01-21.wav</td>\n",
              "      <td>2</td>\n",
              "      <td>4.137479</td>\n",
              "    </tr>\n",
              "    <tr>\n",
              "      <th>4</th>\n",
              "      <td>/content/Actor_21/03-01-08-01-01-02-21.wav</td>\n",
              "      <td>8</td>\n",
              "      <td>3.470125</td>\n",
              "    </tr>\n",
              "  </tbody>\n",
              "</table>\n",
              "</div>\n",
              "      <button class=\"colab-df-convert\" onclick=\"convertToInteractive('df-31014231-7c0d-4490-b1d1-fc1554c24ecb')\"\n",
              "              title=\"Convert this dataframe to an interactive table.\"\n",
              "              style=\"display:none;\">\n",
              "        \n",
              "  <svg xmlns=\"http://www.w3.org/2000/svg\" height=\"24px\"viewBox=\"0 0 24 24\"\n",
              "       width=\"24px\">\n",
              "    <path d=\"M0 0h24v24H0V0z\" fill=\"none\"/>\n",
              "    <path d=\"M18.56 5.44l.94 2.06.94-2.06 2.06-.94-2.06-.94-.94-2.06-.94 2.06-2.06.94zm-11 1L8.5 8.5l.94-2.06 2.06-.94-2.06-.94L8.5 2.5l-.94 2.06-2.06.94zm10 10l.94 2.06.94-2.06 2.06-.94-2.06-.94-.94-2.06-.94 2.06-2.06.94z\"/><path d=\"M17.41 7.96l-1.37-1.37c-.4-.4-.92-.59-1.43-.59-.52 0-1.04.2-1.43.59L10.3 9.45l-7.72 7.72c-.78.78-.78 2.05 0 2.83L4 21.41c.39.39.9.59 1.41.59.51 0 1.02-.2 1.41-.59l7.78-7.78 2.81-2.81c.8-.78.8-2.07 0-2.86zM5.41 20L4 18.59l7.72-7.72 1.47 1.35L5.41 20z\"/>\n",
              "  </svg>\n",
              "      </button>\n",
              "      \n",
              "  <style>\n",
              "    .colab-df-container {\n",
              "      display:flex;\n",
              "      flex-wrap:wrap;\n",
              "      gap: 12px;\n",
              "    }\n",
              "\n",
              "    .colab-df-convert {\n",
              "      background-color: #E8F0FE;\n",
              "      border: none;\n",
              "      border-radius: 50%;\n",
              "      cursor: pointer;\n",
              "      display: none;\n",
              "      fill: #1967D2;\n",
              "      height: 32px;\n",
              "      padding: 0 0 0 0;\n",
              "      width: 32px;\n",
              "    }\n",
              "\n",
              "    .colab-df-convert:hover {\n",
              "      background-color: #E2EBFA;\n",
              "      box-shadow: 0px 1px 2px rgba(60, 64, 67, 0.3), 0px 1px 3px 1px rgba(60, 64, 67, 0.15);\n",
              "      fill: #174EA6;\n",
              "    }\n",
              "\n",
              "    [theme=dark] .colab-df-convert {\n",
              "      background-color: #3B4455;\n",
              "      fill: #D2E3FC;\n",
              "    }\n",
              "\n",
              "    [theme=dark] .colab-df-convert:hover {\n",
              "      background-color: #434B5C;\n",
              "      box-shadow: 0px 1px 3px 1px rgba(0, 0, 0, 0.15);\n",
              "      filter: drop-shadow(0px 1px 2px rgba(0, 0, 0, 0.3));\n",
              "      fill: #FFFFFF;\n",
              "    }\n",
              "  </style>\n",
              "\n",
              "      <script>\n",
              "        const buttonEl =\n",
              "          document.querySelector('#df-31014231-7c0d-4490-b1d1-fc1554c24ecb button.colab-df-convert');\n",
              "        buttonEl.style.display =\n",
              "          google.colab.kernel.accessAllowed ? 'block' : 'none';\n",
              "\n",
              "        async function convertToInteractive(key) {\n",
              "          const element = document.querySelector('#df-31014231-7c0d-4490-b1d1-fc1554c24ecb');\n",
              "          const dataTable =\n",
              "            await google.colab.kernel.invokeFunction('convertToInteractive',\n",
              "                                                     [key], {});\n",
              "          if (!dataTable) return;\n",
              "\n",
              "          const docLinkHtml = 'Like what you see? Visit the ' +\n",
              "            '<a target=\"_blank\" href=https://colab.research.google.com/notebooks/data_table.ipynb>data table notebook</a>'\n",
              "            + ' to learn more about interactive tables.';\n",
              "          element.innerHTML = '';\n",
              "          dataTable['output_type'] = 'display_data';\n",
              "          await google.colab.output.renderOutput(dataTable, element);\n",
              "          const docLink = document.createElement('div');\n",
              "          docLink.innerHTML = docLinkHtml;\n",
              "          element.appendChild(docLink);\n",
              "        }\n",
              "      </script>\n",
              "    </div>\n",
              "  </div>\n",
              "  "
            ]
          },
          "metadata": {},
          "execution_count": 46
        }
      ],
      "source": [
        "df.head()"
      ]
    },
    {
      "cell_type": "code",
      "source": [
        "df['path'][0]"
      ],
      "metadata": {
        "id": "FRWq0cUSgABX",
        "outputId": "337315c7-a2d5-4006-f319-0a0c8fdaa80e",
        "colab": {
          "base_uri": "https://localhost:8080/",
          "height": 35
        }
      },
      "execution_count": 53,
      "outputs": [
        {
          "output_type": "execute_result",
          "data": {
            "text/plain": [
              "'/content/Actor_21/03-01-08-01-02-02-21.wav'"
            ],
            "application/vnd.google.colaboratory.intrinsic+json": {
              "type": "string"
            }
          },
          "metadata": {},
          "execution_count": 53
        }
      ]
    },
    {
      "cell_type": "code",
      "execution_count": 54,
      "metadata": {
        "id": "xXmpcn_BFBel",
        "outputId": "4dc761bf-b393-4fe6-80eb-0bc4b43abdcb",
        "colab": {
          "base_uri": "https://localhost:8080/"
        }
      },
      "outputs": [
        {
          "output_type": "stream",
          "name": "stdout",
          "text": [
            "8\n",
            "3.5702291666666666\n"
          ]
        }
      ],
      "source": [
        "y, sr = librosa.load(df['path'][0], sr=None, mono=True)\n",
        "\n",
        "print(row['emotion'])\n",
        "print(row['length'])"
      ]
    },
    {
      "cell_type": "code",
      "execution_count": 55,
      "metadata": {
        "id": "ppfzGJIGB9HR",
        "outputId": "0b94ebef-9a70-4361-a666-ec3befbae566",
        "colab": {
          "base_uri": "https://localhost:8080/",
          "height": 295
        }
      },
      "outputs": [
        {
          "output_type": "display_data",
          "data": {
            "text/plain": [
              "<Figure size 864x288 with 1 Axes>"
            ],
            "image/png": "[encoded data removed]"
          },
          "metadata": {
            "needs_background": "light"
          }
        }
      ],
      "source": [
        "plt.figure(figsize=(12,4))\n",
        "librosa.display.waveshow(y, sr=sr)\n",
        "plt.title('waveform')\n",
        "plt.show()"
      ]
    },
    {
      "cell_type": "code",
      "execution_count": 56,
      "metadata": {
        "id": "gbTKHCirGIKu",
        "outputId": "2c5b21ee-b94a-4d17-ce8c-dee6ef201eff",
        "colab": {
          "base_uri": "https://localhost:8080/",
          "height": 295
        }
      },
      "outputs": [
        {
          "output_type": "display_data",
          "data": {
            "text/plain": [
              "<Figure size 432x288 with 1 Axes>"
            ],
            "image/png": "[encoded data removed]"
          },
          "metadata": {
            "needs_background": "light"
          }
        }
      ],
      "source": [
        "trimmed_y, idx = librosa.effects.trim(y, top_db=50) \n",
        "librosa.display.waveshow(trimmed_y, sr=sr)\n",
        "plt.title('trimmed waveform')\n",
        "plt.show()"
      ]
    },
    {
      "cell_type": "code",
      "execution_count": 32,
      "metadata": {
        "id": "JxaDS4xEGjJJ",
        "outputId": "168f881b-ef64-4621-f43f-46a946a1fa78",
        "colab": {
          "base_uri": "https://localhost:8080/",
          "height": 237
        }
      },
      "outputs": [
        {
          "output_type": "error",
          "ename": "NameError",
          "evalue": "ignored",
          "traceback": [
            "\u001b[0;31m---------------------------------------------------------------------------\u001b[0m",
            "\u001b[0;31mNameError\u001b[0m                                 Traceback (most recent call last)",
            "\u001b[0;32m<ipython-input-32-077b0ab17e9f>\u001b[0m in \u001b[0;36m<module>\u001b[0;34m\u001b[0m\n\u001b[1;32m      3\u001b[0m \u001b[0;34m\u001b[0m\u001b[0m\n\u001b[1;32m      4\u001b[0m \u001b[0;31m# normalize\u001b[0m\u001b[0;34m\u001b[0m\u001b[0;34m\u001b[0m\u001b[0;34m\u001b[0m\u001b[0m\n\u001b[0;32m----> 5\u001b[0;31m \u001b[0mnormalized_y\u001b[0m \u001b[0;34m=\u001b[0m \u001b[0mlibrosa\u001b[0m\u001b[0;34m.\u001b[0m\u001b[0mutil\u001b[0m\u001b[0;34m.\u001b[0m\u001b[0mnormalize\u001b[0m\u001b[0;34m(\u001b[0m\u001b[0mtrimmed_y\u001b[0m\u001b[0;34m)\u001b[0m\u001b[0;34m\u001b[0m\u001b[0;34m\u001b[0m\u001b[0m\n\u001b[0m\u001b[1;32m      6\u001b[0m \u001b[0;31m# short-term fourier transform\u001b[0m\u001b[0;34m\u001b[0m\u001b[0;34m\u001b[0m\u001b[0;34m\u001b[0m\u001b[0m\n\u001b[1;32m      7\u001b[0m \u001b[0mstft\u001b[0m \u001b[0;34m=\u001b[0m \u001b[0mlibrosa\u001b[0m\u001b[0;34m.\u001b[0m\u001b[0mcore\u001b[0m\u001b[0;34m.\u001b[0m\u001b[0mstft\u001b[0m\u001b[0;34m(\u001b[0m\u001b[0mnormalized_y\u001b[0m\u001b[0;34m,\u001b[0m \u001b[0mn_fft\u001b[0m\u001b[0;34m=\u001b[0m\u001b[0mn_fft\u001b[0m\u001b[0;34m,\u001b[0m \u001b[0mhop_length\u001b[0m\u001b[0;34m=\u001b[0m\u001b[0mhop_length\u001b[0m\u001b[0;34m)\u001b[0m\u001b[0;34m\u001b[0m\u001b[0;34m\u001b[0m\u001b[0m\n",
            "\u001b[0;31mNameError\u001b[0m: name 'trimmed_y' is not defined"
          ]
        }
      ],
      "source": [
        "n_fft = 2048\n",
        "hop_length = 512\n",
        "\n",
        "# normalize\n",
        "normalized_y = librosa.util.normalize(trimmed_y)\n",
        "# short-term fourier transform\n",
        "stft = librosa.core.stft(normalized_y, n_fft=n_fft, hop_length=hop_length)\n",
        "# log scale\n",
        "db = librosa.amplitude_to_db(abs(stft))\n",
        "\n",
        "librosa.display.specshow(db, x_axis='time', y_axis='log')\n",
        "plt.title('STFT')\n",
        "plt.colorbar()\n",
        "plt.show()"
      ]
    },
    {
      "cell_type": "code",
      "execution_count": null,
      "metadata": {
        "id": "XfDH1qWoIwTO"
      },
      "outputs": [],
      "source": [
        "# mfcc\n",
        "mfcc = librosa.feature.mfcc(normalized_y, sr, n_mfcc=13)\n",
        "\n",
        "librosa.display.specshow(mfcc, x_axis='time', y_axis='mel')\n",
        "plt.title('MFCC')\n",
        "plt.colorbar()\n",
        "plt.show()"
      ]
    },
    {
      "cell_type": "code",
      "execution_count": null,
      "metadata": {
        "id": "DKJmRHEYNONg"
      },
      "outputs": [],
      "source": [
        "# mel scaled spectogram\n",
        "# mel = librosa.feature.melspectrogram(normalized_y, sr=sr, n_mels=128)\n",
        "mel = librosa.feature.melspectrogram(S=stft, n_mels=128)\n",
        "\n",
        "mel_db = librosa.amplitude_to_db(abs(mel))\n",
        "\n",
        "# normalized_mel = librosa.util.normalize(mel_db)\n",
        "\n",
        "librosa.display.specshow(mel_db, x_axis='time', y_axis='mel')\n",
        "plt.title('Mel-Scaled')\n",
        "plt.colorbar()\n",
        "plt.show()"
      ]
    },
    {
      "cell_type": "code",
      "execution_count": null,
      "metadata": {
        "id": "NV8qnro2gB6N"
      },
      "outputs": [],
      "source": [
        "mel = librosa.feature.melspectrogram(normalized_y, sr=sr, n_mels=128)\n",
        "# mel = librosa.feature.melspectrogram(S=stft, n_mels=128)\n",
        "\n",
        "mel_db = librosa.amplitude_to_db(abs(mel))\n",
        "\n",
        "# normalized_mel = librosa.util.normalize(mel_db)\n",
        "\n",
        "librosa.display.specshow(mel_db, x_axis='time', y_axis='mel')\n",
        "plt.title('Mel-Scaled')\n",
        "plt.colorbar()\n",
        "plt.show()"
      ]
    },
    {
      "cell_type": "code",
      "execution_count": null,
      "metadata": {
        "id": "ZvCBNuJXRIMR"
      },
      "outputs": [],
      "source": [
        "# feature extraction"
      ]
    },
    {
      "cell_type": "code",
      "execution_count": 33,
      "metadata": {
        "id": "b2JSZ6-bcB26"
      },
      "outputs": [],
      "source": [
        "def load_wav(path, stop=160000):\n",
        "  # 22.05 kHz, 16 bit\n",
        "  y, sr = librosa.load(path, mono=True)\n",
        "  trimmed_y, idx = librosa.effects.trim(y[:stop], top_db=50) \n",
        "  normalized_y = librosa.util.normalize(trimmed_y)\n",
        "  return normalized_y, sr"
      ]
    },
    {
      "cell_type": "code",
      "execution_count": 34,
      "metadata": {
        "id": "LaIliM_6SpbS"
      },
      "outputs": [],
      "source": [
        "def extract_mfcc(y, n_mfcc):\n",
        "  mfcc = librosa.feature.mfcc(y=y, sr=sr, n_mfcc=n_mfcc)\n",
        "  normalized_mfcc = librosa.util.normalize(mfcc)\n",
        "\n",
        "  return normalized_mfcc\n",
        "\n",
        "def extract_mel(y, n_mel, n_fft, hop_length):\n",
        "  stft = librosa.core.stft(y, n_fft=n_fft, hop_length=hop_length)\n",
        "\n",
        "  mel = librosa.feature.melspectrogram(S=stft, n_mels=n_mel)\n",
        "  mel_db = librosa.amplitude_to_db(abs(mel))\n",
        "  normalized_mel = librosa.util.normalize(mel_db)\n",
        "\n",
        "  return normalized_mel"
      ]
    },
    {
      "cell_type": "code",
      "execution_count": 35,
      "metadata": {
        "id": "_j6QEDIFOxHt"
      },
      "outputs": [],
      "source": [
        "# noise\n",
        "\n",
        "def add_noise(y,s_noise=0.005, e_noise=0.02):\n",
        "  noise = random.uniform(s_noise, e_noise)\n",
        "  noised_y = y + np.random.rand(len(y)) * noise\n",
        "\n",
        "  return noised_y"
      ]
    },
    {
      "cell_type": "code",
      "execution_count": 36,
      "metadata": {
        "id": "Y7FdzdSPU5TW"
      },
      "outputs": [],
      "source": [
        "def add_padding(x, padding):\n",
        "  padded_x = []\n",
        "\n",
        "  for i in x:\n",
        "    sh = len(i[0])\n",
        "\n",
        "    if padding > 0 & sh < padding:\n",
        "      x = padding - sh\n",
        "      l_pad = x // 2\n",
        "      r_pad = x - l_pad\n",
        "      i = np.pad(i, pad_width=((0,0), (l_pad,r_pad)), mode='constant')\n",
        "\n",
        "    padded_x.append(i)\n",
        "\n",
        "  return padded_x"
      ]
    },
    {
      "cell_type": "code",
      "execution_count": 38,
      "metadata": {
        "id": "4GVBxerZNW9A",
        "outputId": "0b62524a-d42d-4646-9085-93f2af6b92fc",
        "colab": {
          "base_uri": "https://localhost:8080/"
        }
      },
      "outputs": [
        {
          "output_type": "stream",
          "name": "stdout",
          "text": [
            "/content/Actor_21/03-01-08-01-02-02-21.wav\n"
          ]
        }
      ],
      "source": [
        "mfcc = []\n",
        "mel = []\n",
        "label = []\n",
        "max_mfcc_frame = 0\n",
        "max_mel_frame = 0\n",
        "\n",
        "add_aug = False\n",
        "\n",
        "for idx, row in df.iterrows():\n",
        "  y, sr = load_wav(row['path'])\n",
        "\n",
        "  print(row['path'])\n",
        "\n",
        "  break\n",
        "\n",
        "  # ex_mfcc = extract_mfcc(y, 13)\n",
        "  # ex_mel = extract_mel(y, 128, 2048, 512)\n",
        "\n",
        "  # mfcc.append(ex_mfcc)\n",
        "  # mel.append(ex_mel)\n",
        "  # label.append(row['emotion'])\n",
        "\n",
        "  # if add_aug:\n",
        "  #   noised_y = add_noise(y)\n",
        "\n",
        "  #   for i in range(3 if row['emotion'] == 1 else 1):\n",
        "  #     if row['emotion'] == 1:\n",
        "  #       noised_y = add_noise(y, s_noise=0.005 + 0.005 * i, e_noise=0.01 + 0.005 * i)\n",
        "      \n",
        "  #     aug_mfcc = extract_mfcc(noised_y, 13)\n",
        "  #     aug_mel = extract_mel(noised_y, 128, 2048, 512)\n",
        "\n",
        "  #     mfcc.append(aug_mfcc)\n",
        "  #     mel.append(aug_mel)\n",
        "  #     label.append(row['emotion'])\n",
        "  \n",
        "\n",
        "  # if max_mfcc_frame < ex_mfcc.shape[1]:\n",
        "  #   max_mfcc_frame = ex_mfcc.shape[1]\n",
        "\n",
        "  # if max_mel_frame < ex_mel.shape[1]:\n",
        "  #   max_mel_frame = ex_mel.shape[1]\n",
        "\n",
        "padded_mfcc = add_padding(mfcc, max_mfcc_frame)\n",
        "padded_mel = add_padding(mel, max_mel_frame)"
      ]
    },
    {
      "cell_type": "code",
      "source": [
        "max_mel_frame"
      ],
      "metadata": {
        "id": "RfJFXTwBt3K0",
        "outputId": "56d489f9-ce00-45eb-ae22-ddb327f4a5ed",
        "colab": {
          "base_uri": "https://localhost:8080/"
        }
      },
      "execution_count": null,
      "outputs": [
        {
          "output_type": "execute_result",
          "data": {
            "text/plain": [
              "308"
            ]
          },
          "metadata": {},
          "execution_count": 40
        }
      ]
    },
    {
      "cell_type": "code",
      "execution_count": null,
      "metadata": {
        "colab": {
          "base_uri": "https://localhost:8080/",
          "height": 295
        },
        "id": "YJRtbMMefbk0",
        "outputId": "80122179-e4ee-4805-cb1c-3d3f47c41eaa"
      },
      "outputs": [
        {
          "output_type": "display_data",
          "data": {
            "text/plain": [
              "<Figure size 432x288 with 2 Axes>"
            ],
            "image/png": "[encoded data removed]"
          },
          "metadata": {
            "needs_background": "light"
          }
        }
      ],
      "source": [
        "librosa.display.specshow(padded_mel[1000], x_axis='time', y_axis='mel')\n",
        "plt.title('Mel-Scaled')\n",
        "plt.colorbar()\n",
        "plt.show()"
      ]
    },
    {
      "cell_type": "code",
      "execution_count": null,
      "metadata": {
        "colab": {
          "base_uri": "https://localhost:8080/",
          "height": 295
        },
        "id": "CB5hnvfBg4CU",
        "outputId": "5ed2b8db-29d3-41f8-d0ba-d7b0f24d8900"
      },
      "outputs": [
        {
          "output_type": "display_data",
          "data": {
            "text/plain": [
              "<Figure size 432x288 with 2 Axes>"
            ],
            "image/png": "[encoded data removed]"
          },
          "metadata": {
            "needs_background": "light"
          }
        }
      ],
      "source": [
        "librosa.display.specshow(padded_mfcc[0], x_axis='time', y_axis='mel')\n",
        "plt.title('Mel-Scaled')\n",
        "plt.colorbar()\n",
        "plt.show()"
      ]
    },
    {
      "cell_type": "code",
      "execution_count": null,
      "metadata": {
        "id": "up8uxphabQJN"
      },
      "outputs": [],
      "source": [
        "X_mfcc = np.array(padded_mfcc)\n",
        "X_mel = np.array(padded_mel)\n",
        "y = np.array(label)\n",
        "\n",
        "np.save('X_mfcc', X_mfcc)\n",
        "np.save('X_mel', X_mel)\n",
        "np.save('y', y)"
      ]
    },
    {
      "cell_type": "code",
      "execution_count": null,
      "metadata": {
        "colab": {
          "base_uri": "https://localhost:8080/"
        },
        "id": "CAe476zzezeO",
        "outputId": "7c2adf11-006a-4951-bc9f-0c8d0a4d0c4d"
      },
      "outputs": [
        {
          "output_type": "stream",
          "name": "stdout",
          "text": [
            "Mounted at /content/drive\n"
          ]
        }
      ],
      "source": [
        "from google.colab import drive\n",
        "drive.mount('/content/drive')"
      ]
    },
    {
      "cell_type": "code",
      "execution_count": null,
      "metadata": {
        "id": "hjnlm50ch6Nb"
      },
      "outputs": [],
      "source": [
        "! mv X_mel.npy X_mfcc.npy y.npy drive/MyDrive/SER"
      ]
    },
    {
      "cell_type": "code",
      "execution_count": null,
      "metadata": {
        "id": "JaGrIRLPiRqI"
      },
      "outputs": [],
      "source": []
    },
    {
      "cell_type": "code",
      "source": [
        "# test -savees"
      ],
      "metadata": {
        "id": "aq7rp90Q2IZP"
      },
      "execution_count": null,
      "outputs": []
    },
    {
      "cell_type": "code",
      "source": [
        "path_list = glob.glob('/content/ALL/**')\n",
        "\n",
        "emotion_list = [(list((x.split('.')[0]).split('_')[1])[0]) for x in path_list]\n",
        "test_df = pd.DataFrame({'path': path_list, 'emotion': emotion_list})"
      ],
      "metadata": {
        "id": "9-cw1QE62OuD"
      },
      "execution_count": null,
      "outputs": []
    },
    {
      "cell_type": "code",
      "source": [
        "mfcc = []\n",
        "mel = []\n",
        "label = []\n",
        "\n",
        "for idx, row in test_df.iterrows():\n",
        "  y, sr = load_wav(row['path'])\n",
        "\n",
        "  ex_mfcc = extract_mfcc(y, 13)\n",
        "  ex_mel = extract_mel(y, 128, 2048, 512)\n",
        "\n",
        "  if max_mfcc_frame < ex_mfcc.shape[1]:\n",
        "    continue\n",
        "\n",
        "  if max_mel_frame < ex_mel.shape[1]:\n",
        "    continue\n",
        "\n",
        "  mfcc.append(ex_mfcc)\n",
        "  mel.append(ex_mel)\n",
        "\n",
        "  emo = row['emotion'] \n",
        "  \n",
        "  if emo == 'a':\n",
        "    emo = 5\n",
        "  elif emo == 'd':\n",
        "    emo = 7\n",
        "  elif emo == 'f':\n",
        "    emo = 6\n",
        "  elif emo == 'h':\n",
        "    emo = 3\n",
        "  elif emo == 'n':\n",
        "    emo = 1\n",
        "  elif emo == 'sa':\n",
        "    emo = 4\n",
        "  elif emo == 'su':\n",
        "    emo = 8\n",
        "\n",
        "  label.append(emo)\n",
        "\n",
        "padded_mfcc = add_padding(mfcc, max_mfcc_frame)\n",
        "padded_mel = add_padding(mel, max_mel_frame)"
      ],
      "metadata": {
        "id": "7VpEl-MS2IW8"
      },
      "execution_count": null,
      "outputs": []
    },
    {
      "cell_type": "code",
      "source": [
        "X_mfcc = np.array(padded_mfcc)\n",
        "X_mel = np.array(padded_mel)\n",
        "y = np.array(label)\n",
        "\n",
        "np.save('SAVEES_X_mfcc', X_mfcc)\n",
        "np.save('SAVEES_X_mel', X_mel)\n",
        "np.save('SAVEES_y', y)"
      ],
      "metadata": {
        "id": "0CLSEvKG39NI"
      },
      "execution_count": null,
      "outputs": []
    },
    {
      "cell_type": "code",
      "source": [
        "! mv SAVEES_X_mel.npy SAVEES_X_mfcc.npy SAVEES_y.npy drive/MyDrive/SER"
      ],
      "metadata": {
        "id": "JCWDyKMZ4o-n"
      },
      "execution_count": null,
      "outputs": []
    },
    {
      "cell_type": "code",
      "source": [
        "# test tess"
      ],
      "metadata": {
        "id": "q5SwhuN34zGj"
      },
      "execution_count": null,
      "outputs": []
    },
    {
      "cell_type": "code",
      "source": [
        "path_list = glob.glob('/content/TESS Toronto emotional speech set data/**/**')\n",
        "\n",
        "emotion_list = [((x.split('.')[0]).split('/')[-1].split('_')[-1]) for x in path_list]\n",
        "test_df = pd.DataFrame({'path': path_list, 'emotion': emotion_list})"
      ],
      "metadata": {
        "id": "gqKoYXBW47H3"
      },
      "execution_count": null,
      "outputs": []
    },
    {
      "cell_type": "code",
      "source": [
        "mfcc = []\n",
        "mel = []\n",
        "label = []\n",
        "\n",
        "for idx, row in test_df.iterrows():\n",
        "  y, sr = load_wav(row['path'], stop=160000)\n",
        "\n",
        "  ex_mfcc = extract_mfcc(y, 13)\n",
        "  ex_mel = extract_mel(y, 128, 2048, 512)\n",
        "\n",
        "  if max_mfcc_frame < ex_mfcc.shape[1]:\n",
        "    continue\n",
        "\n",
        "  if max_mel_frame < ex_mel.shape[1]:\n",
        "    continue\n",
        "\n",
        "  mfcc.append(ex_mfcc)\n",
        "  mel.append(ex_mel)\n",
        "\n",
        "  emo = row['emotion'] \n",
        "\n",
        "  if emo == 'sad':\n",
        "    emo = 4\n",
        "  elif emo == 'neutral':\n",
        "    emo = 1\n",
        "  elif emo == 'disgust':\n",
        "    emo = 7\n",
        "  elif emo == 'happy':\n",
        "    emo = 3\n",
        "  elif emo == 'angry':\n",
        "    emo = 5\n",
        "  elif emo == 'fear':\n",
        "    emo = 6\n",
        "  elif emo == 'ps':\n",
        "    emo = 8\n",
        "\n",
        "  label.append(emo)\n",
        "\n",
        "padded_mfcc = add_padding(mfcc, max_mfcc_frame)\n",
        "padded_mel = add_padding(mel, max_mel_frame)"
      ],
      "metadata": {
        "id": "XjAzRgMp5AAl"
      },
      "execution_count": null,
      "outputs": []
    },
    {
      "cell_type": "code",
      "source": [
        "X_mfcc = np.array(padded_mfcc)\n",
        "X_mel = np.array(padded_mel)\n",
        "y = np.array(label)\n",
        "\n",
        "np.save('TESS_X_mfcc', X_mfcc)\n",
        "np.save('TESS_X_mel', X_mel)\n",
        "np.save('TESS_y', y)"
      ],
      "metadata": {
        "id": "6CNJRHOk6_l3"
      },
      "execution_count": null,
      "outputs": []
    },
    {
      "cell_type": "code",
      "source": [
        "! mv TESS_X_mel.npy TESS_X_mfcc.npy TESS_y.npy drive/MyDrive/SER"
      ],
      "metadata": {
        "id": "adhEBHgy7GMj"
      },
      "execution_count": null,
      "outputs": []
    },
    {
      "cell_type": "code",
      "source": [],
      "metadata": {
        "id": "bC0bY1zTA-rT"
      },
      "execution_count": null,
      "outputs": []
    }
  ],
  "metadata": {
    "colab": {
      "provenance": [],
      "authorship_tag": "ABX9TyOQkh07rh2Bnc2pOutE4qUt",
      "include_colab_link": true
    },
    "kernelspec": {
      "display_name": "Python 3",
      "name": "python3"
    },
    "language_info": {
      "name": "python"
    }
  },
  "nbformat": 4,
  "nbformat_minor": 0
}