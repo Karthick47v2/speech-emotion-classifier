{
  "cells": [
    {
      "cell_type": "markdown",
      "metadata": {
        "id": "view-in-github",
        "colab_type": "text"
      },
      "source": [
        "<a href=\"https://colab.research.google.com/github/Karthick47v2/speech-emotion-classifier/blob/main/feature_extraction.ipynb\" target=\"_parent\"><img src=\"https://colab.research.google.com/assets/colab-badge.svg\" alt=\"Open In Colab\"/></a>"
      ]
    },
    {
      "cell_type": "code",
      "execution_count": null,
      "metadata": {
        "id": "3UFPW2Dnget7"
      },
      "outputs": [],
      "source": [
        "! pip install kaggle\n",
        "\n",
        "! mkdir ~/.kaggle \n",
        "! cp kaggle.json ~/.kaggle/\n",
        "! chmod 600 ~/.kaggle/kaggle.json\n",
        "\n",
        "! kaggle datasets download uwrfkaggler/ravdess-emotional-speech-audio\n",
        "! kaggle datasets download ejlok1/surrey-audiovisual-expressed-emotion-savee\n",
        "! kaggle datasets download ejlok1/toronto-emotional-speech-set-tess\n",
        "\n",
        "! unzip ravdess-emotional-speech-audio\n",
        "! unzip surrey-audiovisual-expressed-emotion-savee\n",
        "! unzip toronto-emotional-speech-set-tess"
      ]
    },
    {
      "cell_type": "code",
      "execution_count": 2,
      "metadata": {
        "id": "8qwthWHlg58y"
      },
      "outputs": [],
      "source": [
        "import glob\n",
        "import pandas as pd\n",
        "import numpy as np\n",
        "import random\n",
        "import cv2\n",
        "import librosa \n",
        "import librosa.display\n",
        "import matplotlib.pyplot as plt\n",
        "\n",
        "import IPython.display as ipd"
      ]
    },
    {
      "cell_type": "code",
      "execution_count": null,
      "metadata": {
        "id": "AYZxgrn9g_Fo"
      },
      "outputs": [],
      "source": [
        "# 1 - neutral \n",
        "# 2 - calm \n",
        "# 3 - happy\n",
        "# 4 - sad\n",
        "# 5 - angry\n",
        "# 6 - fear\n",
        "# 7 - disgust \n",
        "# 8 - surprise\n",
        "\n",
        "# NOT NOWWWWWWWWW\n",
        "# Calm, Happy, Surprise as POSTITIVE (1)  (2,3,8)\n",
        "# Sad Fear Disgust Neutral as NEGATIVE (0) (1,4,6,7)\n",
        "# drop Angry\n",
        "\n",
        "# all are 48000 Hz\n",
        "# mono"
      ]
    },
    {
      "cell_type": "code",
      "execution_count": 24,
      "metadata": {
        "id": "3p_ru43lhg7O"
      },
      "outputs": [],
      "source": [
        "r_path_list = glob.glob('/content/Actor_*/**')\n",
        "r_emotion_list = [int((x.split('.')[0]).split('-')[2]) for x in r_path_list]\n",
        "r_df = pd.DataFrame({'path': r_path_list, 'emotion': r_emotion_list})\n",
        "\n",
        "s_path_list = glob.glob('/content/ALL/**')\n",
        "s_emotion_list = [(list((x.split('.')[0]).split('_')[1])[0]) + (list((x.split('.')[0]).split('_')[1])[1] if list((x.split('.')[0]).split('_')[1])[0] == 's' else '0') for x in s_path_list]\n",
        "s_df = pd.DataFrame({'path': s_path_list, 'emotion': s_emotion_list})\n",
        "\n",
        "t_path_list = glob.glob('/content/TESS Toronto emotional speech set data/**/**')\n",
        "t_emotion_list = [((x.split('.')[0]).split('/')[-1].split('_')[-1]) for x in t_path_list]\n",
        "t_df = pd.DataFrame({'path': t_path_list, 'emotion': t_emotion_list})"
      ]
    },
    {
      "cell_type": "code",
      "source": [
        "r_df"
      ],
      "metadata": {
        "id": "xenPFGm7jC5b"
      },
      "execution_count": null,
      "outputs": []
    },
    {
      "cell_type": "code",
      "source": [
        "s_df"
      ],
      "metadata": {
        "id": "RlRmJZjXjHSm"
      },
      "execution_count": null,
      "outputs": []
    },
    {
      "cell_type": "code",
      "source": [
        "t_df"
      ],
      "metadata": {
        "id": "f7n7rhmtjJJm"
      },
      "execution_count": null,
      "outputs": []
    },
    {
      "cell_type": "code",
      "source": [
        "s_df['emotion'] = s_df['emotion'].replace(['a0', 'd0', 'f0', 'h0', 'n0', 'sa', 'su'], [5, 7, 6, 3, 1, 4, 8])\n",
        "t_df['emotion'] = t_df['emotion'].replace(['angry', 'disgust', 'fear', 'happy', 'neutral', 'ps', 'sad'], [5, 7, 6, 3, 1, 8, 4])"
      ],
      "metadata": {
        "id": "Pn5J6Do2lVrc"
      },
      "execution_count": 25,
      "outputs": []
    },
    {
      "cell_type": "code",
      "source": [
        "df = pd.concat([r_df, s_df, t_df])"
      ],
      "metadata": {
        "id": "B6BKtNNTmJbo"
      },
      "execution_count": 26,
      "outputs": []
    },
    {
      "cell_type": "code",
      "source": [
        "df['emotion'].value_counts()"
      ],
      "metadata": {
        "id": "lSh7YMYJptrU",
        "outputId": "23738a4a-04bb-42d2-b8b7-9585b8a33398",
        "colab": {
          "base_uri": "https://localhost:8080/"
        }
      },
      "execution_count": 28,
      "outputs": [
        {
          "output_type": "execute_result",
          "data": {
            "text/plain": [
              "4    652\n",
              "6    652\n",
              "7    652\n",
              "5    652\n",
              "8    652\n",
              "3    652\n",
              "1    616\n",
              "2    192\n",
              "Name: emotion, dtype: int64"
            ]
          },
          "metadata": {},
          "execution_count": 28
        }
      ]
    },
    {
      "cell_type": "code",
      "execution_count": 29,
      "metadata": {
        "id": "mPXu7y90h5MD"
      },
      "outputs": [],
      "source": [
        "wav_len = []\n",
        "\n",
        "for path in df['path']:\n",
        "  y, sr = librosa.load(path, sr=None, mono=True)\n",
        "\n",
        "  wav_len.append(y.shape[0] / sr)\n",
        "\n",
        "df['length'] = wav_len"
      ]
    },
    {
      "cell_type": "code",
      "execution_count": 30,
      "metadata": {
        "id": "Xgcx4o0TmepV",
        "outputId": "10b45088-99bc-43ab-a087-1c3a580ed3f9",
        "colab": {
          "base_uri": "https://localhost:8080/"
        }
      },
      "outputs": [
        {
          "output_type": "execute_result",
          "data": {
            "text/plain": [
              "emotion\n",
              "1    2.582359\n",
              "2    3.795806\n",
              "3    2.631889\n",
              "4    2.973956\n",
              "5    2.611496\n",
              "6    2.415004\n",
              "7    3.026898\n",
              "8    2.608745\n",
              "Name: length, dtype: float64"
            ]
          },
          "metadata": {},
          "execution_count": 30
        }
      ],
      "source": [
        "df.groupby(['emotion'])['length'].mean()"
      ]
    },
    {
      "cell_type": "code",
      "execution_count": 31,
      "metadata": {
        "id": "FMt2YUkClLcb",
        "outputId": "a5262fd1-6d5e-44a3-860b-7b50f480113b",
        "colab": {
          "base_uri": "https://localhost:8080/"
        }
      },
      "outputs": [
        {
          "output_type": "execute_result",
          "data": {
            "text/plain": [
              "4    652\n",
              "6    652\n",
              "7    652\n",
              "5    652\n",
              "8    652\n",
              "3    652\n",
              "1    616\n",
              "2    192\n",
              "Name: emotion, dtype: int64"
            ]
          },
          "metadata": {},
          "execution_count": 31
        }
      ],
      "source": [
        "df['emotion'].value_counts()"
      ]
    },
    {
      "cell_type": "code",
      "execution_count": null,
      "metadata": {
        "id": "CzMQGAvRoFE5"
      },
      "outputs": [],
      "source": []
    },
    {
      "cell_type": "code",
      "execution_count": null,
      "metadata": {
        "id": "Upk89JzfA8CR"
      },
      "outputs": [],
      "source": []
    },
    {
      "cell_type": "code",
      "execution_count": null,
      "metadata": {
        "id": "hqjKIu_qDScu"
      },
      "outputs": [],
      "source": [
        "df.head()"
      ]
    },
    {
      "cell_type": "code",
      "execution_count": null,
      "metadata": {
        "id": "xXmpcn_BFBel"
      },
      "outputs": [],
      "source": [
        "y, sr = librosa.load(df['path'][0], sr=None, mono=True)\n",
        "\n",
        "print(row['emotion'])\n",
        "print(row['length'])"
      ]
    },
    {
      "cell_type": "code",
      "execution_count": null,
      "metadata": {
        "id": "ppfzGJIGB9HR"
      },
      "outputs": [],
      "source": [
        "plt.figure(figsize=(12,4))\n",
        "librosa.display.waveshow(y, sr=sr)\n",
        "plt.title('waveform')\n",
        "plt.show()"
      ]
    },
    {
      "cell_type": "code",
      "execution_count": null,
      "metadata": {
        "id": "gbTKHCirGIKu"
      },
      "outputs": [],
      "source": [
        "trimmed_y, idx = librosa.effects.trim(y, top_db=50) \n",
        "librosa.display.waveshow(trimmed_y, sr=sr)\n",
        "plt.title('trimmed waveform')\n",
        "plt.show()"
      ]
    },
    {
      "cell_type": "code",
      "execution_count": null,
      "metadata": {
        "id": "JxaDS4xEGjJJ"
      },
      "outputs": [],
      "source": [
        "n_fft = 2048\n",
        "hop_length = 512\n",
        "\n",
        "# normalize\n",
        "normalized_y = librosa.util.normalize(trimmed_y)\n",
        "# short-term fourier transform\n",
        "stft = librosa.core.stft(normalized_y, n_fft=n_fft, hop_length=hop_length)\n",
        "# log scale\n",
        "db = librosa.amplitude_to_db(abs(stft))\n",
        "\n",
        "librosa.display.specshow(db, x_axis='time', y_axis='log')\n",
        "plt.title('STFT')\n",
        "plt.colorbar()\n",
        "plt.show()"
      ]
    },
    {
      "cell_type": "code",
      "execution_count": null,
      "metadata": {
        "id": "XfDH1qWoIwTO"
      },
      "outputs": [],
      "source": [
        "# mfcc\n",
        "mfcc = librosa.feature.mfcc(normalized_y, sr, n_mfcc=13)\n",
        "\n",
        "librosa.display.specshow(mfcc, x_axis='time', y_axis='mel')\n",
        "plt.title('MFCC')\n",
        "plt.colorbar()\n",
        "plt.show()"
      ]
    },
    {
      "cell_type": "code",
      "execution_count": null,
      "metadata": {
        "id": "DKJmRHEYNONg"
      },
      "outputs": [],
      "source": [
        "# mel scaled spectogram\n",
        "# mel = librosa.feature.melspectrogram(normalized_y, sr=sr, n_mels=128)\n",
        "mel = librosa.feature.melspectrogram(S=stft, n_mels=128)\n",
        "\n",
        "mel_db = librosa.amplitude_to_db(abs(mel))\n",
        "\n",
        "# normalized_mel = librosa.util.normalize(mel_db)\n",
        "\n",
        "librosa.display.specshow(mel_db, x_axis='time', y_axis='mel')\n",
        "plt.title('Mel-Scaled')\n",
        "plt.colorbar()\n",
        "plt.show()"
      ]
    },
    {
      "cell_type": "code",
      "execution_count": null,
      "metadata": {
        "id": "NV8qnro2gB6N"
      },
      "outputs": [],
      "source": [
        "mel = librosa.feature.melspectrogram(normalized_y, sr=sr, n_mels=128)\n",
        "# mel = librosa.feature.melspectrogram(S=stft, n_mels=128)\n",
        "\n",
        "mel_db = librosa.amplitude_to_db(abs(mel))\n",
        "\n",
        "# normalized_mel = librosa.util.normalize(mel_db)\n",
        "\n",
        "librosa.display.specshow(mel_db, x_axis='time', y_axis='mel')\n",
        "plt.title('Mel-Scaled')\n",
        "plt.colorbar()\n",
        "plt.show()"
      ]
    },
    {
      "cell_type": "code",
      "execution_count": null,
      "metadata": {
        "id": "ZvCBNuJXRIMR"
      },
      "outputs": [],
      "source": [
        "# feature extraction"
      ]
    },
    {
      "cell_type": "code",
      "execution_count": 32,
      "metadata": {
        "id": "b2JSZ6-bcB26"
      },
      "outputs": [],
      "source": [
        "def load_wav(path, stop=160000):\n",
        "  # 22.05 kHz, 16 bit\n",
        "  y, sr = librosa.load(path, mono=True)\n",
        "  trimmed_y, idx = librosa.effects.trim(y[:stop], top_db=50) \n",
        "  normalized_y = librosa.util.normalize(trimmed_y)\n",
        "  return normalized_y, sr"
      ]
    },
    {
      "cell_type": "code",
      "execution_count": 33,
      "metadata": {
        "id": "LaIliM_6SpbS"
      },
      "outputs": [],
      "source": [
        "def extract_mfcc(y, n_mfcc):\n",
        "  mfcc = librosa.feature.mfcc(y=y, sr=sr, n_mfcc=n_mfcc)\n",
        "  normalized_mfcc = librosa.util.normalize(mfcc)\n",
        "\n",
        "  return normalized_mfcc\n",
        "\n",
        "def extract_mel(y, n_mel, n_fft, hop_length):\n",
        "  stft = librosa.core.stft(y, n_fft=n_fft, hop_length=hop_length)\n",
        "\n",
        "  mel = librosa.feature.melspectrogram(S=stft, n_mels=n_mel)\n",
        "  mel_db = librosa.amplitude_to_db(abs(mel))\n",
        "  normalized_mel = librosa.util.normalize(mel_db)\n",
        "\n",
        "  return normalized_mel"
      ]
    },
    {
      "cell_type": "code",
      "execution_count": 34,
      "metadata": {
        "id": "_j6QEDIFOxHt"
      },
      "outputs": [],
      "source": [
        "# noise\n",
        "\n",
        "def add_noise(y,s_noise=0.005, e_noise=0.02):\n",
        "  noise = random.uniform(s_noise, e_noise)\n",
        "  noised_y = y + np.random.rand(len(y)) * noise\n",
        "\n",
        "  return noised_y"
      ]
    },
    {
      "cell_type": "code",
      "execution_count": 35,
      "metadata": {
        "id": "Y7FdzdSPU5TW"
      },
      "outputs": [],
      "source": [
        "def add_padding(x, padding):\n",
        "  padded_x = []\n",
        "\n",
        "  for i in x:\n",
        "    sh = len(i[0])\n",
        "\n",
        "    if padding > 0 & sh < padding:\n",
        "      x = padding - sh\n",
        "      l_pad = x // 2\n",
        "      r_pad = x - l_pad\n",
        "      i = np.pad(i, pad_width=((0,0), (l_pad,r_pad)), mode='constant')\n",
        "\n",
        "    padded_x.append(i)\n",
        "\n",
        "  return padded_x"
      ]
    },
    {
      "cell_type": "code",
      "execution_count": 36,
      "metadata": {
        "id": "4GVBxerZNW9A"
      },
      "outputs": [],
      "source": [
        "mfcc = []\n",
        "mel = []\n",
        "label = []\n",
        "max_mfcc_frame = 0\n",
        "max_mel_frame = 0\n",
        "\n",
        "add_aug = False\n",
        "\n",
        "for idx, row in df.iterrows():\n",
        "  y, sr = load_wav(row['path'])\n",
        "\n",
        "  ex_mfcc = extract_mfcc(y, 13)\n",
        "  ex_mel = extract_mel(y, 128, 2048, 512)\n",
        "\n",
        "  mfcc.append(ex_mfcc)\n",
        "  mel.append(ex_mel)\n",
        "  label.append(row['emotion'])\n",
        "\n",
        "  if add_aug:\n",
        "    noised_y = add_noise(y)\n",
        "\n",
        "    for i in range(3 if row['emotion'] == 1 else 1):\n",
        "      if row['emotion'] == 1:\n",
        "        noised_y = add_noise(y, s_noise=0.005 + 0.005 * i, e_noise=0.01 + 0.005 * i)\n",
        "      \n",
        "      aug_mfcc = extract_mfcc(noised_y, 13)\n",
        "      aug_mel = extract_mel(noised_y, 128, 2048, 512)\n",
        "\n",
        "      mfcc.append(aug_mfcc)\n",
        "      mel.append(aug_mel)\n",
        "      label.append(row['emotion'])\n",
        "  \n",
        "\n",
        "  if max_mfcc_frame < ex_mfcc.shape[1]:\n",
        "    max_mfcc_frame = ex_mfcc.shape[1]\n",
        "\n",
        "  if max_mel_frame < ex_mel.shape[1]:\n",
        "    max_mel_frame = ex_mel.shape[1]\n",
        "\n",
        "padded_mfcc = add_padding(mfcc, max_mfcc_frame)\n",
        "padded_mel = add_padding(mel, max_mel_frame)"
      ]
    },
    {
      "cell_type": "code",
      "source": [
        "max_mel_frame"
      ],
      "metadata": {
        "id": "RfJFXTwBt3K0",
        "outputId": "56d489f9-ce00-45eb-ae22-ddb327f4a5ed",
        "colab": {
          "base_uri": "https://localhost:8080/"
        }
      },
      "execution_count": 40,
      "outputs": [
        {
          "output_type": "execute_result",
          "data": {
            "text/plain": [
              "308"
            ]
          },
          "metadata": {},
          "execution_count": 40
        }
      ]
    },
    {
      "cell_type": "code",
      "execution_count": 39,
      "metadata": {
        "colab": {
          "base_uri": "https://localhost:8080/",
          "height": 295
        },
        "id": "YJRtbMMefbk0",
        "outputId": "80122179-e4ee-4805-cb1c-3d3f47c41eaa"
      },
      "outputs": [
        {
          "output_type": "display_data",
          "data": {
            "text/plain": [
              "<Figure size 432x288 with 2 Axes>"
            ],
            "image/png": "[encoded data removed]"
          },
          "metadata": {
            "needs_background": "light"
          }
        }
      ],
      "source": [
        "librosa.display.specshow(padded_mel[1000], x_axis='time', y_axis='mel')\n",
        "plt.title('Mel-Scaled')\n",
        "plt.colorbar()\n",
        "plt.show()"
      ]
    },
    {
      "cell_type": "code",
      "execution_count": 38,
      "metadata": {
        "colab": {
          "base_uri": "https://localhost:8080/",
          "height": 295
        },
        "id": "CB5hnvfBg4CU",
        "outputId": "5ed2b8db-29d3-41f8-d0ba-d7b0f24d8900"
      },
      "outputs": [
        {
          "output_type": "display_data",
          "data": {
            "text/plain": [
              "<Figure size 432x288 with 2 Axes>"
            ],
            "image/png": "[encoded data removed]"
          },
          "metadata": {
            "needs_background": "light"
          }
        }
      ],
      "source": [
        "librosa.display.specshow(padded_mfcc[0], x_axis='time', y_axis='mel')\n",
        "plt.title('Mel-Scaled')\n",
        "plt.colorbar()\n",
        "plt.show()"
      ]
    },
    {
      "cell_type": "code",
      "execution_count": 41,
      "metadata": {
        "id": "up8uxphabQJN"
      },
      "outputs": [],
      "source": [
        "X_mfcc = np.array(padded_mfcc)\n",
        "X_mel = np.array(padded_mel)\n",
        "y = np.array(label)\n",
        "\n",
        "np.save('X_mfcc', X_mfcc)\n",
        "np.save('X_mel', X_mel)\n",
        "np.save('y', y)"
      ]
    },
    {
      "cell_type": "code",
      "execution_count": 42,
      "metadata": {
        "colab": {
          "base_uri": "https://localhost:8080/"
        },
        "id": "CAe476zzezeO",
        "outputId": "7c2adf11-006a-4951-bc9f-0c8d0a4d0c4d"
      },
      "outputs": [
        {
          "output_type": "stream",
          "name": "stdout",
          "text": [
            "Mounted at /content/drive\n"
          ]
        }
      ],
      "source": [
        "from google.colab import drive\n",
        "drive.mount('/content/drive')"
      ]
    },
    {
      "cell_type": "code",
      "execution_count": 43,
      "metadata": {
        "id": "hjnlm50ch6Nb"
      },
      "outputs": [],
      "source": [
        "! mv X_mel.npy X_mfcc.npy y.npy drive/MyDrive/SER"
      ]
    },
    {
      "cell_type": "code",
      "execution_count": null,
      "metadata": {
        "id": "JaGrIRLPiRqI"
      },
      "outputs": [],
      "source": []
    },
    {
      "cell_type": "code",
      "source": [
        "# test -savees"
      ],
      "metadata": {
        "id": "aq7rp90Q2IZP"
      },
      "execution_count": null,
      "outputs": []
    },
    {
      "cell_type": "code",
      "source": [
        "path_list = glob.glob('/content/ALL/**')\n",
        "\n",
        "emotion_list = [(list((x.split('.')[0]).split('_')[1])[0]) for x in path_list]\n",
        "test_df = pd.DataFrame({'path': path_list, 'emotion': emotion_list})"
      ],
      "metadata": {
        "id": "9-cw1QE62OuD"
      },
      "execution_count": null,
      "outputs": []
    },
    {
      "cell_type": "code",
      "source": [
        "mfcc = []\n",
        "mel = []\n",
        "label = []\n",
        "\n",
        "for idx, row in test_df.iterrows():\n",
        "  y, sr = load_wav(row['path'])\n",
        "\n",
        "  ex_mfcc = extract_mfcc(y, 13)\n",
        "  ex_mel = extract_mel(y, 128, 2048, 512)\n",
        "\n",
        "  if max_mfcc_frame < ex_mfcc.shape[1]:\n",
        "    continue\n",
        "\n",
        "  if max_mel_frame < ex_mel.shape[1]:\n",
        "    continue\n",
        "\n",
        "  mfcc.append(ex_mfcc)\n",
        "  mel.append(ex_mel)\n",
        "\n",
        "  emo = row['emotion'] \n",
        "  \n",
        "  if emo == 'a':\n",
        "    emo = 5\n",
        "  elif emo == 'd':\n",
        "    emo = 7\n",
        "  elif emo == 'f':\n",
        "    emo = 6\n",
        "  elif emo == 'h':\n",
        "    emo = 3\n",
        "  elif emo == 'n':\n",
        "    emo = 1\n",
        "  elif emo == 'sa':\n",
        "    emo = 4\n",
        "  elif emo == 'su':\n",
        "    emo = 8\n",
        "\n",
        "  label.append(emo)\n",
        "\n",
        "padded_mfcc = add_padding(mfcc, max_mfcc_frame)\n",
        "padded_mel = add_padding(mel, max_mel_frame)"
      ],
      "metadata": {
        "id": "7VpEl-MS2IW8"
      },
      "execution_count": null,
      "outputs": []
    },
    {
      "cell_type": "code",
      "source": [
        "X_mfcc = np.array(padded_mfcc)\n",
        "X_mel = np.array(padded_mel)\n",
        "y = np.array(label)\n",
        "\n",
        "np.save('SAVEES_X_mfcc', X_mfcc)\n",
        "np.save('SAVEES_X_mel', X_mel)\n",
        "np.save('SAVEES_y', y)"
      ],
      "metadata": {
        "id": "0CLSEvKG39NI"
      },
      "execution_count": null,
      "outputs": []
    },
    {
      "cell_type": "code",
      "source": [
        "! mv SAVEES_X_mel.npy SAVEES_X_mfcc.npy SAVEES_y.npy drive/MyDrive/SER"
      ],
      "metadata": {
        "id": "JCWDyKMZ4o-n"
      },
      "execution_count": null,
      "outputs": []
    },
    {
      "cell_type": "code",
      "source": [
        "# test tess"
      ],
      "metadata": {
        "id": "q5SwhuN34zGj"
      },
      "execution_count": null,
      "outputs": []
    },
    {
      "cell_type": "code",
      "source": [
        "path_list = glob.glob('/content/TESS Toronto emotional speech set data/**/**')\n",
        "\n",
        "emotion_list = [((x.split('.')[0]).split('/')[-1].split('_')[-1]) for x in path_list]\n",
        "test_df = pd.DataFrame({'path': path_list, 'emotion': emotion_list})"
      ],
      "metadata": {
        "id": "gqKoYXBW47H3"
      },
      "execution_count": null,
      "outputs": []
    },
    {
      "cell_type": "code",
      "source": [
        "mfcc = []\n",
        "mel = []\n",
        "label = []\n",
        "\n",
        "for idx, row in test_df.iterrows():\n",
        "  y, sr = load_wav(row['path'], stop=160000)\n",
        "\n",
        "  ex_mfcc = extract_mfcc(y, 13)\n",
        "  ex_mel = extract_mel(y, 128, 2048, 512)\n",
        "\n",
        "  if max_mfcc_frame < ex_mfcc.shape[1]:\n",
        "    continue\n",
        "\n",
        "  if max_mel_frame < ex_mel.shape[1]:\n",
        "    continue\n",
        "\n",
        "  mfcc.append(ex_mfcc)\n",
        "  mel.append(ex_mel)\n",
        "\n",
        "  emo = row['emotion'] \n",
        "\n",
        "  if emo == 'sad':\n",
        "    emo = 4\n",
        "  elif emo == 'neutral':\n",
        "    emo = 1\n",
        "  elif emo == 'disgust':\n",
        "    emo = 7\n",
        "  elif emo == 'happy':\n",
        "    emo = 3\n",
        "  elif emo == 'angry':\n",
        "    emo = 5\n",
        "  elif emo == 'fear':\n",
        "    emo = 6\n",
        "  elif emo == 'ps':\n",
        "    emo = 8\n",
        "\n",
        "  label.append(emo)\n",
        "\n",
        "padded_mfcc = add_padding(mfcc, max_mfcc_frame)\n",
        "padded_mel = add_padding(mel, max_mel_frame)"
      ],
      "metadata": {
        "id": "XjAzRgMp5AAl"
      },
      "execution_count": null,
      "outputs": []
    },
    {
      "cell_type": "code",
      "source": [
        "X_mfcc = np.array(padded_mfcc)\n",
        "X_mel = np.array(padded_mel)\n",
        "y = np.array(label)\n",
        "\n",
        "np.save('TESS_X_mfcc', X_mfcc)\n",
        "np.save('TESS_X_mel', X_mel)\n",
        "np.save('TESS_y', y)"
      ],
      "metadata": {
        "id": "6CNJRHOk6_l3"
      },
      "execution_count": null,
      "outputs": []
    },
    {
      "cell_type": "code",
      "source": [
        "! mv TESS_X_mel.npy TESS_X_mfcc.npy TESS_y.npy drive/MyDrive/SER"
      ],
      "metadata": {
        "id": "adhEBHgy7GMj"
      },
      "execution_count": null,
      "outputs": []
    },
    {
      "cell_type": "code",
      "source": [],
      "metadata": {
        "id": "bC0bY1zTA-rT"
      },
      "execution_count": null,
      "outputs": []
    }
  ],
  "metadata": {
    "colab": {
      "provenance": [],
      "authorship_tag": "ABX9TyOTz6VTJvCt5QSMvZ6+7dff",
      "include_colab_link": true
    },
    "kernelspec": {
      "display_name": "Python 3",
      "name": "python3"
    },
    "language_info": {
      "name": "python"
    }
  },
  "nbformat": 4,
  "nbformat_minor": 0
}