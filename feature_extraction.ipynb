{
  "cells": [
    {
      "cell_type": "markdown",
      "metadata": {
        "id": "view-in-github",
        "colab_type": "text"
      },
      "source": [
        "<a href=\"https://colab.research.google.com/github/Karthick47v2/speech-emotion-classifier/blob/main/feature_extraction.ipynb\" target=\"_parent\"><img src=\"https://colab.research.google.com/assets/colab-badge.svg\" alt=\"Open In Colab\"/></a>"
      ]
    },
    {
      "cell_type": "code",
      "execution_count": null,
      "metadata": {
        "id": "3UFPW2Dnget7"
      },
      "outputs": [],
      "source": [
        "! pip install kaggle\n",
        "\n",
        "! mkdir ~/.kaggle \n",
        "! cp kaggle.json ~/.kaggle/\n",
        "! chmod 600 ~/.kaggle/kaggle.json\n",
        "\n",
        "! kaggle datasets download uwrfkaggler/ravdess-emotional-speech-audio\n",
        "! kaggle datasets download ejlok1/surrey-audiovisual-expressed-emotion-savee\n",
        "! kaggle datasets download ejlok1/toronto-emotional-speech-set-tess\n",
        "\n",
        "! unzip ravdess-emotional-speech-audio\n",
        "! unzip surrey-audiovisual-expressed-emotion-savee\n",
        "! unzip toronto-emotional-speech-set-tess"
      ]
    },
    {
      "cell_type": "code",
      "execution_count": 2,
      "metadata": {
        "id": "8qwthWHlg58y"
      },
      "outputs": [],
      "source": [
        "import glob\n",
        "import pandas as pd\n",
        "import numpy as np\n",
        "import random\n",
        "import librosa \n",
        "import librosa.display\n",
        "import matplotlib.pyplot as plt"
      ]
    },
    {
      "cell_type": "code",
      "execution_count": null,
      "metadata": {
        "id": "AYZxgrn9g_Fo"
      },
      "outputs": [],
      "source": [
        "# 1 - neutral \n",
        "# 2 - calm ## \n",
        "# 3 - happy\n",
        "# 4 - sad\n",
        "# 5 - angry\n",
        "# 6 - fear\n",
        "# 7 - disgust \n",
        "# 8 - surprise"
      ]
    },
    {
      "cell_type": "code",
      "execution_count": 3,
      "metadata": {
        "id": "3p_ru43lhg7O"
      },
      "outputs": [],
      "source": [
        "r_path_list = glob.glob('/content/Actor_*/**')\n",
        "r_emotion_list = [int((x.split('.')[0]).split('-')[2]) for x in r_path_list]\n",
        "r_df = pd.DataFrame({'path': r_path_list, 'emotion': r_emotion_list})\n",
        "\n",
        "s_path_list = glob.glob('/content/ALL/**')\n",
        "s_emotion_list = [(list((x.split('.')[0]).split('_')[1])[0]) + (list((x.split('.')[0]).split('_')[1])[1] if list((x.split('.')[0]).split('_')[1])[0] == 's' else '0') for x in s_path_list]\n",
        "s_df = pd.DataFrame({'path': s_path_list, 'emotion': s_emotion_list})\n",
        "\n",
        "t_path_list = glob.glob('/content/TESS Toronto emotional speech set data/**/**')\n",
        "t_emotion_list = [((x.split('.')[0]).split('/')[-1].split('_')[-1]) for x in t_path_list]\n",
        "t_df = pd.DataFrame({'path': t_path_list, 'emotion': t_emotion_list})"
      ]
    },
    {
      "cell_type": "code",
      "source": [
        "s_df['emotion'] = s_df['emotion'].replace(['a0', 'd0', 'f0', 'h0', 'n0', 'sa', 'su'], [5, 7, 6, 3, 1, 4, 8])\n",
        "t_df['emotion'] = t_df['emotion'].replace(['angry', 'disgust', 'fear', 'happy', 'neutral', 'ps', 'sad'], [5, 7, 6, 3, 1, 8, 4])"
      ],
      "metadata": {
        "id": "Pn5J6Do2lVrc"
      },
      "execution_count": 4,
      "outputs": []
    },
    {
      "cell_type": "code",
      "source": [
        "df = pd.concat([r_df, s_df, t_df], ignore_index=True)\n",
        "df = df[df['emotion'] != 2]"
      ],
      "metadata": {
        "id": "B6BKtNNTmJbo"
      },
      "execution_count": 5,
      "outputs": []
    },
    {
      "cell_type": "code",
      "source": [
        "df['emotion'].value_counts()"
      ],
      "metadata": {
        "id": "lSh7YMYJptrU"
      },
      "execution_count": null,
      "outputs": []
    },
    {
      "cell_type": "code",
      "execution_count": 7,
      "metadata": {
        "id": "mPXu7y90h5MD"
      },
      "outputs": [],
      "source": [
        "wav_len = []\n",
        "\n",
        "for path in df['path']:\n",
        "  y, sr = librosa.load(path, sr=None, mono=True)\n",
        "\n",
        "  wav_len.append(y.shape[0] / sr)\n",
        "\n",
        "df['length'] = wav_len"
      ]
    },
    {
      "cell_type": "code",
      "execution_count": null,
      "metadata": {
        "id": "Xgcx4o0TmepV"
      },
      "outputs": [],
      "source": [
        "df.groupby(['emotion'])['length'].mean()"
      ]
    },
    {
      "cell_type": "code",
      "execution_count": null,
      "metadata": {
        "id": "hqjKIu_qDScu"
      },
      "outputs": [],
      "source": [
        "hist = df.hist()"
      ]
    },
    {
      "cell_type": "markdown",
      "source": [
        "TAKE 4s (4 * 22050 = 88200)"
      ],
      "metadata": {
        "id": "8rc0poPXxDao"
      }
    },
    {
      "cell_type": "code",
      "execution_count": 79,
      "metadata": {
        "id": "xXmpcn_BFBel"
      },
      "outputs": [],
      "source": [
        "y, sr = librosa.load(df['path'][0], mono=True)"
      ]
    },
    {
      "cell_type": "code",
      "execution_count": null,
      "metadata": {
        "id": "ppfzGJIGB9HR"
      },
      "outputs": [],
      "source": [
        "plt.figure(figsize=(12,4))\n",
        "librosa.display.waveshow(y, sr=sr)\n",
        "plt.title('waveform')\n",
        "plt.show()"
      ]
    },
    {
      "cell_type": "code",
      "execution_count": null,
      "metadata": {
        "id": "gbTKHCirGIKu"
      },
      "outputs": [],
      "source": [
        "trimmed_y, idx = librosa.effects.trim(y, top_db=50) \n",
        "librosa.display.waveshow(trimmed_y, sr=sr)\n",
        "plt.title('trimmed waveform')\n",
        "plt.show()"
      ]
    },
    {
      "cell_type": "code",
      "execution_count": null,
      "metadata": {
        "id": "JxaDS4xEGjJJ"
      },
      "outputs": [],
      "source": [
        "# n_fft = 2048\n",
        "# hop_length = 512\n",
        "n_fft = 512\n",
        "hop_length = 128\n",
        "\n",
        "# normalize\n",
        "normalized_y = librosa.util.normalize(trimmed_y)\n",
        "# short-term fourier transform\n",
        "stft = librosa.core.stft(normalized_y, n_fft=n_fft, hop_length=hop_length)\n",
        "# log scale\n",
        "db = librosa.amplitude_to_db(abs(stft))\n",
        "\n",
        "librosa.display.specshow(db, x_axis='time', y_axis='log')\n",
        "plt.title('STFT')\n",
        "plt.colorbar()\n",
        "plt.show()"
      ]
    },
    {
      "cell_type": "code",
      "execution_count": null,
      "metadata": {
        "id": "XfDH1qWoIwTO"
      },
      "outputs": [],
      "source": [
        "# mfcc\n",
        "mfcc = librosa.feature.mfcc(normalized_y, sr, n_mfcc=13)\n",
        "\n",
        "librosa.display.specshow(mfcc, x_axis='time', y_axis='mel')\n",
        "plt.title('MFCC')\n",
        "plt.colorbar()\n",
        "plt.show()"
      ]
    },
    {
      "cell_type": "code",
      "execution_count": null,
      "metadata": {
        "id": "DKJmRHEYNONg"
      },
      "outputs": [],
      "source": [
        "# mel scaled spectogram\n",
        "mel = librosa.feature.melspectrogram(S=stft, n_mels=128)\n",
        "\n",
        "mel_db = librosa.amplitude_to_db(abs(mel))\n",
        "# mel_db = librosa.util.normalize(mel_db)\n",
        "\n",
        "librosa.display.specshow(mel_db, x_axis='time', y_axis='mel')\n",
        "plt.title('Mel-Scaled')\n",
        "plt.colorbar()\n",
        "plt.show()"
      ]
    },
    {
      "cell_type": "code",
      "execution_count": null,
      "metadata": {
        "id": "ZvCBNuJXRIMR"
      },
      "outputs": [],
      "source": [
        "# feature extraction"
      ]
    },
    {
      "cell_type": "code",
      "execution_count": 10,
      "metadata": {
        "id": "b2JSZ6-bcB26"
      },
      "outputs": [],
      "source": [
        "def load_wav(path, stop):\n",
        "  # 22.05 kHz, 16 bit\n",
        "  y, sr = librosa.load(path, mono=True)\n",
        "  trimmed_y, idx = librosa.effects.trim(y, top_db=50) \n",
        "  normalized_y = librosa.util.normalize(trimmed_y)\n",
        "  y_chunks = [normalized_y[i:(i+stop)] for i in range(0, len(normalized_y), stop)]\n",
        "  return y_chunks, sr"
      ]
    },
    {
      "cell_type": "code",
      "execution_count": 11,
      "metadata": {
        "id": "LaIliM_6SpbS"
      },
      "outputs": [],
      "source": [
        "def extract_mfcc(y, sr, n_mfcc, n_fft, hop_length):\n",
        "  mfcc = librosa.feature.mfcc(y=y, sr=sr, n_mfcc=n_mfcc, n_fft=n_fft, hop_length=hop_length)\n",
        "  normalized_mfcc = librosa.util.normalize(mfcc)\n",
        "\n",
        "  return normalized_mfcc\n",
        "\n",
        "def extract_mel(y, n_mel, n_fft, hop_length):\n",
        "  stft = librosa.core.stft(y, n_fft=n_fft, hop_length=hop_length)\n",
        "\n",
        "  mel = librosa.feature.melspectrogram(S=stft, n_mels=n_mel)\n",
        "  mel_db = librosa.amplitude_to_db(abs(mel))\n",
        "  normalized_mel = librosa.util.normalize(mel_db)\n",
        "\n",
        "  return normalized_mel"
      ]
    },
    {
      "cell_type": "code",
      "execution_count": 12,
      "metadata": {
        "id": "_j6QEDIFOxHt"
      },
      "outputs": [],
      "source": [
        "# noise\n",
        "\n",
        "def add_noise(y,s_noise, e_noise):\n",
        "  noise = random.uniform(s_noise, e_noise)\n",
        "  noised_y = y + np.random.rand(len(y)) * noise\n",
        "\n",
        "  return noised_y"
      ]
    },
    {
      "cell_type": "code",
      "execution_count": 13,
      "metadata": {
        "id": "Y7FdzdSPU5TW"
      },
      "outputs": [],
      "source": [
        "def add_padding(x, padding):\n",
        "  padded_x = []\n",
        "\n",
        "  for i in x:\n",
        "    sh = len(i[0])\n",
        "\n",
        "    if padding > 0 & sh < padding:\n",
        "      x = padding - sh\n",
        "      l_pad = x // 2\n",
        "      r_pad = x - l_pad\n",
        "      i = np.pad(i, pad_width=((0,0), (l_pad,r_pad)), mode='constant')\n",
        "\n",
        "    padded_x.append(i)\n",
        "\n",
        "  return padded_x"
      ]
    },
    {
      "cell_type": "code",
      "execution_count": 14,
      "metadata": {
        "id": "4GVBxerZNW9A"
      },
      "outputs": [],
      "source": [
        "mfcc = []\n",
        "mel = []\n",
        "label = []\n",
        "max_mfcc_frame = 0\n",
        "max_mel_frame = 0\n",
        "\n",
        "n_fft = 2048\n",
        "hop_length = 512\n",
        "\n",
        "add_aug = True\n",
        "\n",
        "for idx, row in df.iterrows():\n",
        "  y_chunks, sr = load_wav(row['path'], 88200)\n",
        "\n",
        "  for y in y_chunks:\n",
        "\n",
        "    if len(y) >= n_fft:\n",
        "\n",
        "      ex_mfcc = extract_mfcc(y, sr, 13, n_fft, hop_length)\n",
        "      ex_mel = extract_mel(y, 128, n_fft, hop_length)\n",
        "\n",
        "      mfcc.append(ex_mfcc)\n",
        "      mel.append(ex_mel)\n",
        "      label.append(row['emotion'])\n",
        "\n",
        "      if add_aug:\n",
        "        noised_y = add_noise(y, 0.005, 0.02)\n",
        "          \n",
        "        aug_mfcc = extract_mfcc(noised_y, sr, 13, n_fft, hop_length)\n",
        "        aug_mel = extract_mel(noised_y, 128, n_fft, hop_length)\n",
        "\n",
        "        mfcc.append(aug_mfcc)\n",
        "        mel.append(aug_mel)\n",
        "        label.append(row['emotion'])\n",
        "\n",
        "      if max_mfcc_frame < ex_mfcc.shape[1]:\n",
        "        max_mfcc_frame = ex_mfcc.shape[1]\n",
        "\n",
        "      if max_mel_frame < ex_mel.shape[1]:\n",
        "        max_mel_frame = ex_mel.shape[1]\n",
        "\n",
        "padded_mfcc = add_padding(mfcc, max_mfcc_frame)\n",
        "padded_mel = add_padding(mel, max_mel_frame)"
      ]
    },
    {
      "cell_type": "code",
      "source": [
        "max_mel_frame"
      ],
      "metadata": {
        "id": "RfJFXTwBt3K0",
        "outputId": "d1665587-0ab3-4070-ffa8-a54eb56c0eed",
        "colab": {
          "base_uri": "https://localhost:8080/"
        }
      },
      "execution_count": 19,
      "outputs": [
        {
          "output_type": "execute_result",
          "data": {
            "text/plain": [
              "173"
            ]
          },
          "metadata": {},
          "execution_count": 19
        }
      ]
    },
    {
      "cell_type": "code",
      "source": [
        "np.unique(label, return_counts=True)"
      ],
      "metadata": {
        "colab": {
          "base_uri": "https://localhost:8080/"
        },
        "id": "V3aQsv7n59iC",
        "outputId": "574de37c-4523-459a-c6d3-40bd1b2c0635"
      },
      "execution_count": 20,
      "outputs": [
        {
          "output_type": "execute_result",
          "data": {
            "text/plain": [
              "(array([1, 3, 4, 5, 6, 7, 8]),\n",
              " array([1286, 1350, 1384, 1344, 1354, 1370, 1346]))"
            ]
          },
          "metadata": {},
          "execution_count": 20
        }
      ]
    },
    {
      "cell_type": "code",
      "execution_count": 21,
      "metadata": {
        "colab": {
          "base_uri": "https://localhost:8080/",
          "height": 295
        },
        "id": "YJRtbMMefbk0",
        "outputId": "8c7cf8fd-4ef4-430d-ca9c-e7f5c13b43ac"
      },
      "outputs": [
        {
          "output_type": "display_data",
          "data": {
            "text/plain": [
              "<Figure size 432x288 with 2 Axes>"
            ],
            "image/png": "[encoded data removed]"
          },
          "metadata": {
            "needs_background": "light"
          }
        }
      ],
      "source": [
        "librosa.display.specshow(padded_mel[1000], x_axis='time', y_axis='mel')\n",
        "plt.title('Mel-Scaled')\n",
        "plt.colorbar()\n",
        "plt.show()"
      ]
    },
    {
      "cell_type": "code",
      "execution_count": 22,
      "metadata": {
        "colab": {
          "base_uri": "https://localhost:8080/",
          "height": 295
        },
        "id": "CB5hnvfBg4CU",
        "outputId": "5e5c6b39-3993-421c-fd7a-5603af099b2a"
      },
      "outputs": [
        {
          "output_type": "display_data",
          "data": {
            "text/plain": [
              "<Figure size 432x288 with 2 Axes>"
            ],
            "image/png": "[encoded data removed]"
          },
          "metadata": {
            "needs_background": "light"
          }
        }
      ],
      "source": [
        "librosa.display.specshow(padded_mfcc[0], x_axis='time', y_axis='mel')\n",
        "plt.title('Mel-Scaled')\n",
        "plt.colorbar()\n",
        "plt.show()"
      ]
    },
    {
      "cell_type": "code",
      "execution_count": 23,
      "metadata": {
        "id": "up8uxphabQJN"
      },
      "outputs": [],
      "source": [
        "X_mfcc = np.array(padded_mfcc)\n",
        "X_mel = np.array(padded_mel)\n",
        "y = np.array(label)\n",
        "\n",
        "np.save('X_mfcc_2048', X_mfcc)\n",
        "np.save('X_mel_2048', X_mel)\n",
        "np.save('y_2048', y)"
      ]
    },
    {
      "cell_type": "code",
      "execution_count": 24,
      "metadata": {
        "colab": {
          "base_uri": "https://localhost:8080/"
        },
        "id": "CAe476zzezeO",
        "outputId": "27064d43-be3f-4844-e103-b5e2514b07cb"
      },
      "outputs": [
        {
          "metadata": {
            "tags": null
          },
          "name": "stdout",
          "output_type": "stream",
          "text": [
            "Mounted at /content/drive\n"
          ]
        }
      ],
      "source": [
        "from google.colab import drive\n",
        "drive.mount('/content/drive')"
      ]
    },
    {
      "cell_type": "code",
      "source": [
        "! mv X_mel_2048.npy X_mfcc_2048.npy y_2048.npy drive/MyDrive/SER"
      ],
      "metadata": {
        "id": "njVxNbTW50uY"
      },
      "execution_count": 25,
      "outputs": []
    },
    {
      "cell_type": "code",
      "source": [],
      "metadata": {
        "id": "RHbNiVJZJllQ"
      },
      "execution_count": null,
      "outputs": []
    }
  ],
  "metadata": {
    "colab": {
      "provenance": [],
      "authorship_tag": "ABX9TyPoy/WWMX4aj19MBV2+Hqe2",
      "include_colab_link": true
    },
    "kernelspec": {
      "display_name": "Python 3",
      "name": "python3"
    },
    "language_info": {
      "name": "python"
    }
  },
  "nbformat": 4,
  "nbformat_minor": 0
}