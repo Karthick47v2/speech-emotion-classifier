{
  "nbformat": 4,
  "nbformat_minor": 0,
  "metadata": {
    "colab": {
      "name": "ser_model.ipynb",
      "provenance": [],
      "authorship_tag": "ABX9TyNsks5fthBL02vHBzlSYkRX",
      "include_colab_link": true
    },
    "kernelspec": {
      "name": "python3",
      "display_name": "Python 3"
    },
    "language_info": {
      "name": "python"
    },
    "accelerator": "GPU",
    "gpuClass": "standard"
  },
  "cells": [
    {
      "cell_type": "markdown",
      "metadata": {
        "id": "view-in-github",
        "colab_type": "text"
      },
      "source": [
        "<a href=\"https://colab.research.google.com/github/Karthick47v2/mock-buddy/blob/base-dev/ser_model.ipynb\" target=\"_parent\"><img src=\"https://colab.research.google.com/assets/colab-badge.svg\" alt=\"Open In Colab\"/></a>"
      ]
    },
    {
      "cell_type": "code",
      "execution_count": 1,
      "metadata": {
        "colab": {
          "base_uri": "https://localhost:8080/"
        },
        "id": "wD0BAKh7nW3I",
        "outputId": "9317d7f7-1931-4dcd-8be3-91383059bb82"
      },
      "outputs": [
        {
          "output_type": "stream",
          "name": "stdout",
          "text": [
            "Mounted at /content/gdrive\n"
          ]
        }
      ],
      "source": [
        "import pandas as pd\n",
        "from sklearn.model_selection import train_test_split\n",
        "from sklearn.compose import make_column_transformer\n",
        "from sklearn.preprocessing import StandardScaler\n",
        "from tensorflow import keras\n",
        "\n",
        "from google.colab import drive\n",
        "drive.mount('/content/gdrive')"
      ]
    },
    {
      "cell_type": "code",
      "source": [
        "df = pd.read_csv('/content/gdrive/MyDrive/SER/ravdess.csv')"
      ],
      "metadata": {
        "id": "ngiOJBganiVL"
      },
      "execution_count": 93,
      "outputs": []
    },
    {
      "cell_type": "code",
      "source": [
        "df = df.iloc[100:,:]"
      ],
      "metadata": {
        "id": "3Qu8dRaGu3Rr"
      },
      "execution_count": 94,
      "outputs": []
    },
    {
      "cell_type": "code",
      "source": [
        "x = df.iloc[:,1:]\n",
        "y = df.iloc[:,0]"
      ],
      "metadata": {
        "id": "LmFOsSQvn_s2"
      },
      "execution_count": 95,
      "outputs": []
    },
    {
      "cell_type": "code",
      "source": [
        "####### Try to scale\n",
        "# transformer = make_column_transformer((StandardScaler(), list(df.columns)[:-1]) , remainder='passthrough')\n",
        "# updated_df = pd.DataFrame(transformer.fit_transform(df), columns=transformer.get_feature_names_out())"
      ],
      "metadata": {
        "id": "lqH3XAmFozBw"
      },
      "execution_count": null,
      "outputs": []
    },
    {
      "cell_type": "code",
      "source": [
        "x_train, x_test, y_train, y_test = train_test_split(x, y, test_size=0.15, random_state=42)"
      ],
      "metadata": {
        "id": "h3pqN3DTpwsi"
      },
      "execution_count": 96,
      "outputs": []
    },
    {
      "cell_type": "code",
      "source": [
        "model_input = keras.Input(shape=(x_train.shape[1], 1))\n",
        "\n",
        "x = keras.layers.Conv1D(filters=256, kernel_size=8, activation='relu', kernel_initializer='he_normal', padding='same')(model_input)\n",
        "# x = keras.layers.MaxPooling1D(pool_size=2)(x)\n",
        "x = keras.layers.BatchNormalization()(x)\n",
        "x = keras.layers.Dropout(0.6)(x)\n",
        "x = keras.layers.Conv1D(filters=256, kernel_size=8, activation='relu', kernel_initializer='he_normal', padding='same')(x)\n",
        "x = keras.layers.MaxPooling1D(pool_size=8)(x)\n",
        "x = keras.layers.BatchNormalization()(x)\n",
        "x = keras.layers.Dropout(0.6)(x)\n",
        "\n",
        "x = keras.layers.Conv1D(filters=128, kernel_size=8, activation='relu', kernel_initializer='he_normal', padding='same')(x)\n",
        "x = keras.layers.BatchNormalization()(x)\n",
        "x = keras.layers.Dropout(0.4)(x)\n",
        "x = keras.layers.Conv1D(filters=128, kernel_size=8, activation='relu', kernel_initializer='he_normal', padding='same')(x)\n",
        "x = keras.layers.MaxPooling1D(pool_size=8)(x)\n",
        "x = keras.layers.BatchNormalization()(x)\n",
        "x = keras.layers.Dropout(0.4)(x)\n",
        "\n",
        "x = keras.layers.Conv1D(filters=64, kernel_size=8, activation='relu', kernel_initializer='he_normal', padding='same')(x)\n",
        "x = keras.layers.BatchNormalization()(x)\n",
        "x = keras.layers.Dropout(0.3)(x)\n",
        "x = keras.layers.Conv1D(filters=64, kernel_size=8, activation='relu', kernel_initializer='he_normal', padding='same')(x)\n",
        "# x = keras.layers.MaxPooling1D(pool_size=8)(x)\n",
        "x = keras.layers.BatchNormalization()(x)\n",
        "x = keras.layers.Dropout(0.3)(x)\n",
        "\n",
        "x = keras.layers.GlobalAveragePooling1D()(x)\n",
        "\n",
        "x = keras.layers.Dense(units=1, activation='sigmoid', kernel_initializer='glorot_normal')(x)\n",
        "\n",
        "model = keras.Model(model_input, x)\n",
        "\n",
        "model.summary()\n",
        "\n",
        "model.compile(loss='binary_crossentropy', optimizer=keras.optimizers.Adam(learning_rate=0.01), metrics=['binary_accuracy'])\n",
        "history = model.fit(x_train, y_train, batch_size=32, epochs=50, validation_data=(x_test, y_test))"
      ],
      "metadata": {
        "colab": {
          "base_uri": "https://localhost:8080/"
        },
        "id": "ilYM_cQmqzm5",
        "outputId": "29e91197-e0be-404d-bea3-e26730eb75ed"
      },
      "execution_count": 97,
      "outputs": [
        {
          "output_type": "stream",
          "name": "stdout",
          "text": [
            "Model: \"model_8\"\n",
            "_________________________________________________________________\n",
            " Layer (type)                Output Shape              Param #   \n",
            "=================================================================\n",
            " input_9 (InputLayer)        [(None, 260, 1)]          0         \n",
            "                                                                 \n",
            " conv1d_52 (Conv1D)          (None, 260, 256)          2304      \n",
            "                                                                 \n",
            " batch_normalization_52 (Bat  (None, 260, 256)         1024      \n",
            " chNormalization)                                                \n",
            "                                                                 \n",
            " dropout_29 (Dropout)        (None, 260, 256)          0         \n",
            "                                                                 \n",
            " conv1d_53 (Conv1D)          (None, 260, 256)          524544    \n",
            "                                                                 \n",
            " max_pooling1d_16 (MaxPoolin  (None, 32, 256)          0         \n",
            " g1D)                                                            \n",
            "                                                                 \n",
            " batch_normalization_53 (Bat  (None, 32, 256)          1024      \n",
            " chNormalization)                                                \n",
            "                                                                 \n",
            " dropout_30 (Dropout)        (None, 32, 256)           0         \n",
            "                                                                 \n",
            " conv1d_54 (Conv1D)          (None, 32, 128)           262272    \n",
            "                                                                 \n",
            " batch_normalization_54 (Bat  (None, 32, 128)          512       \n",
            " chNormalization)                                                \n",
            "                                                                 \n",
            " dropout_31 (Dropout)        (None, 32, 128)           0         \n",
            "                                                                 \n",
            " conv1d_55 (Conv1D)          (None, 32, 128)           131200    \n",
            "                                                                 \n",
            " max_pooling1d_17 (MaxPoolin  (None, 4, 128)           0         \n",
            " g1D)                                                            \n",
            "                                                                 \n",
            " batch_normalization_55 (Bat  (None, 4, 128)           512       \n",
            " chNormalization)                                                \n",
            "                                                                 \n",
            " dropout_32 (Dropout)        (None, 4, 128)            0         \n",
            "                                                                 \n",
            " conv1d_56 (Conv1D)          (None, 4, 64)             65600     \n",
            "                                                                 \n",
            " batch_normalization_56 (Bat  (None, 4, 64)            256       \n",
            " chNormalization)                                                \n",
            "                                                                 \n",
            " dropout_33 (Dropout)        (None, 4, 64)             0         \n",
            "                                                                 \n",
            " conv1d_57 (Conv1D)          (None, 4, 64)             32832     \n",
            "                                                                 \n",
            " batch_normalization_57 (Bat  (None, 4, 64)            256       \n",
            " chNormalization)                                                \n",
            "                                                                 \n",
            " dropout_34 (Dropout)        (None, 4, 64)             0         \n",
            "                                                                 \n",
            " global_average_pooling1d_8   (None, 64)               0         \n",
            " (GlobalAveragePooling1D)                                        \n",
            "                                                                 \n",
            " dense_8 (Dense)             (None, 1)                 65        \n",
            "                                                                 \n",
            "=================================================================\n",
            "Total params: 1,022,401\n",
            "Trainable params: 1,020,609\n",
            "Non-trainable params: 1,792\n",
            "_________________________________________________________________\n",
            "Epoch 1/50\n",
            "176/176 [==============================] - 8s 25ms/step - loss: 0.6838 - binary_accuracy: 0.5884 - val_loss: 0.7460 - val_binary_accuracy: 0.5146\n",
            "Epoch 2/50\n",
            "176/176 [==============================] - 3s 19ms/step - loss: 0.6679 - binary_accuracy: 0.5809 - val_loss: 0.6684 - val_binary_accuracy: 0.5750\n",
            "Epoch 3/50\n",
            "176/176 [==============================] - 3s 19ms/step - loss: 0.6558 - binary_accuracy: 0.5882 - val_loss: 0.6580 - val_binary_accuracy: 0.5861\n",
            "Epoch 4/50\n",
            "176/176 [==============================] - 3s 19ms/step - loss: 0.6461 - binary_accuracy: 0.6147 - val_loss: 0.8383 - val_binary_accuracy: 0.5740\n",
            "Epoch 5/50\n",
            "176/176 [==============================] - 3s 18ms/step - loss: 0.6438 - binary_accuracy: 0.6172 - val_loss: 0.7594 - val_binary_accuracy: 0.5680\n",
            "Epoch 6/50\n",
            "176/176 [==============================] - 3s 18ms/step - loss: 0.6350 - binary_accuracy: 0.6264 - val_loss: 1.9008 - val_binary_accuracy: 0.5680\n",
            "Epoch 7/50\n",
            "176/176 [==============================] - 3s 19ms/step - loss: 0.6339 - binary_accuracy: 0.6366 - val_loss: 0.8955 - val_binary_accuracy: 0.4361\n",
            "Epoch 8/50\n",
            "176/176 [==============================] - 3s 18ms/step - loss: 0.6164 - binary_accuracy: 0.6446 - val_loss: 0.6721 - val_binary_accuracy: 0.5710\n",
            "Epoch 9/50\n",
            "176/176 [==============================] - 3s 19ms/step - loss: 0.5991 - binary_accuracy: 0.6695 - val_loss: 0.6083 - val_binary_accuracy: 0.6647\n",
            "Epoch 10/50\n",
            "176/176 [==============================] - 3s 19ms/step - loss: 0.5845 - binary_accuracy: 0.6831 - val_loss: 0.6002 - val_binary_accuracy: 0.6566\n",
            "Epoch 11/50\n",
            "176/176 [==============================] - 3s 19ms/step - loss: 0.5692 - binary_accuracy: 0.6904 - val_loss: 0.5760 - val_binary_accuracy: 0.6818\n",
            "Epoch 12/50\n",
            "176/176 [==============================] - 3s 19ms/step - loss: 0.5575 - binary_accuracy: 0.7069 - val_loss: 0.5130 - val_binary_accuracy: 0.7523\n",
            "Epoch 13/50\n",
            "176/176 [==============================] - 3s 19ms/step - loss: 0.5367 - binary_accuracy: 0.7247 - val_loss: 0.4891 - val_binary_accuracy: 0.7583\n",
            "Epoch 14/50\n",
            "176/176 [==============================] - 3s 18ms/step - loss: 0.5243 - binary_accuracy: 0.7311 - val_loss: 0.5304 - val_binary_accuracy: 0.7422\n",
            "Epoch 15/50\n",
            "176/176 [==============================] - 3s 18ms/step - loss: 0.5075 - binary_accuracy: 0.7425 - val_loss: 0.4957 - val_binary_accuracy: 0.7623\n",
            "Epoch 16/50\n",
            "176/176 [==============================] - 3s 18ms/step - loss: 0.5004 - binary_accuracy: 0.7471 - val_loss: 0.4177 - val_binary_accuracy: 0.8077\n",
            "Epoch 17/50\n",
            "176/176 [==============================] - 3s 18ms/step - loss: 0.4815 - binary_accuracy: 0.7734 - val_loss: 0.4556 - val_binary_accuracy: 0.7734\n",
            "Epoch 18/50\n",
            "176/176 [==============================] - 3s 18ms/step - loss: 0.4636 - binary_accuracy: 0.7761 - val_loss: 0.4359 - val_binary_accuracy: 0.7835\n",
            "Epoch 19/50\n",
            "176/176 [==============================] - 3s 19ms/step - loss: 0.4433 - binary_accuracy: 0.7951 - val_loss: 0.3794 - val_binary_accuracy: 0.8197\n",
            "Epoch 20/50\n",
            "176/176 [==============================] - 3s 18ms/step - loss: 0.4320 - binary_accuracy: 0.7988 - val_loss: 0.4313 - val_binary_accuracy: 0.8066\n",
            "Epoch 21/50\n",
            "176/176 [==============================] - 3s 19ms/step - loss: 0.4238 - binary_accuracy: 0.7956 - val_loss: 0.4080 - val_binary_accuracy: 0.7925\n",
            "Epoch 22/50\n",
            "176/176 [==============================] - 3s 18ms/step - loss: 0.4067 - binary_accuracy: 0.8106 - val_loss: 0.3869 - val_binary_accuracy: 0.8077\n",
            "Epoch 23/50\n",
            "176/176 [==============================] - 3s 19ms/step - loss: 0.3996 - binary_accuracy: 0.8168 - val_loss: 0.3565 - val_binary_accuracy: 0.8379\n",
            "Epoch 24/50\n",
            "176/176 [==============================] - 3s 19ms/step - loss: 0.3918 - binary_accuracy: 0.8242 - val_loss: 0.3824 - val_binary_accuracy: 0.8177\n",
            "Epoch 25/50\n",
            "176/176 [==============================] - 3s 18ms/step - loss: 0.3728 - binary_accuracy: 0.8333 - val_loss: 0.3326 - val_binary_accuracy: 0.8590\n",
            "Epoch 26/50\n",
            "176/176 [==============================] - 3s 19ms/step - loss: 0.3675 - binary_accuracy: 0.8356 - val_loss: 0.2943 - val_binary_accuracy: 0.8832\n",
            "Epoch 27/50\n",
            "176/176 [==============================] - 3s 18ms/step - loss: 0.3556 - binary_accuracy: 0.8431 - val_loss: 0.2907 - val_binary_accuracy: 0.8842\n",
            "Epoch 28/50\n",
            "176/176 [==============================] - 3s 19ms/step - loss: 0.3544 - binary_accuracy: 0.8466 - val_loss: 0.2847 - val_binary_accuracy: 0.8862\n",
            "Epoch 29/50\n",
            "176/176 [==============================] - 3s 19ms/step - loss: 0.3347 - binary_accuracy: 0.8568 - val_loss: 0.3203 - val_binary_accuracy: 0.8681\n",
            "Epoch 30/50\n",
            "176/176 [==============================] - 3s 19ms/step - loss: 0.3312 - binary_accuracy: 0.8527 - val_loss: 0.2768 - val_binary_accuracy: 0.8842\n",
            "Epoch 31/50\n",
            "176/176 [==============================] - 3s 18ms/step - loss: 0.3150 - binary_accuracy: 0.8649 - val_loss: 0.2460 - val_binary_accuracy: 0.8922\n",
            "Epoch 32/50\n",
            "176/176 [==============================] - 3s 18ms/step - loss: 0.3053 - binary_accuracy: 0.8656 - val_loss: 0.2427 - val_binary_accuracy: 0.8973\n",
            "Epoch 33/50\n",
            "176/176 [==============================] - 3s 18ms/step - loss: 0.3041 - binary_accuracy: 0.8712 - val_loss: 0.2716 - val_binary_accuracy: 0.8852\n",
            "Epoch 34/50\n",
            "176/176 [==============================] - 3s 19ms/step - loss: 0.2931 - binary_accuracy: 0.8790 - val_loss: 0.2247 - val_binary_accuracy: 0.9033\n",
            "Epoch 35/50\n",
            "176/176 [==============================] - 3s 18ms/step - loss: 0.3034 - binary_accuracy: 0.8694 - val_loss: 0.2220 - val_binary_accuracy: 0.9094\n",
            "Epoch 36/50\n",
            "176/176 [==============================] - 3s 19ms/step - loss: 0.2869 - binary_accuracy: 0.8735 - val_loss: 0.2596 - val_binary_accuracy: 0.8922\n",
            "Epoch 37/50\n",
            "176/176 [==============================] - 3s 19ms/step - loss: 0.2858 - binary_accuracy: 0.8744 - val_loss: 0.2876 - val_binary_accuracy: 0.8731\n",
            "Epoch 38/50\n",
            "176/176 [==============================] - 3s 18ms/step - loss: 0.2753 - binary_accuracy: 0.8868 - val_loss: 0.2200 - val_binary_accuracy: 0.9144\n",
            "Epoch 39/50\n",
            "176/176 [==============================] - 3s 18ms/step - loss: 0.2663 - binary_accuracy: 0.8870 - val_loss: 0.2349 - val_binary_accuracy: 0.9013\n",
            "Epoch 40/50\n",
            "176/176 [==============================] - 3s 19ms/step - loss: 0.2668 - binary_accuracy: 0.8905 - val_loss: 0.1928 - val_binary_accuracy: 0.9215\n",
            "Epoch 41/50\n",
            "176/176 [==============================] - 3s 19ms/step - loss: 0.2587 - binary_accuracy: 0.8877 - val_loss: 0.1946 - val_binary_accuracy: 0.9255\n",
            "Epoch 42/50\n",
            "176/176 [==============================] - 3s 19ms/step - loss: 0.2542 - binary_accuracy: 0.8955 - val_loss: 0.2665 - val_binary_accuracy: 0.8872\n",
            "Epoch 43/50\n",
            "176/176 [==============================] - 3s 18ms/step - loss: 0.2560 - binary_accuracy: 0.8928 - val_loss: 0.1790 - val_binary_accuracy: 0.9255\n",
            "Epoch 44/50\n",
            "176/176 [==============================] - 3s 19ms/step - loss: 0.2436 - binary_accuracy: 0.8975 - val_loss: 0.2519 - val_binary_accuracy: 0.8973\n",
            "Epoch 45/50\n",
            "176/176 [==============================] - 3s 19ms/step - loss: 0.2264 - binary_accuracy: 0.9046 - val_loss: 0.2242 - val_binary_accuracy: 0.9094\n",
            "Epoch 46/50\n",
            "176/176 [==============================] - 3s 18ms/step - loss: 0.2285 - binary_accuracy: 0.9071 - val_loss: 0.1927 - val_binary_accuracy: 0.9204\n",
            "Epoch 47/50\n",
            "176/176 [==============================] - 3s 19ms/step - loss: 0.2361 - binary_accuracy: 0.9014 - val_loss: 0.1754 - val_binary_accuracy: 0.9225\n",
            "Epoch 48/50\n",
            "176/176 [==============================] - 3s 19ms/step - loss: 0.2227 - binary_accuracy: 0.9085 - val_loss: 0.1787 - val_binary_accuracy: 0.9295\n",
            "Epoch 49/50\n",
            "176/176 [==============================] - 3s 18ms/step - loss: 0.2186 - binary_accuracy: 0.9154 - val_loss: 0.1832 - val_binary_accuracy: 0.9204\n",
            "Epoch 50/50\n",
            "176/176 [==============================] - 3s 18ms/step - loss: 0.2126 - binary_accuracy: 0.9156 - val_loss: 0.1388 - val_binary_accuracy: 0.9446\n"
          ]
        }
      ]
    },
    {
      "cell_type": "code",
      "source": [
        "import matplotlib.pyplot as plt"
      ],
      "metadata": {
        "id": "KOLL6YVJm-ww"
      },
      "execution_count": 16,
      "outputs": []
    },
    {
      "cell_type": "code",
      "source": [
        "plt.plot(history.history['binary_accuracy'])\n",
        "plt.plot(history.history['val_binary_accuracy'])\n",
        "plt.title('Accuracy')\n",
        "plt.ylabel('accuracy')\n",
        "plt.xlabel('epoch')\n",
        "plt.legend(['train', 'val'], loc='upper left')\n",
        "plt.show()"
      ],
      "metadata": {
        "id": "EAbkRdxmzWTc",
        "outputId": "4641a507-2f8e-48bd-fbe4-e111af3881c8",
        "colab": {
          "base_uri": "https://localhost:8080/",
          "height": 295
        }
      },
      "execution_count": 23,
      "outputs": [
        {
          "output_type": "display_data",
          "data": {
            "text/plain": [
              "<Figure size 432x288 with 1 Axes>"
            ],
            "image/png": "[encoded data removed]"
          },
          "metadata": {
            "needs_background": "light"
          }
        }
      ]
    },
    {
      "cell_type": "code",
      "source": [
        "plt.plot(history.history['loss'])\n",
        "plt.plot(history.history['val_loss'])\n",
        "plt.title('Loss')\n",
        "plt.ylabel('loss')\n",
        "plt.xlabel('epoch')\n",
        "plt.legend(['train', 'val'], loc='upper left')\n",
        "plt.show()"
      ],
      "metadata": {
        "id": "FFJHO-kInZcl",
        "outputId": "ea882702-ec10-4c76-84b5-b114585a171b",
        "colab": {
          "base_uri": "https://localhost:8080/",
          "height": 295
        }
      },
      "execution_count": 24,
      "outputs": [
        {
          "output_type": "display_data",
          "data": {
            "text/plain": [
              "<Figure size 432x288 with 1 Axes>"
            ],
            "image/png": "[encoded data removed]"
          },
          "metadata": {
            "needs_background": "light"
          }
        }
      ]
    },
    {
      "cell_type": "code",
      "source": [
        "!mkdir ser"
      ],
      "metadata": {
        "id": "i60T9lmzqtbE"
      },
      "execution_count": 25,
      "outputs": []
    },
    {
      "cell_type": "code",
      "source": [
        "model.save('ser')"
      ],
      "metadata": {
        "id": "nc04QG55nSq_",
        "outputId": "7147cba7-733e-4cde-e3e4-f4ea0051aa73",
        "colab": {
          "base_uri": "https://localhost:8080/"
        }
      },
      "execution_count": 26,
      "outputs": [
        {
          "output_type": "stream",
          "name": "stdout",
          "text": [
            "INFO:tensorflow:Assets written to: ser/assets\n"
          ]
        }
      ]
    },
    {
      "cell_type": "code",
      "source": [
        "test_df = pd.read_csv('/content/gdrive/MyDrive/SER/test_savees.csv')"
      ],
      "metadata": {
        "id": "oGm30ZPoqypd"
      },
      "execution_count": 80,
      "outputs": []
    },
    {
      "cell_type": "code",
      "source": [
        "x_t = test_df.iloc[:,1:]\n",
        "y_t = test_df.iloc[:,0]"
      ],
      "metadata": {
        "id": "xuXANB_zrj0u"
      },
      "execution_count": 100,
      "outputs": []
    },
    {
      "cell_type": "code",
      "source": [
        "y_pred = model.predict(x_t)"
      ],
      "metadata": {
        "id": "xnu9hqIlrZJC"
      },
      "execution_count": 101,
      "outputs": []
    },
    {
      "cell_type": "code",
      "source": [
        "from sklearn.metrics import confusion_matrix\n",
        "import seaborn as sns"
      ],
      "metadata": {
        "id": "CvYqlbQMr3Na"
      },
      "execution_count": 40,
      "outputs": []
    },
    {
      "cell_type": "code",
      "source": [
        "y_hat = []\n",
        "for i in y_pred:\n",
        "    y_hat.append(i>0.5)\n",
        "\n",
        "cf = confusion_matrix(y_t, y_hat)\n",
        "df = pd.DataFrame(cf, range(2), range(2))\n",
        "\n",
        "sns.set(font_scale=1)\n",
        "sns.heatmap(df, annot=True)"
      ],
      "metadata": {
        "id": "JizEDzP0rxJj",
        "outputId": "5c6d3109-2863-42b8-d3d4-34b9dbbcc05f",
        "colab": {
          "base_uri": "https://localhost:8080/",
          "height": 285
        }
      },
      "execution_count": 107,
      "outputs": [
        {
          "output_type": "execute_result",
          "data": {
            "text/plain": [
              "<matplotlib.axes._subplots.AxesSubplot at 0x7efbd2753410>"
            ]
          },
          "metadata": {},
          "execution_count": 107
        },
        {
          "output_type": "display_data",
          "data": {
            "text/plain": [
              "<Figure size 432x288 with 2 Axes>"
            ],
            "image/png": "[encoded data removed]"
          },
          "metadata": {}
        }
      ]
    },
    {
      "cell_type": "code",
      "source": [
        ""
      ],
      "metadata": {
        "id": "XJ7U4eFIry1P"
      },
      "execution_count": 50,
      "outputs": []
    },
    {
      "cell_type": "code",
      "source": [
        ""
      ],
      "metadata": {
        "id": "WpImkEUOr_xR"
      },
      "execution_count": 51,
      "outputs": []
    },
    {
      "cell_type": "code",
      "source": [
        ""
      ],
      "metadata": {
        "id": "lfLHwmMdtSzG"
      },
      "execution_count": null,
      "outputs": []
    }
  ]
}