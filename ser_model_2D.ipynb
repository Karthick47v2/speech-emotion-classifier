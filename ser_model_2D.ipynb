{
  "cells": [
    {
      "cell_type": "markdown",
      "metadata": {
        "id": "view-in-github",
        "colab_type": "text"
      },
      "source": [
        "<a href=\"https://colab.research.google.com/github/Karthick47v2/mock-buddy/blob/base-dev/ser_model_2D.ipynb\" target=\"_parent\"><img src=\"https://colab.research.google.com/assets/colab-badge.svg\" alt=\"Open In Colab\"/></a>"
      ]
    },
    {
      "cell_type": "code",
      "execution_count": 1,
      "metadata": {
        "colab": {
          "base_uri": "https://localhost:8080/"
        },
        "id": "wD0BAKh7nW3I",
        "outputId": "9294aeed-01e3-4ad5-d2eb-ece63e04b429"
      },
      "outputs": [
        {
          "output_type": "stream",
          "name": "stdout",
          "text": [
            "Mounted at /content/gdrive\n"
          ]
        }
      ],
      "source": [
        "import pandas as pd\n",
        "from sklearn.model_selection import train_test_split\n",
        "from sklearn.compose import make_column_transformer\n",
        "from sklearn.preprocessing import StandardScaler\n",
        "from tensorflow import keras\n",
        "\n",
        "from google.colab import drive\n",
        "drive.mount('/content/gdrive')"
      ]
    },
    {
      "cell_type": "code",
      "source": [
        "!unzip gdrive/MyDrive/SER/ser.zip"
      ],
      "metadata": {
        "id": "uzRmqTSuRuoq"
      },
      "execution_count": null,
      "outputs": []
    },
    {
      "cell_type": "code",
      "execution_count": 2,
      "metadata": {
        "id": "ngiOJBganiVL"
      },
      "outputs": [],
      "source": [
        "df = pd.read_csv('mel.csv')"
      ]
    },
    {
      "cell_type": "code",
      "source": [
        "df.head()"
      ],
      "metadata": {
        "colab": {
          "base_uri": "https://localhost:8080/",
          "height": 206
        },
        "id": "GzP6yg5GGWex",
        "outputId": "c8c8c214-4007-4556-9419-96145cf28af9"
      },
      "execution_count": 3,
      "outputs": [
        {
          "output_type": "execute_result",
          "data": {
            "text/plain": [
              "                                                 mel  result\n",
              "0  [[0. 0. 0. ... 0. 0. 0.]\\n [0. 0. 0. ... 0. 0....       1\n",
              "1  [[0. 0. 0. ... 0. 0. 0.]\\n [0. 0. 0. ... 0. 0....       0\n",
              "2  [[0. 0. 0. ... 0. 0. 0.]\\n [0. 0. 0. ... 0. 0....       0\n",
              "3  [[0. 0. 0. ... 0. 0. 0.]\\n [0. 0. 0. ... 0. 0....       0\n",
              "4  [[0. 0. 0. ... 0. 0. 0.]\\n [0. 0. 0. ... 0. 0....       0"
            ],
            "text/html": [
              "\n",
              "  <div id=\"df-ea790961-f734-4b0c-b8c4-fa6f2d9cb6d6\">\n",
              "    <div class=\"colab-df-container\">\n",
              "      <div>\n",
              "<style scoped>\n",
              "    .dataframe tbody tr th:only-of-type {\n",
              "        vertical-align: middle;\n",
              "    }\n",
              "\n",
              "    .dataframe tbody tr th {\n",
              "        vertical-align: top;\n",
              "    }\n",
              "\n",
              "    .dataframe thead th {\n",
              "        text-align: right;\n",
              "    }\n",
              "</style>\n",
              "<table border=\"1\" class=\"dataframe\">\n",
              "  <thead>\n",
              "    <tr style=\"text-align: right;\">\n",
              "      <th></th>\n",
              "      <th>mel</th>\n",
              "      <th>result</th>\n",
              "    </tr>\n",
              "  </thead>\n",
              "  <tbody>\n",
              "    <tr>\n",
              "      <th>0</th>\n",
              "      <td>[[0. 0. 0. ... 0. 0. 0.]\\n [0. 0. 0. ... 0. 0....</td>\n",
              "      <td>1</td>\n",
              "    </tr>\n",
              "    <tr>\n",
              "      <th>1</th>\n",
              "      <td>[[0. 0. 0. ... 0. 0. 0.]\\n [0. 0. 0. ... 0. 0....</td>\n",
              "      <td>0</td>\n",
              "    </tr>\n",
              "    <tr>\n",
              "      <th>2</th>\n",
              "      <td>[[0. 0. 0. ... 0. 0. 0.]\\n [0. 0. 0. ... 0. 0....</td>\n",
              "      <td>0</td>\n",
              "    </tr>\n",
              "    <tr>\n",
              "      <th>3</th>\n",
              "      <td>[[0. 0. 0. ... 0. 0. 0.]\\n [0. 0. 0. ... 0. 0....</td>\n",
              "      <td>0</td>\n",
              "    </tr>\n",
              "    <tr>\n",
              "      <th>4</th>\n",
              "      <td>[[0. 0. 0. ... 0. 0. 0.]\\n [0. 0. 0. ... 0. 0....</td>\n",
              "      <td>0</td>\n",
              "    </tr>\n",
              "  </tbody>\n",
              "</table>\n",
              "</div>\n",
              "      <button class=\"colab-df-convert\" onclick=\"convertToInteractive('df-ea790961-f734-4b0c-b8c4-fa6f2d9cb6d6')\"\n",
              "              title=\"Convert this dataframe to an interactive table.\"\n",
              "              style=\"display:none;\">\n",
              "        \n",
              "  <svg xmlns=\"http://www.w3.org/2000/svg\" height=\"24px\"viewBox=\"0 0 24 24\"\n",
              "       width=\"24px\">\n",
              "    <path d=\"M0 0h24v24H0V0z\" fill=\"none\"/>\n",
              "    <path d=\"M18.56 5.44l.94 2.06.94-2.06 2.06-.94-2.06-.94-.94-2.06-.94 2.06-2.06.94zm-11 1L8.5 8.5l.94-2.06 2.06-.94-2.06-.94L8.5 2.5l-.94 2.06-2.06.94zm10 10l.94 2.06.94-2.06 2.06-.94-2.06-.94-.94-2.06-.94 2.06-2.06.94z\"/><path d=\"M17.41 7.96l-1.37-1.37c-.4-.4-.92-.59-1.43-.59-.52 0-1.04.2-1.43.59L10.3 9.45l-7.72 7.72c-.78.78-.78 2.05 0 2.83L4 21.41c.39.39.9.59 1.41.59.51 0 1.02-.2 1.41-.59l7.78-7.78 2.81-2.81c.8-.78.8-2.07 0-2.86zM5.41 20L4 18.59l7.72-7.72 1.47 1.35L5.41 20z\"/>\n",
              "  </svg>\n",
              "      </button>\n",
              "      \n",
              "  <style>\n",
              "    .colab-df-container {\n",
              "      display:flex;\n",
              "      flex-wrap:wrap;\n",
              "      gap: 12px;\n",
              "    }\n",
              "\n",
              "    .colab-df-convert {\n",
              "      background-color: #E8F0FE;\n",
              "      border: none;\n",
              "      border-radius: 50%;\n",
              "      cursor: pointer;\n",
              "      display: none;\n",
              "      fill: #1967D2;\n",
              "      height: 32px;\n",
              "      padding: 0 0 0 0;\n",
              "      width: 32px;\n",
              "    }\n",
              "\n",
              "    .colab-df-convert:hover {\n",
              "      background-color: #E2EBFA;\n",
              "      box-shadow: 0px 1px 2px rgba(60, 64, 67, 0.3), 0px 1px 3px 1px rgba(60, 64, 67, 0.15);\n",
              "      fill: #174EA6;\n",
              "    }\n",
              "\n",
              "    [theme=dark] .colab-df-convert {\n",
              "      background-color: #3B4455;\n",
              "      fill: #D2E3FC;\n",
              "    }\n",
              "\n",
              "    [theme=dark] .colab-df-convert:hover {\n",
              "      background-color: #434B5C;\n",
              "      box-shadow: 0px 1px 3px 1px rgba(0, 0, 0, 0.15);\n",
              "      filter: drop-shadow(0px 1px 2px rgba(0, 0, 0, 0.3));\n",
              "      fill: #FFFFFF;\n",
              "    }\n",
              "  </style>\n",
              "\n",
              "      <script>\n",
              "        const buttonEl =\n",
              "          document.querySelector('#df-ea790961-f734-4b0c-b8c4-fa6f2d9cb6d6 button.colab-df-convert');\n",
              "        buttonEl.style.display =\n",
              "          google.colab.kernel.accessAllowed ? 'block' : 'none';\n",
              "\n",
              "        async function convertToInteractive(key) {\n",
              "          const element = document.querySelector('#df-ea790961-f734-4b0c-b8c4-fa6f2d9cb6d6');\n",
              "          const dataTable =\n",
              "            await google.colab.kernel.invokeFunction('convertToInteractive',\n",
              "                                                     [key], {});\n",
              "          if (!dataTable) return;\n",
              "\n",
              "          const docLinkHtml = 'Like what you see? Visit the ' +\n",
              "            '<a target=\"_blank\" href=https://colab.research.google.com/notebooks/data_table.ipynb>data table notebook</a>'\n",
              "            + ' to learn more about interactive tables.';\n",
              "          element.innerHTML = '';\n",
              "          dataTable['output_type'] = 'display_data';\n",
              "          await google.colab.output.renderOutput(dataTable, element);\n",
              "          const docLink = document.createElement('div');\n",
              "          docLink.innerHTML = docLinkHtml;\n",
              "          element.appendChild(docLink);\n",
              "        }\n",
              "      </script>\n",
              "    </div>\n",
              "  </div>\n",
              "  "
            ]
          },
          "metadata": {},
          "execution_count": 3
        }
      ]
    },
    {
      "cell_type": "code",
      "source": [
        "train_df = pd.read_csv('mel.csv')\n",
        "batch_size = 32\n",
        "\n",
        "data_gen = keras.preprocessing.image.ImageDataGenerator(validation_split=0.2)\n",
        "train_data_gen = data_gen.flow_from_dataframe(dataframe=train_df, directory='./',x_col='path',\n",
        "                                              y_col='result', class_mode='binary', subset='training',\n",
        "                                              batch_size=batch_size, seed=42, shuffle=True, target_size=(128,512),\n",
        "                                              color_mode='grayscale')\n",
        "\n",
        "validation_data_gen = data_gen.flow_from_dataframe(dataframe=train_df, directory='./',x_col='path',\n",
        "                                              y_col='result', class_mode='binary', subset='validation',\n",
        "                                              batch_size=batch_size, seed=42, shuffle=True, target_size=(128,512),\n",
        "                                              color_mode='grayscale')"
      ],
      "metadata": {
        "id": "Adp-RaKWR-Aj"
      },
      "execution_count": null,
      "outputs": []
    },
    {
      "cell_type": "code",
      "source": [
        "model_input = keras.Input(shape=(128,512,1))\n",
        "\n",
        "x = keras.layers.Conv2D(filters=16, kernel_size=2, activation='relu', kernel_initializer='he_normal', padding='same')(model_input)\n",
        "x = keras.layers.MaxPooling2D(pool_size=(2,2))\n",
        "x = keras.layers.BatchNormalization()(x)\n",
        "\n",
        "x = keras.layers.GlobalAveragePooling2D()(x)\n",
        "\n",
        "x = keras.layers.Dense(units=1, activation='sigmoid', kernel_initializer='glorot_normal')(x)\n",
        "\n",
        "model = keras.Model(model_input, x)\n",
        "\n",
        "model.summary()\n",
        "\n",
        "model.compile(loss='binary_crossentropy', optimizer=keras.optimizers.Adam(learning_rate=0.01), metrics=['binary_accuracy'])\n",
        "model.fit(train_data_gen, batch_size=batch_size, epochs=100, validation_data=validation_data_gen)"
      ],
      "metadata": {
        "id": "yTG4FUTGSbHT"
      },
      "execution_count": null,
      "outputs": []
    },
    {
      "cell_type": "code",
      "source": [
        ""
      ],
      "metadata": {
        "id": "8ZQvqu69SbEv"
      },
      "execution_count": null,
      "outputs": []
    },
    {
      "cell_type": "code",
      "source": [
        ""
      ],
      "metadata": {
        "id": "syXDc4MCSbCb"
      },
      "execution_count": null,
      "outputs": []
    },
    {
      "cell_type": "code",
      "source": [
        ""
      ],
      "metadata": {
        "id": "dc2PNnXLSaoH"
      },
      "execution_count": null,
      "outputs": []
    },
    {
      "cell_type": "code",
      "execution_count": 4,
      "metadata": {
        "id": "LmFOsSQvn_s2"
      },
      "outputs": [],
      "source": [
        "# x = df.iloc[:,0]\n",
        "# y = df.iloc[:,1]"
      ]
    },
    {
      "cell_type": "code",
      "execution_count": null,
      "metadata": {
        "id": "lqH3XAmFozBw"
      },
      "outputs": [],
      "source": [
        "####### Try to scale\n",
        "# transformer = make_column_transformer((StandardScaler(), list(df.columns)[:-1]) , remainder='passthrough')\n",
        "# updated_df = pd.DataFrame(transformer.fit_transform(df), columns=transformer.get_feature_names_out())"
      ]
    },
    {
      "cell_type": "code",
      "execution_count": null,
      "metadata": {
        "id": "h3pqN3DTpwsi"
      },
      "outputs": [],
      "source": [
        "x_train, x_test, y_train, y_test = train_test_split(x, y, test_size=0.2, random_state=42)"
      ]
    },
    {
      "cell_type": "code",
      "execution_count": null,
      "metadata": {
        "colab": {
          "base_uri": "https://localhost:8080/"
        },
        "id": "0mVo5guhqr5w",
        "outputId": "ea490b5f-e6b2-4f92-9a55-67994ff4c930"
      },
      "outputs": [
        {
          "data": {
            "text/plain": [
              "(269, 260)"
            ]
          },
          "execution_count": 14,
          "metadata": {},
          "output_type": "execute_result"
        }
      ],
      "source": [
        "x_test.shape"
      ]
    },
    {
      "cell_type": "code",
      "execution_count": null,
      "metadata": {
        "colab": {
          "background_save": true,
          "base_uri": "https://localhost:8080/",
          "height": 382
        },
        "id": "ilYM_cQmqzm5",
        "outputId": "228746c5-57cf-4971-de05-a3e63222c73f"
      },
      "outputs": [
        {
          "name": "stdout",
          "output_type": "stream",
          "text": [
            "Epoch 1/100\n",
            "7/7 [==============================] - 1s 48ms/step - loss: 7.0041 - binary_accuracy: 0.5193 - val_loss: 0.7272 - val_binary_accuracy: 0.4958\n",
            "Epoch 2/100\n",
            "7/7 [==============================] - 0s 25ms/step - loss: 0.6902 - binary_accuracy: 0.5714 - val_loss: 0.7098 - val_binary_accuracy: 0.4958\n",
            "Epoch 3/100\n",
            "7/7 [==============================] - 0s 20ms/step - loss: 0.6838 - binary_accuracy: 0.5714 - val_loss: 0.7124 - val_binary_accuracy: 0.4958\n",
            "Epoch 4/100\n",
            "7/7 [==============================] - 0s 18ms/step - loss: 0.6837 - binary_accuracy: 0.5714 - val_loss: 0.7086 - val_binary_accuracy: 0.4958\n",
            "Epoch 5/100\n",
            "7/7 [==============================] - 0s 18ms/step - loss: 0.6831 - binary_accuracy: 0.5714 - val_loss: 0.7047 - val_binary_accuracy: 0.4958\n",
            "Epoch 6/100\n",
            "7/7 [==============================] - 0s 17ms/step - loss: 0.6829 - binary_accuracy: 0.5714 - val_loss: 0.7029 - val_binary_accuracy: 0.4958\n",
            "Epoch 7/100\n",
            "7/7 [==============================] - 0s 19ms/step - loss: 0.6830 - binary_accuracy: 0.5714 - val_loss: 0.7032 - val_binary_accuracy: 0.4958\n",
            "Epoch 8/100\n",
            "7/7 [==============================] - 0s 17ms/step - loss: 0.6830 - binary_accuracy: 0.5714 - val_loss: 0.7041 - val_binary_accuracy: 0.4958\n",
            "Epoch 9/100\n",
            "7/7 [==============================] - 0s 18ms/step - loss: 0.6829 - binary_accuracy: 0.5714 - val_loss: 0.7054 - val_binary_accuracy: 0.4958\n",
            "Epoch 10/100\n",
            "7/7 [==============================] - 0s 18ms/step - loss: 0.6829 - binary_accuracy: 0.5714 - val_loss: 0.7053 - val_binary_accuracy: 0.4958\n",
            "Epoch 11/100\n",
            "7/7 [==============================] - 0s 18ms/step - loss: 0.6829 - binary_accuracy: 0.5714 - val_loss: 0.7044 - val_binary_accuracy: 0.4958\n",
            "Epoch 12/100\n",
            "7/7 [==============================] - 0s 18ms/step - loss: 0.6829 - binary_accuracy: 0.5714 - val_loss: 0.7035 - val_binary_accuracy: 0.4958\n",
            "Epoch 13/100\n",
            "7/7 [==============================] - 0s 18ms/step - loss: 0.6830 - binary_accuracy: 0.5714 - val_loss: 0.7037 - val_binary_accuracy: 0.4958\n",
            "Epoch 14/100\n",
            "7/7 [==============================] - 0s 18ms/step - loss: 0.6829 - binary_accuracy: 0.5714 - val_loss: 0.7044 - val_binary_accuracy: 0.4958\n",
            "Epoch 15/100\n",
            "7/7 [==============================] - 0s 19ms/step - loss: 0.6831 - binary_accuracy: 0.5714 - val_loss: 0.7067 - val_binary_accuracy: 0.4958\n",
            "Epoch 16/100\n",
            "7/7 [==============================] - 0s 18ms/step - loss: 0.6829 - binary_accuracy: 0.5714 - val_loss: 0.7047 - val_binary_accuracy: 0.4958\n",
            "Epoch 17/100\n",
            "7/7 [==============================] - 0s 18ms/step - loss: 0.6829 - binary_accuracy: 0.5714 - val_loss: 0.7034 - val_binary_accuracy: 0.4958\n",
            "Epoch 18/100\n",
            "7/7 [==============================] - 0s 18ms/step - loss: 0.6829 - binary_accuracy: 0.5714 - val_loss: 0.7039 - val_binary_accuracy: 0.4958\n",
            "Epoch 19/100\n",
            "7/7 [==============================] - 0s 21ms/step - loss: 0.6830 - binary_accuracy: 0.5714 - val_loss: 0.7057 - val_binary_accuracy: 0.4958\n",
            "Epoch 20/100\n",
            "7/7 [==============================] - 0s 18ms/step - loss: 0.6830 - binary_accuracy: 0.5714 - val_loss: 0.7040 - val_binary_accuracy: 0.4958\n",
            "Epoch 21/100\n",
            "7/7 [==============================] - 0s 19ms/step - loss: 0.6829 - binary_accuracy: 0.5714 - val_loss: 0.7048 - val_binary_accuracy: 0.4958\n",
            "Epoch 22/100\n",
            "7/7 [==============================] - 0s 18ms/step - loss: 0.6830 - binary_accuracy: 0.5714 - val_loss: 0.7055 - val_binary_accuracy: 0.4958\n",
            "Epoch 23/100\n",
            "7/7 [==============================] - 0s 19ms/step - loss: 0.6829 - binary_accuracy: 0.5714 - val_loss: 0.7041 - val_binary_accuracy: 0.4958\n",
            "Epoch 24/100\n",
            "7/7 [==============================] - 0s 18ms/step - loss: 0.6829 - binary_accuracy: 0.5714 - val_loss: 0.7036 - val_binary_accuracy: 0.4958\n",
            "Epoch 25/100\n",
            "7/7 [==============================] - 0s 19ms/step - loss: 0.6829 - binary_accuracy: 0.5714 - val_loss: 0.7050 - val_binary_accuracy: 0.4958\n",
            "Epoch 26/100\n",
            "7/7 [==============================] - 0s 17ms/step - loss: 0.6830 - binary_accuracy: 0.5714 - val_loss: 0.7064 - val_binary_accuracy: 0.4958\n",
            "Epoch 27/100\n",
            "7/7 [==============================] - 0s 17ms/step - loss: 0.6830 - binary_accuracy: 0.5714 - val_loss: 0.7040 - val_binary_accuracy: 0.4958\n",
            "Epoch 28/100\n",
            "7/7 [==============================] - 0s 18ms/step - loss: 0.6829 - binary_accuracy: 0.5714 - val_loss: 0.7043 - val_binary_accuracy: 0.4958\n",
            "Epoch 29/100\n",
            "7/7 [==============================] - 0s 18ms/step - loss: 0.6829 - binary_accuracy: 0.5714 - val_loss: 0.7057 - val_binary_accuracy: 0.4958\n",
            "Epoch 30/100\n",
            "7/7 [==============================] - 0s 20ms/step - loss: 0.6829 - binary_accuracy: 0.5714 - val_loss: 0.7051 - val_binary_accuracy: 0.4958\n",
            "Epoch 31/100\n",
            "7/7 [==============================] - 0s 18ms/step - loss: 0.6829 - binary_accuracy: 0.5714 - val_loss: 0.7037 - val_binary_accuracy: 0.4958\n",
            "Epoch 32/100\n",
            "7/7 [==============================] - 0s 18ms/step - loss: 0.6830 - binary_accuracy: 0.5714 - val_loss: 0.7034 - val_binary_accuracy: 0.4958\n",
            "Epoch 33/100\n",
            "7/7 [==============================] - 0s 18ms/step - loss: 0.6829 - binary_accuracy: 0.5714 - val_loss: 0.7047 - val_binary_accuracy: 0.4958\n",
            "Epoch 34/100\n",
            "7/7 [==============================] - 0s 18ms/step - loss: 0.6829 - binary_accuracy: 0.5714 - val_loss: 0.7058 - val_binary_accuracy: 0.4958\n",
            "Epoch 35/100\n",
            "7/7 [==============================] - 0s 18ms/step - loss: 0.6830 - binary_accuracy: 0.5714 - val_loss: 0.7046 - val_binary_accuracy: 0.4958\n",
            "Epoch 36/100\n",
            "7/7 [==============================] - 0s 18ms/step - loss: 0.6830 - binary_accuracy: 0.5714 - val_loss: 0.7041 - val_binary_accuracy: 0.4958\n",
            "Epoch 37/100\n",
            "7/7 [==============================] - 0s 19ms/step - loss: 0.6830 - binary_accuracy: 0.5714 - val_loss: 0.7050 - val_binary_accuracy: 0.4958\n",
            "Epoch 38/100\n",
            "7/7 [==============================] - 0s 18ms/step - loss: 0.6829 - binary_accuracy: 0.5714 - val_loss: 0.7047 - val_binary_accuracy: 0.4958\n",
            "Epoch 39/100\n",
            "7/7 [==============================] - 0s 18ms/step - loss: 0.6830 - binary_accuracy: 0.5714 - val_loss: 0.7039 - val_binary_accuracy: 0.4958\n",
            "Epoch 40/100\n",
            "7/7 [==============================] - 0s 18ms/step - loss: 0.6829 - binary_accuracy: 0.5714 - val_loss: 0.7056 - val_binary_accuracy: 0.4958\n",
            "Epoch 41/100\n",
            "7/7 [==============================] - 0s 18ms/step - loss: 0.6829 - binary_accuracy: 0.5714 - val_loss: 0.7058 - val_binary_accuracy: 0.4958\n",
            "Epoch 42/100\n",
            "7/7 [==============================] - 0s 18ms/step - loss: 0.6831 - binary_accuracy: 0.5714 - val_loss: 0.7036 - val_binary_accuracy: 0.4958\n",
            "Epoch 43/100\n",
            "7/7 [==============================] - 0s 18ms/step - loss: 0.6832 - binary_accuracy: 0.5714 - val_loss: 0.7068 - val_binary_accuracy: 0.4958\n",
            "Epoch 44/100\n",
            "7/7 [==============================] - 0s 21ms/step - loss: 0.6830 - binary_accuracy: 0.5714 - val_loss: 0.7029 - val_binary_accuracy: 0.4958\n",
            "Epoch 45/100\n",
            "7/7 [==============================] - 0s 18ms/step - loss: 0.6830 - binary_accuracy: 0.5714 - val_loss: 0.7047 - val_binary_accuracy: 0.4958\n",
            "Epoch 46/100\n",
            "7/7 [==============================] - 0s 18ms/step - loss: 0.6829 - binary_accuracy: 0.5714 - val_loss: 0.7047 - val_binary_accuracy: 0.4958\n",
            "Epoch 47/100\n",
            "7/7 [==============================] - 0s 18ms/step - loss: 0.6829 - binary_accuracy: 0.5714 - val_loss: 0.7053 - val_binary_accuracy: 0.4958\n",
            "Epoch 48/100\n",
            "7/7 [==============================] - 0s 18ms/step - loss: 0.6829 - binary_accuracy: 0.5714 - val_loss: 0.7045 - val_binary_accuracy: 0.4958\n",
            "Epoch 49/100\n",
            "7/7 [==============================] - 0s 18ms/step - loss: 0.6830 - binary_accuracy: 0.5714 - val_loss: 0.7036 - val_binary_accuracy: 0.4958\n",
            "Epoch 50/100\n",
            "7/7 [==============================] - 0s 21ms/step - loss: 0.6830 - binary_accuracy: 0.5714 - val_loss: 0.7067 - val_binary_accuracy: 0.4958\n",
            "Epoch 51/100\n",
            "7/7 [==============================] - 0s 17ms/step - loss: 0.6831 - binary_accuracy: 0.5714 - val_loss: 0.7058 - val_binary_accuracy: 0.4958\n",
            "Epoch 52/100\n",
            "7/7 [==============================] - 0s 18ms/step - loss: 0.6830 - binary_accuracy: 0.5714 - val_loss: 0.7016 - val_binary_accuracy: 0.4958\n",
            "Epoch 53/100\n",
            "7/7 [==============================] - 0s 18ms/step - loss: 0.6830 - binary_accuracy: 0.5714 - val_loss: 0.7045 - val_binary_accuracy: 0.4958\n",
            "Epoch 54/100\n",
            "7/7 [==============================] - 0s 18ms/step - loss: 0.6831 - binary_accuracy: 0.5714 - val_loss: 0.7078 - val_binary_accuracy: 0.4958\n",
            "Epoch 55/100\n",
            "7/7 [==============================] - 0s 18ms/step - loss: 0.6830 - binary_accuracy: 0.5714 - val_loss: 0.7044 - val_binary_accuracy: 0.4958\n",
            "Epoch 56/100\n",
            "7/7 [==============================] - 0s 18ms/step - loss: 0.6830 - binary_accuracy: 0.5714 - val_loss: 0.7036 - val_binary_accuracy: 0.4958\n",
            "Epoch 57/100\n",
            "7/7 [==============================] - 0s 18ms/step - loss: 0.6829 - binary_accuracy: 0.5714 - val_loss: 0.7045 - val_binary_accuracy: 0.4958\n",
            "Epoch 58/100\n",
            "7/7 [==============================] - 0s 18ms/step - loss: 0.6829 - binary_accuracy: 0.5714 - val_loss: 0.7061 - val_binary_accuracy: 0.4958\n",
            "Epoch 59/100\n",
            "7/7 [==============================] - 0s 18ms/step - loss: 0.6830 - binary_accuracy: 0.5714 - val_loss: 0.7052 - val_binary_accuracy: 0.4958\n",
            "Epoch 60/100\n",
            "7/7 [==============================] - 0s 18ms/step - loss: 0.6829 - binary_accuracy: 0.5714 - val_loss: 0.7044 - val_binary_accuracy: 0.4958\n",
            "Epoch 61/100\n",
            "7/7 [==============================] - 0s 18ms/step - loss: 0.6830 - binary_accuracy: 0.5714 - val_loss: 0.7037 - val_binary_accuracy: 0.4958\n",
            "Epoch 62/100\n",
            "7/7 [==============================] - 0s 18ms/step - loss: 0.6832 - binary_accuracy: 0.5714 - val_loss: 0.7070 - val_binary_accuracy: 0.4958\n",
            "Epoch 63/100\n",
            "7/7 [==============================] - 0s 18ms/step - loss: 0.6829 - binary_accuracy: 0.5714 - val_loss: 0.7032 - val_binary_accuracy: 0.4958\n",
            "Epoch 64/100\n",
            "7/7 [==============================] - 0s 18ms/step - loss: 0.6830 - binary_accuracy: 0.5714 - val_loss: 0.7031 - val_binary_accuracy: 0.4958\n",
            "Epoch 65/100\n",
            "7/7 [==============================] - 0s 18ms/step - loss: 0.6829 - binary_accuracy: 0.5714 - val_loss: 0.7065 - val_binary_accuracy: 0.4958\n",
            "Epoch 66/100\n",
            "7/7 [==============================] - 0s 18ms/step - loss: 0.6830 - binary_accuracy: 0.5714 - val_loss: 0.7055 - val_binary_accuracy: 0.4958\n",
            "Epoch 67/100\n",
            "7/7 [==============================] - 0s 18ms/step - loss: 0.6830 - binary_accuracy: 0.5714 - val_loss: 0.7040 - val_binary_accuracy: 0.4958\n",
            "Epoch 68/100\n",
            "7/7 [==============================] - 0s 21ms/step - loss: 0.6829 - binary_accuracy: 0.5714 - val_loss: 0.7058 - val_binary_accuracy: 0.4958\n",
            "Epoch 69/100\n",
            "7/7 [==============================] - 0s 18ms/step - loss: 0.6830 - binary_accuracy: 0.5714 - val_loss: 0.7048 - val_binary_accuracy: 0.4958\n",
            "Epoch 70/100\n",
            "7/7 [==============================] - 0s 18ms/step - loss: 0.6832 - binary_accuracy: 0.5714 - val_loss: 0.7021 - val_binary_accuracy: 0.4958\n",
            "Epoch 71/100\n",
            "7/7 [==============================] - 0s 18ms/step - loss: 0.6831 - binary_accuracy: 0.5714 - val_loss: 0.7073 - val_binary_accuracy: 0.4958\n",
            "Epoch 72/100\n",
            "7/7 [==============================] - 0s 19ms/step - loss: 0.6830 - binary_accuracy: 0.5714 - val_loss: 0.7046 - val_binary_accuracy: 0.4958\n",
            "Epoch 73/100\n",
            "7/7 [==============================] - 0s 19ms/step - loss: 0.6831 - binary_accuracy: 0.5714 - val_loss: 0.7018 - val_binary_accuracy: 0.4958\n",
            "Epoch 74/100\n",
            "7/7 [==============================] - 0s 18ms/step - loss: 0.6831 - binary_accuracy: 0.5714 - val_loss: 0.7064 - val_binary_accuracy: 0.4958\n",
            "Epoch 75/100\n",
            "7/7 [==============================] - 0s 18ms/step - loss: 0.6830 - binary_accuracy: 0.5714 - val_loss: 0.7052 - val_binary_accuracy: 0.4958\n",
            "Epoch 76/100\n",
            "7/7 [==============================] - 0s 17ms/step - loss: 0.6830 - binary_accuracy: 0.5714 - val_loss: 0.7044 - val_binary_accuracy: 0.4958\n",
            "Epoch 77/100\n",
            "7/7 [==============================] - 0s 18ms/step - loss: 0.6829 - binary_accuracy: 0.5714 - val_loss: 0.7049 - val_binary_accuracy: 0.4958\n",
            "Epoch 78/100\n",
            "7/7 [==============================] - 0s 18ms/step - loss: 0.6831 - binary_accuracy: 0.5714 - val_loss: 0.7055 - val_binary_accuracy: 0.4958\n",
            "Epoch 79/100\n",
            "7/7 [==============================] - 0s 17ms/step - loss: 0.6831 - binary_accuracy: 0.5714 - val_loss: 0.7020 - val_binary_accuracy: 0.4958\n",
            "Epoch 80/100\n",
            "7/7 [==============================] - 0s 18ms/step - loss: 0.6830 - binary_accuracy: 0.5714 - val_loss: 0.7045 - val_binary_accuracy: 0.4958\n",
            "Epoch 81/100\n",
            "7/7 [==============================] - 0s 18ms/step - loss: 0.6830 - binary_accuracy: 0.5714 - val_loss: 0.7075 - val_binary_accuracy: 0.4958\n",
            "Epoch 82/100\n",
            "7/7 [==============================] - 0s 18ms/step - loss: 0.6829 - binary_accuracy: 0.5714 - val_loss: 0.7040 - val_binary_accuracy: 0.4958\n",
            "Epoch 83/100\n",
            "7/7 [==============================] - 0s 17ms/step - loss: 0.6832 - binary_accuracy: 0.5714 - val_loss: 0.7015 - val_binary_accuracy: 0.4958\n",
            "Epoch 84/100\n",
            "7/7 [==============================] - 0s 17ms/step - loss: 0.6832 - binary_accuracy: 0.5714 - val_loss: 0.7064 - val_binary_accuracy: 0.4958\n",
            "Epoch 85/100\n",
            "7/7 [==============================] - 0s 18ms/step - loss: 0.6830 - binary_accuracy: 0.5714 - val_loss: 0.7044 - val_binary_accuracy: 0.4958\n",
            "Epoch 86/100\n",
            "7/7 [==============================] - 0s 18ms/step - loss: 0.6830 - binary_accuracy: 0.5714 - val_loss: 0.7034 - val_binary_accuracy: 0.4958\n",
            "Epoch 87/100\n",
            "7/7 [==============================] - 0s 18ms/step - loss: 0.6831 - binary_accuracy: 0.5714 - val_loss: 0.7051 - val_binary_accuracy: 0.4958\n",
            "Epoch 88/100\n",
            "7/7 [==============================] - 0s 18ms/step - loss: 0.6829 - binary_accuracy: 0.5714 - val_loss: 0.7059 - val_binary_accuracy: 0.4958\n",
            "Epoch 89/100\n",
            "7/7 [==============================] - 0s 18ms/step - loss: 0.6830 - binary_accuracy: 0.5714 - val_loss: 0.7044 - val_binary_accuracy: 0.4958\n",
            "Epoch 90/100\n",
            "7/7 [==============================] - 0s 18ms/step - loss: 0.6830 - binary_accuracy: 0.5714 - val_loss: 0.7046 - val_binary_accuracy: 0.4958\n",
            "Epoch 91/100\n",
            "7/7 [==============================] - 0s 18ms/step - loss: 0.6829 - binary_accuracy: 0.5714 - val_loss: 0.7040 - val_binary_accuracy: 0.4958\n",
            "Epoch 92/100\n",
            "7/7 [==============================] - 0s 20ms/step - loss: 0.6830 - binary_accuracy: 0.5714 - val_loss: 0.7038 - val_binary_accuracy: 0.4958\n",
            "Epoch 93/100\n",
            "7/7 [==============================] - 0s 18ms/step - loss: 0.6829 - binary_accuracy: 0.5714 - val_loss: 0.7066 - val_binary_accuracy: 0.4958\n",
            "Epoch 94/100\n",
            "7/7 [==============================] - 0s 18ms/step - loss: 0.6831 - binary_accuracy: 0.5714 - val_loss: 0.7065 - val_binary_accuracy: 0.4958\n",
            "Epoch 95/100\n",
            "7/7 [==============================] - 0s 18ms/step - loss: 0.6830 - binary_accuracy: 0.5714 - val_loss: 0.7025 - val_binary_accuracy: 0.4958\n",
            "Epoch 96/100\n",
            "7/7 [==============================] - 0s 21ms/step - loss: 0.6829 - binary_accuracy: 0.5714 - val_loss: 0.7055 - val_binary_accuracy: 0.4958\n",
            "Epoch 97/100\n",
            "7/7 [==============================] - 0s 18ms/step - loss: 0.6831 - binary_accuracy: 0.5714 - val_loss: 0.7064 - val_binary_accuracy: 0.4958\n",
            "Epoch 98/100\n",
            "7/7 [==============================] - 0s 19ms/step - loss: 0.6831 - binary_accuracy: 0.5714 - val_loss: 0.7026 - val_binary_accuracy: 0.4958\n",
            "Epoch 99/100\n",
            "7/7 [==============================] - 0s 18ms/step - loss: 0.6829 - binary_accuracy: 0.5714 - val_loss: 0.7058 - val_binary_accuracy: 0.4958\n",
            "Epoch 100/100\n",
            "7/7 [==============================] - 0s 18ms/step - loss: 0.6830 - binary_accuracy: 0.5714 - val_loss: 0.7060 - val_binary_accuracy: 0.4958\n"
          ]
        },
        {
          "data": {
            "text/plain": [
              "<keras.callbacks.History at 0x7f717f467550>"
            ]
          },
          "execution_count": null,
          "metadata": {},
          "output_type": "execute_result"
        }
      ],
      "source": [
        "model_input = keras.Input(shape=(x_train.shape[1], 1))\n",
        "\n",
        "x = keras.layers.Conv1D(filters=16, kernel_size=2, activation='relu', kernel_initializer='he_normal', padding='same')(model_input)\n",
        "x = keras.layers.MaxPooling1D(pool_size=(2,2))\n",
        "x = keras.layers.BatchNormalization()(x)\n",
        "\n",
        "x = keras.layers.GlobalAveragePooling1D()(x)\n",
        "\n",
        "x = keras.layers.Dense(units=1, activation='sigmoid', kernel_initializer='glorot_normal')(x)\n",
        "\n",
        "model = keras.Model(model_input, x)\n",
        "\n",
        "model.summary()\n",
        "\n",
        "model.compile(loss='binary_crossentropy', optimizer=keras.optimizers.Adam(learning_rate=0.01), metrics=['binary_accuracy'])\n",
        "model.fit(x_train, y_train, batch_size=32, epochs=100, validation_data=(x_test, y_test))"
      ]
    },
    {
      "cell_type": "code",
      "execution_count": null,
      "metadata": {
        "id": "EAbkRdxmzWTc"
      },
      "outputs": [],
      "source": [
        ""
      ]
    }
  ],
  "metadata": {
    "accelerator": "GPU",
    "colab": {
      "name": "ser_model.ipynb",
      "provenance": [],
      "authorship_tag": "ABX9TyPSOvgOjA8oHx/NbZJun/ih",
      "include_colab_link": true
    },
    "gpuClass": "standard",
    "kernelspec": {
      "display_name": "Python 3",
      "name": "python3"
    },
    "language_info": {
      "name": "python"
    }
  },
  "nbformat": 4,
  "nbformat_minor": 0
}