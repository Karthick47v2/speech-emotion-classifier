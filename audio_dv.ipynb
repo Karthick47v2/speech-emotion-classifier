{
  "nbformat": 4,
  "nbformat_minor": 0,
  "metadata": {
    "colab": {
      "name": "audio_dv.ipynb",
      "provenance": [],
      "authorship_tag": "ABX9TyNhkQxMOGo3gZJKcadzRMkv",
      "include_colab_link": true
    },
    "kernelspec": {
      "name": "python3",
      "display_name": "Python 3"
    },
    "language_info": {
      "name": "python"
    }
  },
  "cells": [
    {
      "cell_type": "markdown",
      "metadata": {
        "id": "view-in-github",
        "colab_type": "text"
      },
      "source": [
        "<a href=\"https://colab.research.google.com/github/Karthick47v2/mock-buddy/blob/base-dev/audio_dv.ipynb\" target=\"_parent\"><img src=\"https://colab.research.google.com/assets/colab-badge.svg\" alt=\"Open In Colab\"/></a>"
      ]
    },
    {
      "cell_type": "code",
      "execution_count": null,
      "metadata": {
        "id": "k8MUYmdjKH7o"
      },
      "outputs": [],
      "source": [
        " !pip install kaggle\n",
        " !mkdir ~/.kaggle \n",
        " !cp kaggle.json ~/.kaggle/\n",
        " !chmod 600 ~/.kaggle/kaggle.json\n",
        " !kaggle datasets download uwrfkaggler/ravdess-emotional-speech-audio\n",
        " !kaggle datasets download ejlok1/surrey-audiovisual-expressed-emotion-savee\n",
        " !kaggle datasets download ejlok1/toronto-emotional-speech-set-tess\n",
        "\n",
        " !unzip ravdess-emotional-speech-audio\n",
        " !unzip surrey-audiovisual-expressed-emotion-savee\n",
        " !unzip toronto-emotional-speech-set-tess"
      ]
    },
    {
      "cell_type": "code",
      "source": [
        "!pip install librosa --upgrade"
      ],
      "metadata": {
        "id": "-wLHxNGEUUrb"
      },
      "execution_count": null,
      "outputs": []
    },
    {
      "cell_type": "code",
      "source": [
        "import glob\n",
        "import pandas as pd\n",
        "import numpy as np\n",
        "import librosa \n",
        "import librosa.display\n",
        "import matplotlib.pyplot as plt\n",
        "\n",
        "import IPython.display as ipd "
      ],
      "metadata": {
        "id": "VA2MGRDmLt9Z"
      },
      "execution_count": 4,
      "outputs": []
    },
    {
      "cell_type": "code",
      "source": [
        "# 1 - neutral \n",
        "# 2 - calm \n",
        "# 3 - happy\n",
        "# 4 - sad\n",
        "# 5 - angry\n",
        "# 6 - fear\n",
        "# 7 - disgust \n",
        "# 8 - surprise\n",
        "\n",
        "# Take calm happy surprise as POSTITIVE (1)  (2, 3, 8)\n",
        "# and sad angry disgust fear as NEGATIVE (0) (4,5,6,7)\n",
        "# drop neutral (1)\n",
        "\n",
        "# gender \n",
        "# 0 - f\n",
        "# 1 - m"
      ],
      "metadata": {
        "id": "JHWCpaASRmhl"
      },
      "execution_count": null,
      "outputs": []
    },
    {
      "cell_type": "code",
      "source": [
        "path_list = glob.glob('/content/Actor_*/**')\n",
        "\n",
        "emotion_list = [int((x.split('.')[0]).split('-')[2]) for x in path_list]\n",
        "gender_list = [1 if int((x.split('.')[0]).split('-')[-1]) % 2 != 0 else 0 for x in path_list]\n",
        "\n",
        "df = pd.DataFrame({'path': path_list, 'emotion': emotion_list, 'gender': gender_list})"
      ],
      "metadata": {
        "id": "O82yQ_xDN3m-"
      },
      "execution_count": 5,
      "outputs": []
    },
    {
      "cell_type": "code",
      "source": [
        "print(df['emotion'].value_counts())\n",
        "print(df['gender'].value_counts())"
      ],
      "metadata": {
        "id": "ItXh_uF6Q6vd"
      },
      "execution_count": null,
      "outputs": []
    },
    {
      "cell_type": "code",
      "source": [
        "n_mfcc = 13\n",
        "input_duration = 3\n",
        "sample_rate = 44100\n",
        "\n",
        "def wavplot(path):\n",
        "  y, sr = librosa.load(path, sr=sample_rate)\n",
        "\n",
        "  plt.figure(figsize=(15,5))\n",
        "  librosa.display.waveshow(y, sr=sr)\n",
        "  plt.xlabel('Time')\n",
        "  plt.ylabel('Amplitude')\n",
        "  plt.show()\n",
        "\n",
        "def mfccplot(path):\n",
        "  y, sr = librosa.load(path, sr=sample_rate)\n",
        "  \n",
        "  mfccs = librosa.feature.mfcc(y, sr=sr, n_mfcc=n_mfcc)\n",
        "  \n",
        "  plt.figure(figsize=(15,5))\n",
        "  librosa.display.specshow(mfccs, sr=sr, hop_length=512)\n",
        "  plt.xlabel('Time')\n",
        "  plt.ylabel('MFCC')\n",
        "  plt.colorbar()\n",
        "  plt.show()\n",
        "\n",
        "def extract_mfcc(path):\n",
        "  y, sr = librosa.load(path, duration=input_duration, sr=sample_rate, offset=0.5)\n",
        "  \n",
        "  mfccs = librosa.feature.mfcc(y, sr=sr, n_mfcc=n_mfcc)\n",
        "  return np.mean(mfccs, axis=0)"
      ],
      "metadata": {
        "id": "uwhWd83gTCor"
      },
      "execution_count": 7,
      "outputs": []
    },
    {
      "cell_type": "code",
      "source": [
        "df.iloc[0], df.iloc[1], df.iloc[2], df.iloc[3], df.iloc[6], df.iloc[11], df.iloc[14], df.iloc[36]"
      ],
      "metadata": {
        "id": "6yzkXy_pVOc5"
      },
      "execution_count": null,
      "outputs": []
    },
    {
      "cell_type": "code",
      "source": [
        "# happy\n",
        "wavplot(df['path'][0])\n",
        "mfccplot(df['path'][0])\n",
        "ipd.Audio(df['path'][0])"
      ],
      "metadata": {
        "id": "gz2sT8WRUARF"
      },
      "execution_count": null,
      "outputs": []
    },
    {
      "cell_type": "code",
      "source": [
        "# disgust\n",
        "wavplot(df['path'][1])\n",
        "mfccplot(df['path'][1])\n",
        "ipd.Audio(df['path'][1])"
      ],
      "metadata": {
        "id": "V6QOcuBkUFbz"
      },
      "execution_count": null,
      "outputs": []
    },
    {
      "cell_type": "code",
      "source": [
        "# angry \n",
        "wavplot(df['path'][2])\n",
        "mfccplot(df['path'][2])\n",
        "ipd.Audio(df['path'][2])"
      ],
      "metadata": {
        "id": "-iV9q3InVe4A"
      },
      "execution_count": null,
      "outputs": []
    },
    {
      "cell_type": "code",
      "source": [
        "# fear \n",
        "wavplot(df['path'][3])\n",
        "mfccplot(df['path'][3])\n",
        "ipd.Audio(df['path'][3])"
      ],
      "metadata": {
        "id": "dEJvuXz5CLrR"
      },
      "execution_count": null,
      "outputs": []
    },
    {
      "cell_type": "code",
      "source": [
        "# sad\n",
        "wavplot(df['path'][6])\n",
        "mfcc_s = mfccplot(df['path'][6])\n",
        "ipd.Audio(df['path'][6])"
      ],
      "metadata": {
        "id": "YxN1EXU4CN6B"
      },
      "execution_count": null,
      "outputs": []
    },
    {
      "cell_type": "code",
      "source": [
        "# suprise\n",
        "wavplot(df['path'][11])\n",
        "mfccplot(df['path'][11])\n",
        "ipd.Audio(df['path'][11])"
      ],
      "metadata": {
        "id": "NbOlTUUXCbs7"
      },
      "execution_count": null,
      "outputs": []
    },
    {
      "cell_type": "code",
      "source": [
        "# calm\n",
        "wavplot(df['path'][14])\n",
        "mfccplot(df['path'][14])\n",
        "ipd.Audio(df['path'][14])"
      ],
      "metadata": {
        "id": "6KvmvnX1Cliv"
      },
      "execution_count": null,
      "outputs": []
    },
    {
      "cell_type": "code",
      "source": [
        "# neutral\n",
        "wavplot(df['path'][36])\n",
        "mfccplot(df['path'][36])\n",
        "ipd.Audio(df['path'][36])"
      ],
      "metadata": {
        "id": "AsaQili1DAM8"
      },
      "execution_count": null,
      "outputs": []
    },
    {
      "cell_type": "code",
      "source": [
        "def extend_mfcc(lst, n):\n",
        "    lst.extend([0] * n)\n",
        "    return lst"
      ],
      "metadata": {
        "id": "wB3VF3k7htFO"
      },
      "execution_count": 21,
      "outputs": []
    },
    {
      "cell_type": "code",
      "source": [
        "mfcc_list = [extract_mfcc(x).tolist() for x in path_list]"
      ],
      "metadata": {
        "id": "AKLH-5_jDkjt"
      },
      "execution_count": null,
      "outputs": []
    },
    {
      "cell_type": "code",
      "source": [
        "# aug\n",
        "def noise(y, val):\n",
        "  noise_a = val * np.random.uniform() * np.amax(y)\n",
        "  return y.astype('float64') + noise_a * np.random.normal(size=y.shape[0])\n",
        "\n",
        "def pitch_sh(y):\n",
        "  pitch_shift = 2 * 2 * np.random.uniform()\n",
        "  return librosa.effects.pitch_shift(y.astype('float64'), sr=44100, n_steps=pitch_shift, bins_per_octave=12)"
      ],
      "metadata": {
        "id": "pcjvJPtACfLX"
      },
      "execution_count": 8,
      "outputs": []
    },
    {
      "cell_type": "code",
      "source": [
        "# sample\n",
        "samp_y, samp_sr = librosa.load(path_list[0], sr=44100)\n",
        "\n",
        "noised_y = noise(samp_y)\n",
        "p_shifted_y = pitch_sh(samp_y)"
      ],
      "metadata": {
        "id": "X1KfItF__j_K"
      },
      "execution_count": 38,
      "outputs": []
    },
    {
      "cell_type": "code",
      "source": [
        "plt.figure(figsize=(15,5))\n",
        "librosa.display.waveshow(samp_y, sr=samp_sr)\n",
        "plt.xlabel('Time')\n",
        "plt.ylabel('Amplitude')\n",
        "plt.show()\n",
        "\n",
        "ipd.Audio(samp_y, rate=sample_rate)"
      ],
      "metadata": {
        "id": "hN4H7VJhE3Hz"
      },
      "execution_count": null,
      "outputs": []
    },
    {
      "cell_type": "code",
      "source": [
        "plt.figure(figsize=(15,5))\n",
        "librosa.display.waveshow(noised_y, sr=samp_sr)\n",
        "plt.xlabel('Time')\n",
        "plt.ylabel('Amplitude')\n",
        "plt.show()\n",
        "\n",
        "ipd.Audio(noised_y, rate=sample_rate)"
      ],
      "metadata": {
        "id": "iWySEV9WEagP"
      },
      "execution_count": null,
      "outputs": []
    },
    {
      "cell_type": "code",
      "source": [
        "plt.figure(figsize=(15,5))\n",
        "librosa.display.waveshow(p_shifted_y, sr=samp_sr)\n",
        "plt.xlabel('Time')\n",
        "plt.ylabel('Amplitude')\n",
        "plt.show()\n",
        "\n",
        "ipd.Audio(p_shifted_y, rate=sample_rate)"
      ],
      "metadata": {
        "id": "lnxdYNG4E-YH"
      },
      "execution_count": null,
      "outputs": []
    },
    {
      "cell_type": "code",
      "source": [
        "for i, val in enumerate(path_list):\n",
        "  y, sr = librosa.load(val, duration=input_duration, sr=sample_rate, offset=0.5)\n",
        "\n",
        "  for j in [0.05, 0.01, 0.005]:\n",
        "    noised_y = noise(y, j)\n",
        "\n",
        "    mfccs = librosa.feature.mfcc(noised_y, sr=sr, n_mfcc=n_mfcc)\n",
        "    mfcc_list.append(np.mean(mfccs, axis=0).tolist())\n",
        "\n",
        "    emotion_list.append(emotion_list[i])\n",
        "    gender_list.append(gender_list[i])\n",
        "\n",
        "  p_shifted_y = pitch_sh(y)\n",
        "\n",
        "  mfccs = librosa.feature.mfcc(p_shifted_y, sr=sr, n_mfcc=n_mfcc)\n",
        "  mfcc_list.append(np.mean(mfccs, axis=0).tolist())\n",
        "\n",
        "  emotion_list.append(emotion_list[i])\n",
        "  gender_list.append(gender_list[i])\n",
        "\n",
        "  "
      ],
      "metadata": {
        "id": "JhwhgKgHGU4F"
      },
      "execution_count": null,
      "outputs": []
    },
    {
      "cell_type": "code",
      "source": [
        "filled_mfcc_list = [extend_mfcc(x, 259 - len(x)) for x in mfcc_list]\n",
        "train_test_df = pd.DataFrame({'emotion': emotion_list, 'gender': gender_list, **{f\"{i}\": [mfcc[i] for mfcc in filled_mfcc_list] for i in range(259)}})"
      ],
      "metadata": {
        "id": "4gjRphv6VoZv"
      },
      "execution_count": 10,
      "outputs": []
    },
    {
      "cell_type": "code",
      "source": [
        "train_test_df.drop(train_test_df.index[train_test_df['emotion'] == 1], inplace=True)\n",
        "\n",
        "train_test_df['emotion'].replace([2,3,8], 1, inplace=True) \n",
        "train_test_df['emotion'].replace([4,5,6,7], 0, inplace=True) "
      ],
      "metadata": {
        "id": "xxr3o-ZmaHTl"
      },
      "execution_count": 11,
      "outputs": []
    },
    {
      "cell_type": "code",
      "source": [
        "train_test_df"
      ],
      "metadata": {
        "colab": {
          "base_uri": "https://localhost:8080/",
          "height": 488
        },
        "id": "moQ1l5oBYuU-",
        "outputId": "09b65ec8-c0b6-4716-d95f-e6887178e7d9"
      },
      "execution_count": 12,
      "outputs": [
        {
          "output_type": "execute_result",
          "data": {
            "text/plain": [
              "      emotion  gender          0          1          2          3          4  \\\n",
              "0           1       1 -42.565693 -45.723320 -54.830330 -54.560692 -55.215652   \n",
              "1           0       1 -58.282578 -55.270210 -54.399715 -56.411068 -55.321575   \n",
              "2           0       1 -40.761723 -42.155186 -43.708538 -44.351032 -44.351032   \n",
              "3           0       1 -48.062202 -48.062202 -47.749996 -48.062202 -48.062202   \n",
              "4           0       1 -41.174011 -44.095951 -48.757656 -50.474705 -51.651203   \n",
              "...       ...     ...        ...        ...        ...        ...        ...   \n",
              "7195        0       0 -61.470255 -61.685223 -62.664492 -63.101557 -65.719938   \n",
              "7196        1       0 -42.859975 -41.284255 -43.507908 -41.025778 -39.374642   \n",
              "7197        1       0 -56.460777 -54.144900 -53.137138 -54.111981 -55.137571   \n",
              "7198        1       0 -66.951501 -61.113868 -59.468495 -60.722996 -62.403052   \n",
              "7199        1       0 -67.580221 -62.815340 -63.012802 -66.678444 -67.891628   \n",
              "\n",
              "              5          6          7  ...        249        250        251  \\\n",
              "0    -53.613274 -51.695705 -52.152580  ... -59.006248 -59.611973 -58.766659   \n",
              "1    -54.209984 -55.636570 -56.426567  ... -34.589397 -34.243053 -33.655228   \n",
              "2    -43.947445 -43.190849 -43.290970  ... -24.618227 -24.178001 -26.103615   \n",
              "3    -47.751663 -47.382103 -45.814663  ... -47.090385 -46.408684 -45.647617   \n",
              "4    -50.363728 -48.455132 -50.036892  ... -35.615089 -34.782650 -34.602928   \n",
              "...         ...        ...        ...  ...        ...        ...        ...   \n",
              "7195 -65.743158 -66.646538 -67.913451  ... -64.020833 -67.159888 -67.426587   \n",
              "7196 -39.518081 -41.581720 -41.278283  ... -39.623291 -40.463192 -41.521979   \n",
              "7197 -54.625375 -54.102019 -52.958497  ... -51.693983 -53.968713 -53.344916   \n",
              "7198 -62.995126 -63.394265 -63.575390  ... -58.539882 -59.030686 -58.814419   \n",
              "7199 -69.506016 -70.810280 -70.535846  ... -64.156332 -66.292534 -66.544640   \n",
              "\n",
              "            252        253        254        255        256        257  \\\n",
              "0    -58.319504 -56.437336 -55.988224 -57.266418 -59.833511 -60.339657   \n",
              "1    -32.269119 -31.086882 -29.989555 -29.105869 -26.915915 -26.996634   \n",
              "2    -25.431160 -25.081776 -23.242748 -23.397562 -23.668596 -21.625772   \n",
              "3    -45.908638 -46.386456 -47.419334 -48.062202 -48.062202 -47.807083   \n",
              "4    -33.255592 -31.265129 -30.362068 -26.578074 -24.863678 -17.450375   \n",
              "...         ...        ...        ...        ...        ...        ...   \n",
              "7195 -67.213719 -66.698409 -66.348706 -66.761418 -66.511344 -66.408772   \n",
              "7196 -41.027986 -42.508374 -41.623047 -38.640859 -40.623519 -41.862037   \n",
              "7197 -53.307824 -53.406349 -50.984629 -50.605158 -51.364151 -50.239456   \n",
              "7198 -58.209728 -58.702521 -57.475045 -55.483812 -55.519759 -53.485806   \n",
              "7199 -66.283608 -64.055017 -63.307242 -61.509243 -60.995560 -59.070783   \n",
              "\n",
              "            258  \n",
              "0    -60.883591  \n",
              "1    -24.238993  \n",
              "2    -17.608624  \n",
              "3    -47.791618  \n",
              "4    -11.114177  \n",
              "...         ...  \n",
              "7195 -66.841293  \n",
              "7196 -41.772543  \n",
              "7197 -49.371110  \n",
              "7198 -50.986704  \n",
              "7199 -60.288107  \n",
              "\n",
              "[6720 rows x 261 columns]"
            ],
            "text/html": [
              "\n",
              "  <div id=\"df-000b130f-dc8a-414a-a67a-d7c7faa6fc44\">\n",
              "    <div class=\"colab-df-container\">\n",
              "      <div>\n",
              "<style scoped>\n",
              "    .dataframe tbody tr th:only-of-type {\n",
              "        vertical-align: middle;\n",
              "    }\n",
              "\n",
              "    .dataframe tbody tr th {\n",
              "        vertical-align: top;\n",
              "    }\n",
              "\n",
              "    .dataframe thead th {\n",
              "        text-align: right;\n",
              "    }\n",
              "</style>\n",
              "<table border=\"1\" class=\"dataframe\">\n",
              "  <thead>\n",
              "    <tr style=\"text-align: right;\">\n",
              "      <th></th>\n",
              "      <th>emotion</th>\n",
              "      <th>gender</th>\n",
              "      <th>0</th>\n",
              "      <th>1</th>\n",
              "      <th>2</th>\n",
              "      <th>3</th>\n",
              "      <th>4</th>\n",
              "      <th>5</th>\n",
              "      <th>6</th>\n",
              "      <th>7</th>\n",
              "      <th>...</th>\n",
              "      <th>249</th>\n",
              "      <th>250</th>\n",
              "      <th>251</th>\n",
              "      <th>252</th>\n",
              "      <th>253</th>\n",
              "      <th>254</th>\n",
              "      <th>255</th>\n",
              "      <th>256</th>\n",
              "      <th>257</th>\n",
              "      <th>258</th>\n",
              "    </tr>\n",
              "  </thead>\n",
              "  <tbody>\n",
              "    <tr>\n",
              "      <th>0</th>\n",
              "      <td>1</td>\n",
              "      <td>1</td>\n",
              "      <td>-42.565693</td>\n",
              "      <td>-45.723320</td>\n",
              "      <td>-54.830330</td>\n",
              "      <td>-54.560692</td>\n",
              "      <td>-55.215652</td>\n",
              "      <td>-53.613274</td>\n",
              "      <td>-51.695705</td>\n",
              "      <td>-52.152580</td>\n",
              "      <td>...</td>\n",
              "      <td>-59.006248</td>\n",
              "      <td>-59.611973</td>\n",
              "      <td>-58.766659</td>\n",
              "      <td>-58.319504</td>\n",
              "      <td>-56.437336</td>\n",
              "      <td>-55.988224</td>\n",
              "      <td>-57.266418</td>\n",
              "      <td>-59.833511</td>\n",
              "      <td>-60.339657</td>\n",
              "      <td>-60.883591</td>\n",
              "    </tr>\n",
              "    <tr>\n",
              "      <th>1</th>\n",
              "      <td>0</td>\n",
              "      <td>1</td>\n",
              "      <td>-58.282578</td>\n",
              "      <td>-55.270210</td>\n",
              "      <td>-54.399715</td>\n",
              "      <td>-56.411068</td>\n",
              "      <td>-55.321575</td>\n",
              "      <td>-54.209984</td>\n",
              "      <td>-55.636570</td>\n",
              "      <td>-56.426567</td>\n",
              "      <td>...</td>\n",
              "      <td>-34.589397</td>\n",
              "      <td>-34.243053</td>\n",
              "      <td>-33.655228</td>\n",
              "      <td>-32.269119</td>\n",
              "      <td>-31.086882</td>\n",
              "      <td>-29.989555</td>\n",
              "      <td>-29.105869</td>\n",
              "      <td>-26.915915</td>\n",
              "      <td>-26.996634</td>\n",
              "      <td>-24.238993</td>\n",
              "    </tr>\n",
              "    <tr>\n",
              "      <th>2</th>\n",
              "      <td>0</td>\n",
              "      <td>1</td>\n",
              "      <td>-40.761723</td>\n",
              "      <td>-42.155186</td>\n",
              "      <td>-43.708538</td>\n",
              "      <td>-44.351032</td>\n",
              "      <td>-44.351032</td>\n",
              "      <td>-43.947445</td>\n",
              "      <td>-43.190849</td>\n",
              "      <td>-43.290970</td>\n",
              "      <td>...</td>\n",
              "      <td>-24.618227</td>\n",
              "      <td>-24.178001</td>\n",
              "      <td>-26.103615</td>\n",
              "      <td>-25.431160</td>\n",
              "      <td>-25.081776</td>\n",
              "      <td>-23.242748</td>\n",
              "      <td>-23.397562</td>\n",
              "      <td>-23.668596</td>\n",
              "      <td>-21.625772</td>\n",
              "      <td>-17.608624</td>\n",
              "    </tr>\n",
              "    <tr>\n",
              "      <th>3</th>\n",
              "      <td>0</td>\n",
              "      <td>1</td>\n",
              "      <td>-48.062202</td>\n",
              "      <td>-48.062202</td>\n",
              "      <td>-47.749996</td>\n",
              "      <td>-48.062202</td>\n",
              "      <td>-48.062202</td>\n",
              "      <td>-47.751663</td>\n",
              "      <td>-47.382103</td>\n",
              "      <td>-45.814663</td>\n",
              "      <td>...</td>\n",
              "      <td>-47.090385</td>\n",
              "      <td>-46.408684</td>\n",
              "      <td>-45.647617</td>\n",
              "      <td>-45.908638</td>\n",
              "      <td>-46.386456</td>\n",
              "      <td>-47.419334</td>\n",
              "      <td>-48.062202</td>\n",
              "      <td>-48.062202</td>\n",
              "      <td>-47.807083</td>\n",
              "      <td>-47.791618</td>\n",
              "    </tr>\n",
              "    <tr>\n",
              "      <th>4</th>\n",
              "      <td>0</td>\n",
              "      <td>1</td>\n",
              "      <td>-41.174011</td>\n",
              "      <td>-44.095951</td>\n",
              "      <td>-48.757656</td>\n",
              "      <td>-50.474705</td>\n",
              "      <td>-51.651203</td>\n",
              "      <td>-50.363728</td>\n",
              "      <td>-48.455132</td>\n",
              "      <td>-50.036892</td>\n",
              "      <td>...</td>\n",
              "      <td>-35.615089</td>\n",
              "      <td>-34.782650</td>\n",
              "      <td>-34.602928</td>\n",
              "      <td>-33.255592</td>\n",
              "      <td>-31.265129</td>\n",
              "      <td>-30.362068</td>\n",
              "      <td>-26.578074</td>\n",
              "      <td>-24.863678</td>\n",
              "      <td>-17.450375</td>\n",
              "      <td>-11.114177</td>\n",
              "    </tr>\n",
              "    <tr>\n",
              "      <th>...</th>\n",
              "      <td>...</td>\n",
              "      <td>...</td>\n",
              "      <td>...</td>\n",
              "      <td>...</td>\n",
              "      <td>...</td>\n",
              "      <td>...</td>\n",
              "      <td>...</td>\n",
              "      <td>...</td>\n",
              "      <td>...</td>\n",
              "      <td>...</td>\n",
              "      <td>...</td>\n",
              "      <td>...</td>\n",
              "      <td>...</td>\n",
              "      <td>...</td>\n",
              "      <td>...</td>\n",
              "      <td>...</td>\n",
              "      <td>...</td>\n",
              "      <td>...</td>\n",
              "      <td>...</td>\n",
              "      <td>...</td>\n",
              "      <td>...</td>\n",
              "    </tr>\n",
              "    <tr>\n",
              "      <th>7195</th>\n",
              "      <td>0</td>\n",
              "      <td>0</td>\n",
              "      <td>-61.470255</td>\n",
              "      <td>-61.685223</td>\n",
              "      <td>-62.664492</td>\n",
              "      <td>-63.101557</td>\n",
              "      <td>-65.719938</td>\n",
              "      <td>-65.743158</td>\n",
              "      <td>-66.646538</td>\n",
              "      <td>-67.913451</td>\n",
              "      <td>...</td>\n",
              "      <td>-64.020833</td>\n",
              "      <td>-67.159888</td>\n",
              "      <td>-67.426587</td>\n",
              "      <td>-67.213719</td>\n",
              "      <td>-66.698409</td>\n",
              "      <td>-66.348706</td>\n",
              "      <td>-66.761418</td>\n",
              "      <td>-66.511344</td>\n",
              "      <td>-66.408772</td>\n",
              "      <td>-66.841293</td>\n",
              "    </tr>\n",
              "    <tr>\n",
              "      <th>7196</th>\n",
              "      <td>1</td>\n",
              "      <td>0</td>\n",
              "      <td>-42.859975</td>\n",
              "      <td>-41.284255</td>\n",
              "      <td>-43.507908</td>\n",
              "      <td>-41.025778</td>\n",
              "      <td>-39.374642</td>\n",
              "      <td>-39.518081</td>\n",
              "      <td>-41.581720</td>\n",
              "      <td>-41.278283</td>\n",
              "      <td>...</td>\n",
              "      <td>-39.623291</td>\n",
              "      <td>-40.463192</td>\n",
              "      <td>-41.521979</td>\n",
              "      <td>-41.027986</td>\n",
              "      <td>-42.508374</td>\n",
              "      <td>-41.623047</td>\n",
              "      <td>-38.640859</td>\n",
              "      <td>-40.623519</td>\n",
              "      <td>-41.862037</td>\n",
              "      <td>-41.772543</td>\n",
              "    </tr>\n",
              "    <tr>\n",
              "      <th>7197</th>\n",
              "      <td>1</td>\n",
              "      <td>0</td>\n",
              "      <td>-56.460777</td>\n",
              "      <td>-54.144900</td>\n",
              "      <td>-53.137138</td>\n",
              "      <td>-54.111981</td>\n",
              "      <td>-55.137571</td>\n",
              "      <td>-54.625375</td>\n",
              "      <td>-54.102019</td>\n",
              "      <td>-52.958497</td>\n",
              "      <td>...</td>\n",
              "      <td>-51.693983</td>\n",
              "      <td>-53.968713</td>\n",
              "      <td>-53.344916</td>\n",
              "      <td>-53.307824</td>\n",
              "      <td>-53.406349</td>\n",
              "      <td>-50.984629</td>\n",
              "      <td>-50.605158</td>\n",
              "      <td>-51.364151</td>\n",
              "      <td>-50.239456</td>\n",
              "      <td>-49.371110</td>\n",
              "    </tr>\n",
              "    <tr>\n",
              "      <th>7198</th>\n",
              "      <td>1</td>\n",
              "      <td>0</td>\n",
              "      <td>-66.951501</td>\n",
              "      <td>-61.113868</td>\n",
              "      <td>-59.468495</td>\n",
              "      <td>-60.722996</td>\n",
              "      <td>-62.403052</td>\n",
              "      <td>-62.995126</td>\n",
              "      <td>-63.394265</td>\n",
              "      <td>-63.575390</td>\n",
              "      <td>...</td>\n",
              "      <td>-58.539882</td>\n",
              "      <td>-59.030686</td>\n",
              "      <td>-58.814419</td>\n",
              "      <td>-58.209728</td>\n",
              "      <td>-58.702521</td>\n",
              "      <td>-57.475045</td>\n",
              "      <td>-55.483812</td>\n",
              "      <td>-55.519759</td>\n",
              "      <td>-53.485806</td>\n",
              "      <td>-50.986704</td>\n",
              "    </tr>\n",
              "    <tr>\n",
              "      <th>7199</th>\n",
              "      <td>1</td>\n",
              "      <td>0</td>\n",
              "      <td>-67.580221</td>\n",
              "      <td>-62.815340</td>\n",
              "      <td>-63.012802</td>\n",
              "      <td>-66.678444</td>\n",
              "      <td>-67.891628</td>\n",
              "      <td>-69.506016</td>\n",
              "      <td>-70.810280</td>\n",
              "      <td>-70.535846</td>\n",
              "      <td>...</td>\n",
              "      <td>-64.156332</td>\n",
              "      <td>-66.292534</td>\n",
              "      <td>-66.544640</td>\n",
              "      <td>-66.283608</td>\n",
              "      <td>-64.055017</td>\n",
              "      <td>-63.307242</td>\n",
              "      <td>-61.509243</td>\n",
              "      <td>-60.995560</td>\n",
              "      <td>-59.070783</td>\n",
              "      <td>-60.288107</td>\n",
              "    </tr>\n",
              "  </tbody>\n",
              "</table>\n",
              "<p>6720 rows × 261 columns</p>\n",
              "</div>\n",
              "      <button class=\"colab-df-convert\" onclick=\"convertToInteractive('df-000b130f-dc8a-414a-a67a-d7c7faa6fc44')\"\n",
              "              title=\"Convert this dataframe to an interactive table.\"\n",
              "              style=\"display:none;\">\n",
              "        \n",
              "  <svg xmlns=\"http://www.w3.org/2000/svg\" height=\"24px\"viewBox=\"0 0 24 24\"\n",
              "       width=\"24px\">\n",
              "    <path d=\"M0 0h24v24H0V0z\" fill=\"none\"/>\n",
              "    <path d=\"M18.56 5.44l.94 2.06.94-2.06 2.06-.94-2.06-.94-.94-2.06-.94 2.06-2.06.94zm-11 1L8.5 8.5l.94-2.06 2.06-.94-2.06-.94L8.5 2.5l-.94 2.06-2.06.94zm10 10l.94 2.06.94-2.06 2.06-.94-2.06-.94-.94-2.06-.94 2.06-2.06.94z\"/><path d=\"M17.41 7.96l-1.37-1.37c-.4-.4-.92-.59-1.43-.59-.52 0-1.04.2-1.43.59L10.3 9.45l-7.72 7.72c-.78.78-.78 2.05 0 2.83L4 21.41c.39.39.9.59 1.41.59.51 0 1.02-.2 1.41-.59l7.78-7.78 2.81-2.81c.8-.78.8-2.07 0-2.86zM5.41 20L4 18.59l7.72-7.72 1.47 1.35L5.41 20z\"/>\n",
              "  </svg>\n",
              "      </button>\n",
              "      \n",
              "  <style>\n",
              "    .colab-df-container {\n",
              "      display:flex;\n",
              "      flex-wrap:wrap;\n",
              "      gap: 12px;\n",
              "    }\n",
              "\n",
              "    .colab-df-convert {\n",
              "      background-color: #E8F0FE;\n",
              "      border: none;\n",
              "      border-radius: 50%;\n",
              "      cursor: pointer;\n",
              "      display: none;\n",
              "      fill: #1967D2;\n",
              "      height: 32px;\n",
              "      padding: 0 0 0 0;\n",
              "      width: 32px;\n",
              "    }\n",
              "\n",
              "    .colab-df-convert:hover {\n",
              "      background-color: #E2EBFA;\n",
              "      box-shadow: 0px 1px 2px rgba(60, 64, 67, 0.3), 0px 1px 3px 1px rgba(60, 64, 67, 0.15);\n",
              "      fill: #174EA6;\n",
              "    }\n",
              "\n",
              "    [theme=dark] .colab-df-convert {\n",
              "      background-color: #3B4455;\n",
              "      fill: #D2E3FC;\n",
              "    }\n",
              "\n",
              "    [theme=dark] .colab-df-convert:hover {\n",
              "      background-color: #434B5C;\n",
              "      box-shadow: 0px 1px 3px 1px rgba(0, 0, 0, 0.15);\n",
              "      filter: drop-shadow(0px 1px 2px rgba(0, 0, 0, 0.3));\n",
              "      fill: #FFFFFF;\n",
              "    }\n",
              "  </style>\n",
              "\n",
              "      <script>\n",
              "        const buttonEl =\n",
              "          document.querySelector('#df-000b130f-dc8a-414a-a67a-d7c7faa6fc44 button.colab-df-convert');\n",
              "        buttonEl.style.display =\n",
              "          google.colab.kernel.accessAllowed ? 'block' : 'none';\n",
              "\n",
              "        async function convertToInteractive(key) {\n",
              "          const element = document.querySelector('#df-000b130f-dc8a-414a-a67a-d7c7faa6fc44');\n",
              "          const dataTable =\n",
              "            await google.colab.kernel.invokeFunction('convertToInteractive',\n",
              "                                                     [key], {});\n",
              "          if (!dataTable) return;\n",
              "\n",
              "          const docLinkHtml = 'Like what you see? Visit the ' +\n",
              "            '<a target=\"_blank\" href=https://colab.research.google.com/notebooks/data_table.ipynb>data table notebook</a>'\n",
              "            + ' to learn more about interactive tables.';\n",
              "          element.innerHTML = '';\n",
              "          dataTable['output_type'] = 'display_data';\n",
              "          await google.colab.output.renderOutput(dataTable, element);\n",
              "          const docLink = document.createElement('div');\n",
              "          docLink.innerHTML = docLinkHtml;\n",
              "          element.appendChild(docLink);\n",
              "        }\n",
              "      </script>\n",
              "    </div>\n",
              "  </div>\n",
              "  "
            ]
          },
          "metadata": {},
          "execution_count": 12
        }
      ]
    },
    {
      "cell_type": "code",
      "source": [
        "from google.colab import drive\n",
        "drive.mount('/content/gdrive')"
      ],
      "metadata": {
        "colab": {
          "base_uri": "https://localhost:8080/"
        },
        "id": "PQuKhoF0bxUI",
        "outputId": "ff6aa270-1300-4905-e030-cb44a0ee2cb3"
      },
      "execution_count": 28,
      "outputs": [
        {
          "output_type": "stream",
          "name": "stdout",
          "text": [
            "Mounted at /content/gdrive\n"
          ]
        }
      ]
    },
    {
      "cell_type": "code",
      "source": [
        "train_test_df.to_csv('ravdess.csv', index=False)"
      ],
      "metadata": {
        "id": "pWjux_vFmlbj"
      },
      "execution_count": 14,
      "outputs": []
    },
    {
      "cell_type": "code",
      "source": [
        "!mv ravdess.csv /content/gdrive/MyDrive/SER/"
      ],
      "metadata": {
        "id": "KEVywVcam6vR"
      },
      "execution_count": 15,
      "outputs": []
    },
    {
      "cell_type": "code",
      "source": [
        ""
      ],
      "metadata": {
        "id": "L8uDFaAOSb4a"
      },
      "execution_count": null,
      "outputs": []
    },
    {
      "cell_type": "code",
      "source": [
        "# test\n",
        "# from SAVEES dataset only fear, happy"
      ],
      "metadata": {
        "id": "8YezR5VEnJqM"
      },
      "execution_count": 8,
      "outputs": []
    },
    {
      "cell_type": "code",
      "source": [
        "path_list = glob.glob('/content/ALL/**')\n",
        "\n",
        "emotion_list = [(list((x.split('.')[0]).split('_')[1])[0]) for x in path_list]\n",
        "gender_list = [1] * len(emotion_list)\n",
        "df = pd.DataFrame({'path': path_list, 'emotion': emotion_list, 'gender': gender_list})\n",
        "\n",
        "filtered_df = df[(df['emotion'] == 'h') | (df['emotion'] == 'f')]"
      ],
      "metadata": {
        "id": "5NNv8n1qhyGc"
      },
      "execution_count": 10,
      "outputs": []
    },
    {
      "cell_type": "code",
      "source": [
        "mfcc_list = [extract_mfcc(x).tolist() for x in filtered_df['path'].values]"
      ],
      "metadata": {
        "id": "TXL6br1tkrHB"
      },
      "execution_count": null,
      "outputs": []
    },
    {
      "cell_type": "code",
      "source": [
        "filled_mfcc_list = [extend_mfcc(x, 259 - len(x)) for x in mfcc_list]\n",
        "savees_df = pd.DataFrame({'emotion': filtered_df['emotion'].values, 'gender': filtered_df['gender'].values, **{f\"{i}\": [mfcc[i] for mfcc in filled_mfcc_list] for i in range(259)}})"
      ],
      "metadata": {
        "id": "gFGniek4jQxw"
      },
      "execution_count": 25,
      "outputs": []
    },
    {
      "cell_type": "code",
      "source": [
        "savees_df['emotion'].replace(['h'], 1, inplace=True) \n",
        "savees_df['emotion'].replace(['f'], 0, inplace=True) "
      ],
      "metadata": {
        "id": "6xjUf2lskKMU"
      },
      "execution_count": 26,
      "outputs": []
    },
    {
      "cell_type": "code",
      "source": [
        "savees_df.to_csv('test_savees.csv', index=False)"
      ],
      "metadata": {
        "id": "OZyeEw7bmTLY"
      },
      "execution_count": 29,
      "outputs": []
    },
    {
      "cell_type": "code",
      "source": [
        "# from SAVEES dataset only fear, happy, angry, disgust, "
      ],
      "metadata": {
        "id": "7ra-g2KGmVUv"
      },
      "execution_count": null,
      "outputs": []
    },
    {
      "cell_type": "code",
      "source": [
        "path_list = glob.glob('/content/TESS Toronto emotional speech set data/**/**')\n",
        "\n",
        "emotion_list = [((x.split('.')[0]).split('/')[-1].split('_')[-1]) for x in path_list]\n",
        "gender_list = [0] * len(emotion_list)\n",
        "df = pd.DataFrame({'path': path_list, 'emotion': emotion_list, 'gender': gender_list})\n",
        "\n",
        "filtered_df = df[(df['emotion'] == 'fear') | (df['emotion'] == 'angry') | (df['emotion'] == 'disgust') | (df['emotion'] == 'happy')]"
      ],
      "metadata": {
        "id": "wMCkqX19mtKu"
      },
      "execution_count": 39,
      "outputs": []
    },
    {
      "cell_type": "code",
      "source": [
        "mfcc_list = [extract_mfcc(x).tolist() for x in filtered_df['path'].values]"
      ],
      "metadata": {
        "id": "MhtSMEuenKaf"
      },
      "execution_count": null,
      "outputs": []
    },
    {
      "cell_type": "code",
      "source": [
        "filled_mfcc_list = [extend_mfcc(x, 259 - len(x)) for x in mfcc_list]\n",
        "tess_df = pd.DataFrame({'emotion': filtered_df['emotion'].values, 'gender': filtered_df['gender'].values, **{f\"{i}\": [mfcc[i] for mfcc in filled_mfcc_list] for i in range(259)}})"
      ],
      "metadata": {
        "id": "UQdIW23XnL-F"
      },
      "execution_count": 42,
      "outputs": []
    },
    {
      "cell_type": "code",
      "source": [
        "tess_df['emotion'].replace(['happy'], 1, inplace=True) \n",
        "tess_df['emotion'].replace(['fear', 'angry', 'disgust'], 0, inplace=True) "
      ],
      "metadata": {
        "id": "q-FBgOIhnuLr"
      },
      "execution_count": 43,
      "outputs": []
    },
    {
      "cell_type": "code",
      "source": [
        "tess_df.to_csv('test_tess.csv', index=False)"
      ],
      "metadata": {
        "id": "sTCDSlx0o0JE"
      },
      "execution_count": 44,
      "outputs": []
    },
    {
      "cell_type": "code",
      "source": [
        "!mv test_tess.csv test_savees.csv /content/gdrive/MyDrive/SER/"
      ],
      "metadata": {
        "id": "oZQkgcM8qhbU"
      },
      "execution_count": 45,
      "outputs": []
    },
    {
      "cell_type": "code",
      "source": [
        ""
      ],
      "metadata": {
        "id": "L6KRRBlBqqUu"
      },
      "execution_count": null,
      "outputs": []
    }
  ]
}