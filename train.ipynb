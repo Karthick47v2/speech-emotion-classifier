{
  "cells": [
    {
      "cell_type": "markdown",
      "metadata": {
        "id": "view-in-github",
        "colab_type": "text"
      },
      "source": [
        "<a href=\"https://colab.research.google.com/github/Karthick47v2/speech-emotion-classifier/blob/main/train.ipynb\" target=\"_parent\"><img src=\"https://colab.research.google.com/assets/colab-badge.svg\" alt=\"Open In Colab\"/></a>"
      ]
    },
    {
      "cell_type": "code",
      "execution_count": 1,
      "metadata": {
        "colab": {
          "base_uri": "https://localhost:8080/"
        },
        "id": "zkw8bp6Li5wJ",
        "outputId": "cfda559d-8264-479d-82b2-0ad4d528637a"
      },
      "outputs": [
        {
          "output_type": "stream",
          "name": "stdout",
          "text": [
            "Mounted at /content/drive\n"
          ]
        }
      ],
      "source": [
        "from google.colab import drive\n",
        "drive.mount('/content/drive')"
      ]
    },
    {
      "cell_type": "code",
      "execution_count": 40,
      "metadata": {
        "id": "bNZZtnXnrJkl"
      },
      "outputs": [],
      "source": [
        "import numpy as np\n",
        "from sklearn.model_selection import train_test_split\n",
        "from sklearn.preprocessing import LabelEncoder\n",
        "from sklearn.metrics import confusion_matrix\n",
        "from tensorflow.keras.utils import to_categorical\n",
        "from tensorflow import keras\n",
        "import matplotlib.pyplot as plt\n",
        "import seaborn as sns"
      ]
    },
    {
      "cell_type": "code",
      "execution_count": 48,
      "metadata": {
        "id": "MQcVZ1Njq7rs"
      },
      "outputs": [],
      "source": [
        "X_mfcc =np.load('drive/MyDrive/SER/X_mfcc.npy')\n",
        "X_mel = np.load('drive/MyDrive/SER/X_mel.npy')\n",
        "y = np.load('drive/MyDrive/SER/y.npy')"
      ]
    },
    {
      "cell_type": "code",
      "execution_count": 4,
      "metadata": {
        "id": "jkylGiBwugOK"
      },
      "outputs": [],
      "source": [
        "le = LabelEncoder()\n",
        "y_encoded = to_categorical(le.fit_transform(y))"
      ]
    },
    {
      "cell_type": "code",
      "execution_count": 5,
      "metadata": {
        "id": "nzMYI8Morele"
      },
      "outputs": [],
      "source": [
        "x_train, x_test, y_train, y_test = train_test_split(X_mfcc, y_encoded, random_state=42, test_size=0.1)"
      ]
    },
    {
      "cell_type": "code",
      "execution_count": 6,
      "metadata": {
        "colab": {
          "base_uri": "https://localhost:8080/"
        },
        "id": "dSkMvMLyuuGm",
        "outputId": "38dc63b7-7bcc-4cd0-e7bb-d7a4dadc55d9"
      },
      "outputs": [
        {
          "output_type": "execute_result",
          "data": {
            "text/plain": [
              "(2764, 13, 200)"
            ]
          },
          "metadata": {},
          "execution_count": 6
        }
      ],
      "source": [
        "x_train.shape"
      ]
    },
    {
      "cell_type": "code",
      "execution_count": 7,
      "metadata": {
        "id": "kgsAmw6_svd0"
      },
      "outputs": [],
      "source": [
        "n_rows = x_train.shape[1]\n",
        "n_cols = x_train.shape[2]\n",
        "n_channels = 1\n",
        "\n",
        "x_train = x_train.reshape(x_train.shape[0], n_rows, n_cols, n_channels)\n",
        "x_test = x_test.reshape(x_test.shape[0], n_rows, n_cols, n_channels)"
      ]
    },
    {
      "cell_type": "code",
      "execution_count": 8,
      "metadata": {
        "colab": {
          "base_uri": "https://localhost:8080/"
        },
        "id": "yYMy1hQUvvc2",
        "outputId": "65e8ce04-2b1f-41ad-d1d5-f309927875f5"
      },
      "outputs": [
        {
          "output_type": "stream",
          "name": "stdout",
          "text": [
            "Model: \"sequential\"\n",
            "_________________________________________________________________\n",
            " Layer (type)                Output Shape              Param #   \n",
            "=================================================================\n",
            " conv2d (Conv2D)             (None, 11, 198, 32)       320       \n",
            "                                                                 \n",
            " batch_normalization (BatchN  (None, 11, 198, 32)      128       \n",
            " ormalization)                                                   \n",
            "                                                                 \n",
            " max_pooling2d (MaxPooling2D  (None, 5, 99, 32)        0         \n",
            " )                                                               \n",
            "                                                                 \n",
            " conv2d_1 (Conv2D)           (None, 3, 97, 48)         13872     \n",
            "                                                                 \n",
            " batch_normalization_1 (Batc  (None, 3, 97, 48)        192       \n",
            " hNormalization)                                                 \n",
            "                                                                 \n",
            " conv2d_2 (Conv2D)           (None, 1, 95, 32)         13856     \n",
            "                                                                 \n",
            " batch_normalization_2 (Batc  (None, 1, 95, 32)        128       \n",
            " hNormalization)                                                 \n",
            "                                                                 \n",
            " global_average_pooling2d (G  (None, 32)               0         \n",
            " lobalAveragePooling2D)                                          \n",
            "                                                                 \n",
            " dense (Dense)               (None, 8)                 264       \n",
            "                                                                 \n",
            "=================================================================\n",
            "Total params: 28,760\n",
            "Trainable params: 28,536\n",
            "Non-trainable params: 224\n",
            "_________________________________________________________________\n",
            "Epoch 1/200\n",
            "22/22 [==============================] - 15s 124ms/step - loss: 1.8491 - accuracy: 0.3017 - val_loss: 2.0409 - val_accuracy: 0.1591\n",
            "Epoch 2/200\n",
            "22/22 [==============================] - 0s 13ms/step - loss: 1.6409 - accuracy: 0.4338 - val_loss: 2.0880 - val_accuracy: 0.1623\n",
            "Epoch 3/200\n",
            "22/22 [==============================] - 0s 13ms/step - loss: 1.5293 - accuracy: 0.5000 - val_loss: 2.2232 - val_accuracy: 0.1883\n",
            "Epoch 4/200\n",
            "22/22 [==============================] - 0s 12ms/step - loss: 1.4407 - accuracy: 0.5304 - val_loss: 2.3498 - val_accuracy: 0.1623\n",
            "Epoch 5/200\n",
            "22/22 [==============================] - 0s 13ms/step - loss: 1.3625 - accuracy: 0.5702 - val_loss: 2.5630 - val_accuracy: 0.1461\n",
            "Epoch 6/200\n",
            "22/22 [==============================] - 0s 13ms/step - loss: 1.2725 - accuracy: 0.5977 - val_loss: 2.7629 - val_accuracy: 0.1883\n",
            "Epoch 7/200\n",
            "22/22 [==============================] - 0s 12ms/step - loss: 1.2044 - accuracy: 0.6295 - val_loss: 2.9997 - val_accuracy: 0.2175\n",
            "Epoch 8/200\n",
            "22/22 [==============================] - 0s 13ms/step - loss: 1.1276 - accuracy: 0.6603 - val_loss: 3.2346 - val_accuracy: 0.2662\n",
            "Epoch 9/200\n",
            "22/22 [==============================] - 0s 12ms/step - loss: 1.0529 - accuracy: 0.7001 - val_loss: 3.3515 - val_accuracy: 0.2760\n",
            "Epoch 10/200\n",
            "22/22 [==============================] - 0s 13ms/step - loss: 0.9884 - accuracy: 0.7171 - val_loss: 3.3907 - val_accuracy: 0.2468\n",
            "Epoch 11/200\n",
            "22/22 [==============================] - 0s 13ms/step - loss: 0.9267 - accuracy: 0.7420 - val_loss: 3.5191 - val_accuracy: 0.2890\n",
            "Epoch 12/200\n",
            "22/22 [==============================] - 0s 12ms/step - loss: 0.8751 - accuracy: 0.7576 - val_loss: 3.8138 - val_accuracy: 0.2857\n",
            "Epoch 13/200\n",
            "22/22 [==============================] - 0s 12ms/step - loss: 0.8226 - accuracy: 0.7829 - val_loss: 3.8442 - val_accuracy: 0.2792\n",
            "Epoch 14/200\n",
            "22/22 [==============================] - 0s 12ms/step - loss: 0.7890 - accuracy: 0.7898 - val_loss: 3.6846 - val_accuracy: 0.3182\n",
            "Epoch 15/200\n",
            "22/22 [==============================] - 0s 12ms/step - loss: 0.7258 - accuracy: 0.8130 - val_loss: 4.1017 - val_accuracy: 0.2955\n",
            "Epoch 16/200\n",
            "22/22 [==============================] - 0s 12ms/step - loss: 0.6905 - accuracy: 0.8209 - val_loss: 4.0301 - val_accuracy: 0.3247\n",
            "Epoch 17/200\n",
            "22/22 [==============================] - 0s 12ms/step - loss: 0.6405 - accuracy: 0.8437 - val_loss: 4.1276 - val_accuracy: 0.2630\n",
            "Epoch 18/200\n",
            "22/22 [==============================] - 0s 13ms/step - loss: 0.6085 - accuracy: 0.8517 - val_loss: 3.5124 - val_accuracy: 0.3409\n",
            "Epoch 19/200\n",
            "22/22 [==============================] - 0s 13ms/step - loss: 0.5695 - accuracy: 0.8669 - val_loss: 3.8382 - val_accuracy: 0.3279\n",
            "Epoch 20/200\n",
            "22/22 [==============================] - 0s 13ms/step - loss: 0.5556 - accuracy: 0.8585 - val_loss: 3.9021 - val_accuracy: 0.2760\n",
            "Epoch 21/200\n",
            "22/22 [==============================] - 0s 12ms/step - loss: 0.5111 - accuracy: 0.8813 - val_loss: 2.9457 - val_accuracy: 0.3539\n",
            "Epoch 22/200\n",
            "22/22 [==============================] - 0s 13ms/step - loss: 0.4913 - accuracy: 0.8842 - val_loss: 2.9679 - val_accuracy: 0.3669\n",
            "Epoch 23/200\n",
            "22/22 [==============================] - 0s 13ms/step - loss: 0.4451 - accuracy: 0.9088 - val_loss: 2.8458 - val_accuracy: 0.3766\n",
            "Epoch 24/200\n",
            "22/22 [==============================] - 0s 13ms/step - loss: 0.4266 - accuracy: 0.9190 - val_loss: 2.9032 - val_accuracy: 0.3571\n",
            "Epoch 25/200\n",
            "22/22 [==============================] - 0s 13ms/step - loss: 0.3924 - accuracy: 0.9244 - val_loss: 2.6551 - val_accuracy: 0.4253\n",
            "Epoch 26/200\n",
            "22/22 [==============================] - 0s 13ms/step - loss: 0.3753 - accuracy: 0.9305 - val_loss: 2.2254 - val_accuracy: 0.3961\n",
            "Epoch 27/200\n",
            "22/22 [==============================] - 2s 71ms/step - loss: 0.3485 - accuracy: 0.9360 - val_loss: 1.7025 - val_accuracy: 0.4383\n",
            "Epoch 28/200\n",
            "22/22 [==============================] - 1s 69ms/step - loss: 0.3344 - accuracy: 0.9439 - val_loss: 1.0314 - val_accuracy: 0.6039\n",
            "Epoch 29/200\n",
            "22/22 [==============================] - 0s 14ms/step - loss: 0.3063 - accuracy: 0.9497 - val_loss: 1.6401 - val_accuracy: 0.4838\n",
            "Epoch 30/200\n",
            "22/22 [==============================] - 0s 13ms/step - loss: 0.2783 - accuracy: 0.9580 - val_loss: 1.1472 - val_accuracy: 0.5942\n",
            "Epoch 31/200\n",
            "22/22 [==============================] - 0s 12ms/step - loss: 0.2701 - accuracy: 0.9577 - val_loss: 1.2656 - val_accuracy: 0.5487\n",
            "Epoch 32/200\n",
            "22/22 [==============================] - 2s 79ms/step - loss: 0.2576 - accuracy: 0.9613 - val_loss: 0.8749 - val_accuracy: 0.7110\n",
            "Epoch 33/200\n",
            "22/22 [==============================] - 1s 69ms/step - loss: 0.2410 - accuracy: 0.9649 - val_loss: 0.8690 - val_accuracy: 0.6981\n",
            "Epoch 34/200\n",
            "22/22 [==============================] - 2s 84ms/step - loss: 0.2257 - accuracy: 0.9700 - val_loss: 0.6345 - val_accuracy: 0.7825\n",
            "Epoch 35/200\n",
            "22/22 [==============================] - 2s 111ms/step - loss: 0.2111 - accuracy: 0.9783 - val_loss: 0.4360 - val_accuracy: 0.8766\n",
            "Epoch 36/200\n",
            "22/22 [==============================] - 0s 15ms/step - loss: 0.1921 - accuracy: 0.9823 - val_loss: 0.5426 - val_accuracy: 0.8182\n",
            "Epoch 37/200\n",
            "22/22 [==============================] - 0s 13ms/step - loss: 0.1864 - accuracy: 0.9808 - val_loss: 0.5163 - val_accuracy: 0.8149\n",
            "Epoch 38/200\n",
            "22/22 [==============================] - 0s 12ms/step - loss: 0.1853 - accuracy: 0.9765 - val_loss: 0.5828 - val_accuracy: 0.7922\n",
            "Epoch 39/200\n",
            "22/22 [==============================] - 0s 12ms/step - loss: 0.1721 - accuracy: 0.9826 - val_loss: 0.7475 - val_accuracy: 0.7208\n",
            "Epoch 40/200\n",
            "22/22 [==============================] - 0s 13ms/step - loss: 0.1527 - accuracy: 0.9844 - val_loss: 0.5023 - val_accuracy: 0.8312\n",
            "Epoch 41/200\n",
            "22/22 [==============================] - 0s 12ms/step - loss: 0.1453 - accuracy: 0.9913 - val_loss: 0.5193 - val_accuracy: 0.8312\n",
            "Epoch 42/200\n",
            "22/22 [==============================] - 0s 13ms/step - loss: 0.1344 - accuracy: 0.9888 - val_loss: 0.4437 - val_accuracy: 0.8312\n",
            "Epoch 43/200\n",
            "22/22 [==============================] - 0s 13ms/step - loss: 0.1431 - accuracy: 0.9859 - val_loss: 0.4546 - val_accuracy: 0.8344\n",
            "Epoch 44/200\n",
            "22/22 [==============================] - 1s 68ms/step - loss: 0.1230 - accuracy: 0.9899 - val_loss: 0.3564 - val_accuracy: 0.8896\n",
            "Epoch 45/200\n",
            "22/22 [==============================] - 1s 70ms/step - loss: 0.1129 - accuracy: 0.9920 - val_loss: 0.3372 - val_accuracy: 0.8929\n",
            "Epoch 46/200\n",
            "22/22 [==============================] - 0s 13ms/step - loss: 0.1030 - accuracy: 0.9931 - val_loss: 0.3418 - val_accuracy: 0.8994\n",
            "Epoch 47/200\n",
            "22/22 [==============================] - 0s 12ms/step - loss: 0.1007 - accuracy: 0.9938 - val_loss: 0.3612 - val_accuracy: 0.8994\n",
            "Epoch 48/200\n",
            "22/22 [==============================] - 2s 81ms/step - loss: 0.0921 - accuracy: 0.9957 - val_loss: 0.3227 - val_accuracy: 0.9091\n",
            "Epoch 49/200\n",
            "22/22 [==============================] - 2s 71ms/step - loss: 0.0856 - accuracy: 0.9975 - val_loss: 0.2635 - val_accuracy: 0.9286\n",
            "Epoch 50/200\n",
            "22/22 [==============================] - 0s 12ms/step - loss: 0.0784 - accuracy: 0.9982 - val_loss: 0.2774 - val_accuracy: 0.9286\n",
            "Epoch 51/200\n",
            "22/22 [==============================] - 1s 69ms/step - loss: 0.0761 - accuracy: 0.9967 - val_loss: 0.2518 - val_accuracy: 0.9383\n",
            "Epoch 52/200\n",
            "22/22 [==============================] - 0s 13ms/step - loss: 0.0677 - accuracy: 0.9996 - val_loss: 0.3404 - val_accuracy: 0.8961\n",
            "Epoch 53/200\n",
            "22/22 [==============================] - 1s 70ms/step - loss: 0.0661 - accuracy: 0.9996 - val_loss: 0.2504 - val_accuracy: 0.9513\n",
            "Epoch 54/200\n",
            "22/22 [==============================] - 0s 13ms/step - loss: 0.0617 - accuracy: 0.9993 - val_loss: 0.2657 - val_accuracy: 0.9383\n",
            "Epoch 55/200\n",
            "22/22 [==============================] - 2s 82ms/step - loss: 0.0604 - accuracy: 0.9986 - val_loss: 0.2175 - val_accuracy: 0.9513\n",
            "Epoch 56/200\n",
            "22/22 [==============================] - 0s 13ms/step - loss: 0.0572 - accuracy: 1.0000 - val_loss: 0.2404 - val_accuracy: 0.9383\n",
            "Epoch 57/200\n",
            "22/22 [==============================] - 0s 12ms/step - loss: 0.0558 - accuracy: 0.9993 - val_loss: 0.2505 - val_accuracy: 0.9351\n",
            "Epoch 58/200\n",
            "22/22 [==============================] - 1s 70ms/step - loss: 0.0515 - accuracy: 1.0000 - val_loss: 0.1892 - val_accuracy: 0.9610\n",
            "Epoch 59/200\n",
            "22/22 [==============================] - 0s 12ms/step - loss: 0.0474 - accuracy: 0.9993 - val_loss: 0.2359 - val_accuracy: 0.9383\n",
            "Epoch 60/200\n",
            "22/22 [==============================] - 0s 12ms/step - loss: 0.0437 - accuracy: 0.9993 - val_loss: 0.2131 - val_accuracy: 0.9448\n",
            "Epoch 61/200\n",
            "22/22 [==============================] - 1s 70ms/step - loss: 0.0422 - accuracy: 1.0000 - val_loss: 0.1752 - val_accuracy: 0.9708\n",
            "Epoch 62/200\n",
            "22/22 [==============================] - 0s 12ms/step - loss: 0.0448 - accuracy: 1.0000 - val_loss: 0.1797 - val_accuracy: 0.9643\n",
            "Epoch 63/200\n",
            "22/22 [==============================] - 0s 13ms/step - loss: 0.0398 - accuracy: 1.0000 - val_loss: 0.2058 - val_accuracy: 0.9416\n",
            "Epoch 64/200\n",
            "22/22 [==============================] - 2s 82ms/step - loss: 0.0374 - accuracy: 1.0000 - val_loss: 0.1709 - val_accuracy: 0.9740\n",
            "Epoch 65/200\n",
            "22/22 [==============================] - 1s 70ms/step - loss: 0.0343 - accuracy: 1.0000 - val_loss: 0.1699 - val_accuracy: 0.9481\n",
            "Epoch 66/200\n",
            "22/22 [==============================] - 0s 13ms/step - loss: 0.0324 - accuracy: 1.0000 - val_loss: 0.1716 - val_accuracy: 0.9578\n",
            "Epoch 67/200\n",
            "22/22 [==============================] - 0s 13ms/step - loss: 0.0320 - accuracy: 1.0000 - val_loss: 0.1968 - val_accuracy: 0.9578\n",
            "Epoch 68/200\n",
            "22/22 [==============================] - 0s 12ms/step - loss: 0.0326 - accuracy: 1.0000 - val_loss: 0.1832 - val_accuracy: 0.9545\n",
            "Epoch 69/200\n",
            "22/22 [==============================] - 1s 70ms/step - loss: 0.0297 - accuracy: 1.0000 - val_loss: 0.1577 - val_accuracy: 0.9643\n",
            "Epoch 70/200\n",
            "22/22 [==============================] - 0s 12ms/step - loss: 0.0306 - accuracy: 1.0000 - val_loss: 0.1665 - val_accuracy: 0.9643\n",
            "Epoch 71/200\n",
            "22/22 [==============================] - 0s 13ms/step - loss: 0.0282 - accuracy: 1.0000 - val_loss: 0.1831 - val_accuracy: 0.9643\n",
            "Epoch 72/200\n",
            "22/22 [==============================] - 0s 13ms/step - loss: 0.0279 - accuracy: 1.0000 - val_loss: 0.1666 - val_accuracy: 0.9545\n",
            "Epoch 73/200\n",
            "22/22 [==============================] - 0s 13ms/step - loss: 0.0238 - accuracy: 1.0000 - val_loss: 0.1677 - val_accuracy: 0.9383\n",
            "Epoch 74/200\n",
            "22/22 [==============================] - 0s 13ms/step - loss: 0.0231 - accuracy: 1.0000 - val_loss: 0.1780 - val_accuracy: 0.9481\n",
            "Epoch 75/200\n",
            "22/22 [==============================] - 2s 81ms/step - loss: 0.0235 - accuracy: 1.0000 - val_loss: 0.1461 - val_accuracy: 0.9578\n",
            "Epoch 76/200\n",
            "22/22 [==============================] - 1s 71ms/step - loss: 0.0218 - accuracy: 1.0000 - val_loss: 0.1283 - val_accuracy: 0.9708\n",
            "Epoch 77/200\n",
            "22/22 [==============================] - 0s 13ms/step - loss: 0.0203 - accuracy: 1.0000 - val_loss: 0.1425 - val_accuracy: 0.9740\n",
            "Epoch 78/200\n",
            "22/22 [==============================] - 0s 12ms/step - loss: 0.0201 - accuracy: 1.0000 - val_loss: 0.1317 - val_accuracy: 0.9740\n",
            "Epoch 79/200\n",
            "22/22 [==============================] - 1s 69ms/step - loss: 0.0189 - accuracy: 1.0000 - val_loss: 0.1121 - val_accuracy: 0.9870\n",
            "Epoch 80/200\n",
            "22/22 [==============================] - 0s 13ms/step - loss: 0.0186 - accuracy: 1.0000 - val_loss: 0.1290 - val_accuracy: 0.9643\n",
            "Epoch 81/200\n",
            "22/22 [==============================] - 0s 12ms/step - loss: 0.0190 - accuracy: 1.0000 - val_loss: 0.1200 - val_accuracy: 0.9708\n",
            "Epoch 82/200\n",
            "22/22 [==============================] - 0s 13ms/step - loss: 0.0174 - accuracy: 1.0000 - val_loss: 0.1829 - val_accuracy: 0.9416\n",
            "Epoch 83/200\n",
            "22/22 [==============================] - 0s 12ms/step - loss: 0.0174 - accuracy: 1.0000 - val_loss: 0.1284 - val_accuracy: 0.9708\n",
            "Epoch 84/200\n",
            "22/22 [==============================] - 0s 13ms/step - loss: 0.0159 - accuracy: 1.0000 - val_loss: 0.1453 - val_accuracy: 0.9643\n",
            "Epoch 85/200\n",
            "22/22 [==============================] - 0s 12ms/step - loss: 0.0158 - accuracy: 1.0000 - val_loss: 0.1383 - val_accuracy: 0.9578\n",
            "Epoch 86/200\n",
            "22/22 [==============================] - 1s 69ms/step - loss: 0.0151 - accuracy: 1.0000 - val_loss: 0.1034 - val_accuracy: 0.9805\n",
            "Epoch 87/200\n",
            "22/22 [==============================] - 0s 13ms/step - loss: 0.0147 - accuracy: 1.0000 - val_loss: 0.1360 - val_accuracy: 0.9578\n",
            "Epoch 88/200\n",
            "22/22 [==============================] - 0s 13ms/step - loss: 0.0157 - accuracy: 1.0000 - val_loss: 0.1092 - val_accuracy: 0.9805\n",
            "Epoch 89/200\n",
            "22/22 [==============================] - 2s 82ms/step - loss: 0.0149 - accuracy: 1.0000 - val_loss: 0.0970 - val_accuracy: 0.9805\n",
            "Epoch 90/200\n",
            "22/22 [==============================] - 0s 13ms/step - loss: 0.0142 - accuracy: 1.0000 - val_loss: 0.1225 - val_accuracy: 0.9675\n",
            "Epoch 91/200\n",
            "22/22 [==============================] - 0s 13ms/step - loss: 0.0127 - accuracy: 1.0000 - val_loss: 0.1020 - val_accuracy: 0.9838\n",
            "Epoch 92/200\n",
            "22/22 [==============================] - 0s 13ms/step - loss: 0.0120 - accuracy: 1.0000 - val_loss: 0.1188 - val_accuracy: 0.9708\n",
            "Epoch 93/200\n",
            "22/22 [==============================] - 0s 13ms/step - loss: 0.0112 - accuracy: 1.0000 - val_loss: 0.1052 - val_accuracy: 0.9675\n",
            "Epoch 94/200\n",
            "22/22 [==============================] - 0s 13ms/step - loss: 0.0109 - accuracy: 1.0000 - val_loss: 0.0987 - val_accuracy: 0.9838\n",
            "Epoch 95/200\n",
            "22/22 [==============================] - 0s 12ms/step - loss: 0.0112 - accuracy: 1.0000 - val_loss: 0.1229 - val_accuracy: 0.9740\n",
            "Epoch 96/200\n",
            "22/22 [==============================] - 0s 14ms/step - loss: 0.0109 - accuracy: 1.0000 - val_loss: 0.1300 - val_accuracy: 0.9610\n",
            "Epoch 97/200\n",
            "22/22 [==============================] - 2s 71ms/step - loss: 0.0107 - accuracy: 1.0000 - val_loss: 0.0889 - val_accuracy: 0.9838\n",
            "Epoch 98/200\n",
            "22/22 [==============================] - 2s 71ms/step - loss: 0.0097 - accuracy: 1.0000 - val_loss: 0.0843 - val_accuracy: 0.9870\n",
            "Epoch 99/200\n",
            "22/22 [==============================] - 0s 13ms/step - loss: 0.0089 - accuracy: 1.0000 - val_loss: 0.0942 - val_accuracy: 0.9740\n",
            "Epoch 100/200\n",
            "22/22 [==============================] - 0s 13ms/step - loss: 0.0097 - accuracy: 1.0000 - val_loss: 0.0938 - val_accuracy: 0.9870\n",
            "Epoch 101/200\n",
            "22/22 [==============================] - 0s 13ms/step - loss: 0.0090 - accuracy: 1.0000 - val_loss: 0.0977 - val_accuracy: 0.9740\n",
            "Epoch 102/200\n",
            "22/22 [==============================] - 0s 13ms/step - loss: 0.0085 - accuracy: 1.0000 - val_loss: 0.1042 - val_accuracy: 0.9708\n",
            "Epoch 103/200\n",
            "22/22 [==============================] - 0s 13ms/step - loss: 0.0086 - accuracy: 1.0000 - val_loss: 0.0924 - val_accuracy: 0.9773\n",
            "Epoch 104/200\n",
            "22/22 [==============================] - 2s 81ms/step - loss: 0.0089 - accuracy: 1.0000 - val_loss: 0.0766 - val_accuracy: 0.9903\n",
            "Epoch 105/200\n",
            "22/22 [==============================] - 0s 12ms/step - loss: 0.0076 - accuracy: 1.0000 - val_loss: 0.0795 - val_accuracy: 0.9935\n",
            "Epoch 106/200\n",
            "22/22 [==============================] - 0s 12ms/step - loss: 0.0076 - accuracy: 1.0000 - val_loss: 0.0770 - val_accuracy: 0.9870\n",
            "Epoch 107/200\n",
            "22/22 [==============================] - 0s 13ms/step - loss: 0.0086 - accuracy: 1.0000 - val_loss: 0.0836 - val_accuracy: 0.9838\n",
            "Epoch 108/200\n",
            "22/22 [==============================] - 0s 13ms/step - loss: 0.0084 - accuracy: 1.0000 - val_loss: 0.0993 - val_accuracy: 0.9805\n",
            "Epoch 109/200\n",
            "22/22 [==============================] - 0s 12ms/step - loss: 0.0103 - accuracy: 0.9996 - val_loss: 0.0972 - val_accuracy: 0.9805\n",
            "Epoch 110/200\n",
            "22/22 [==============================] - 0s 13ms/step - loss: 0.0175 - accuracy: 0.9993 - val_loss: 0.1869 - val_accuracy: 0.9351\n",
            "Epoch 111/200\n",
            "22/22 [==============================] - 0s 13ms/step - loss: 0.0177 - accuracy: 0.9996 - val_loss: 1.1719 - val_accuracy: 0.6526\n",
            "Epoch 112/200\n",
            "22/22 [==============================] - 0s 13ms/step - loss: 0.0156 - accuracy: 0.9993 - val_loss: 0.2673 - val_accuracy: 0.9026\n",
            "Epoch 113/200\n",
            "22/22 [==============================] - 0s 13ms/step - loss: 0.0090 - accuracy: 1.0000 - val_loss: 0.1463 - val_accuracy: 0.9481\n",
            "Epoch 114/200\n",
            "22/22 [==============================] - 0s 13ms/step - loss: 0.0080 - accuracy: 1.0000 - val_loss: 0.1137 - val_accuracy: 0.9675\n",
            "Epoch 115/200\n",
            "22/22 [==============================] - 0s 13ms/step - loss: 0.0071 - accuracy: 1.0000 - val_loss: 0.0813 - val_accuracy: 0.9805\n",
            "Epoch 116/200\n",
            "22/22 [==============================] - 2s 71ms/step - loss: 0.0063 - accuracy: 1.0000 - val_loss: 0.0702 - val_accuracy: 0.9805\n",
            "Epoch 117/200\n",
            "22/22 [==============================] - 0s 13ms/step - loss: 0.0064 - accuracy: 1.0000 - val_loss: 0.0825 - val_accuracy: 0.9838\n",
            "Epoch 118/200\n",
            "22/22 [==============================] - 0s 13ms/step - loss: 0.0058 - accuracy: 1.0000 - val_loss: 0.0858 - val_accuracy: 0.9805\n",
            "Epoch 119/200\n",
            "22/22 [==============================] - 0s 13ms/step - loss: 0.0056 - accuracy: 1.0000 - val_loss: 0.0810 - val_accuracy: 0.9805\n",
            "Epoch 120/200\n",
            "22/22 [==============================] - 1s 70ms/step - loss: 0.0056 - accuracy: 1.0000 - val_loss: 0.0697 - val_accuracy: 0.9870\n",
            "Epoch 121/200\n",
            "22/22 [==============================] - 0s 13ms/step - loss: 0.0054 - accuracy: 1.0000 - val_loss: 0.1328 - val_accuracy: 0.9513\n",
            "Epoch 122/200\n",
            "22/22 [==============================] - 0s 13ms/step - loss: 0.0058 - accuracy: 1.0000 - val_loss: 0.0787 - val_accuracy: 0.9773\n",
            "Epoch 123/200\n",
            "22/22 [==============================] - 2s 72ms/step - loss: 0.0050 - accuracy: 1.0000 - val_loss: 0.0651 - val_accuracy: 0.9903\n",
            "Epoch 124/200\n",
            "22/22 [==============================] - 0s 13ms/step - loss: 0.0048 - accuracy: 1.0000 - val_loss: 0.0791 - val_accuracy: 0.9773\n",
            "Epoch 125/200\n",
            "22/22 [==============================] - 2s 83ms/step - loss: 0.0046 - accuracy: 1.0000 - val_loss: 0.0628 - val_accuracy: 0.9870\n",
            "Epoch 126/200\n",
            "22/22 [==============================] - 0s 13ms/step - loss: 0.0044 - accuracy: 1.0000 - val_loss: 0.0707 - val_accuracy: 0.9838\n",
            "Epoch 127/200\n",
            "22/22 [==============================] - 0s 13ms/step - loss: 0.0043 - accuracy: 1.0000 - val_loss: 0.0694 - val_accuracy: 0.9903\n",
            "Epoch 128/200\n",
            "22/22 [==============================] - 0s 13ms/step - loss: 0.0043 - accuracy: 1.0000 - val_loss: 0.0650 - val_accuracy: 0.9870\n",
            "Epoch 129/200\n",
            "22/22 [==============================] - 0s 13ms/step - loss: 0.0046 - accuracy: 1.0000 - val_loss: 0.0659 - val_accuracy: 0.9935\n",
            "Epoch 130/200\n",
            "22/22 [==============================] - 1s 71ms/step - loss: 0.0041 - accuracy: 1.0000 - val_loss: 0.0622 - val_accuracy: 0.9903\n",
            "Epoch 131/200\n",
            "22/22 [==============================] - 2s 71ms/step - loss: 0.0040 - accuracy: 1.0000 - val_loss: 0.0572 - val_accuracy: 0.9903\n",
            "Epoch 132/200\n",
            "22/22 [==============================] - 0s 13ms/step - loss: 0.0040 - accuracy: 1.0000 - val_loss: 0.0594 - val_accuracy: 0.9935\n",
            "Epoch 133/200\n",
            "22/22 [==============================] - 0s 13ms/step - loss: 0.0038 - accuracy: 1.0000 - val_loss: 0.0623 - val_accuracy: 0.9838\n",
            "Epoch 134/200\n",
            "22/22 [==============================] - 0s 13ms/step - loss: 0.0037 - accuracy: 1.0000 - val_loss: 0.0582 - val_accuracy: 0.9935\n",
            "Epoch 135/200\n",
            "22/22 [==============================] - 0s 13ms/step - loss: 0.0040 - accuracy: 1.0000 - val_loss: 0.0606 - val_accuracy: 0.9903\n",
            "Epoch 136/200\n",
            "22/22 [==============================] - 0s 12ms/step - loss: 0.0035 - accuracy: 1.0000 - val_loss: 0.0679 - val_accuracy: 0.9838\n",
            "Epoch 137/200\n",
            "22/22 [==============================] - 0s 13ms/step - loss: 0.0037 - accuracy: 1.0000 - val_loss: 0.0617 - val_accuracy: 0.9870\n",
            "Epoch 138/200\n",
            "22/22 [==============================] - 0s 13ms/step - loss: 0.0036 - accuracy: 1.0000 - val_loss: 0.0627 - val_accuracy: 0.9838\n",
            "Epoch 139/200\n",
            "22/22 [==============================] - 0s 13ms/step - loss: 0.0035 - accuracy: 1.0000 - val_loss: 0.0632 - val_accuracy: 0.9838\n",
            "Epoch 140/200\n",
            "22/22 [==============================] - 2s 80ms/step - loss: 0.0034 - accuracy: 1.0000 - val_loss: 0.0508 - val_accuracy: 0.9935\n",
            "Epoch 141/200\n",
            "22/22 [==============================] - 1s 69ms/step - loss: 0.0032 - accuracy: 1.0000 - val_loss: 0.0497 - val_accuracy: 0.9935\n",
            "Epoch 142/200\n",
            "22/22 [==============================] - 0s 13ms/step - loss: 0.0030 - accuracy: 1.0000 - val_loss: 0.0634 - val_accuracy: 0.9870\n",
            "Epoch 143/200\n",
            "22/22 [==============================] - 0s 13ms/step - loss: 0.0033 - accuracy: 1.0000 - val_loss: 0.0627 - val_accuracy: 0.9870\n",
            "Epoch 144/200\n",
            "22/22 [==============================] - 0s 13ms/step - loss: 0.0032 - accuracy: 1.0000 - val_loss: 0.0583 - val_accuracy: 0.9903\n",
            "Epoch 145/200\n",
            "22/22 [==============================] - 0s 13ms/step - loss: 0.0031 - accuracy: 1.0000 - val_loss: 0.0575 - val_accuracy: 0.9870\n",
            "Epoch 146/200\n",
            "22/22 [==============================] - 0s 13ms/step - loss: 0.0031 - accuracy: 1.0000 - val_loss: 0.0537 - val_accuracy: 0.9870\n",
            "Epoch 147/200\n",
            "22/22 [==============================] - 0s 13ms/step - loss: 0.0028 - accuracy: 1.0000 - val_loss: 0.0568 - val_accuracy: 0.9870\n",
            "Epoch 148/200\n",
            "22/22 [==============================] - 0s 12ms/step - loss: 0.0030 - accuracy: 1.0000 - val_loss: 0.0571 - val_accuracy: 0.9903\n",
            "Epoch 149/200\n",
            "22/22 [==============================] - 0s 13ms/step - loss: 0.0030 - accuracy: 1.0000 - val_loss: 0.0624 - val_accuracy: 0.9870\n",
            "Epoch 150/200\n",
            "22/22 [==============================] - 0s 14ms/step - loss: 0.0029 - accuracy: 1.0000 - val_loss: 0.0570 - val_accuracy: 0.9935\n",
            "Epoch 151/200\n",
            "22/22 [==============================] - 0s 13ms/step - loss: 0.0027 - accuracy: 1.0000 - val_loss: 0.0603 - val_accuracy: 0.9903\n",
            "Epoch 152/200\n",
            "22/22 [==============================] - 0s 13ms/step - loss: 0.0029 - accuracy: 1.0000 - val_loss: 0.0572 - val_accuracy: 0.9935\n",
            "Epoch 153/200\n",
            "22/22 [==============================] - 0s 13ms/step - loss: 0.0025 - accuracy: 1.0000 - val_loss: 0.0497 - val_accuracy: 0.9935\n",
            "Epoch 154/200\n",
            "22/22 [==============================] - 0s 12ms/step - loss: 0.0024 - accuracy: 1.0000 - val_loss: 0.0579 - val_accuracy: 0.9870\n",
            "Epoch 155/200\n",
            "22/22 [==============================] - 0s 13ms/step - loss: 0.0025 - accuracy: 1.0000 - val_loss: 0.0505 - val_accuracy: 0.9935\n",
            "Epoch 156/200\n",
            "22/22 [==============================] - 0s 13ms/step - loss: 0.0025 - accuracy: 1.0000 - val_loss: 0.0577 - val_accuracy: 0.9870\n",
            "Epoch 157/200\n",
            "22/22 [==============================] - 1s 70ms/step - loss: 0.0023 - accuracy: 1.0000 - val_loss: 0.0472 - val_accuracy: 0.9903\n",
            "Epoch 158/200\n",
            "22/22 [==============================] - 0s 13ms/step - loss: 0.0023 - accuracy: 1.0000 - val_loss: 0.0506 - val_accuracy: 0.9903\n",
            "Epoch 159/200\n",
            "22/22 [==============================] - 0s 13ms/step - loss: 0.0023 - accuracy: 1.0000 - val_loss: 0.0491 - val_accuracy: 0.9903\n",
            "Epoch 160/200\n",
            "22/22 [==============================] - 0s 13ms/step - loss: 0.0022 - accuracy: 1.0000 - val_loss: 0.0599 - val_accuracy: 0.9805\n",
            "Epoch 161/200\n",
            "22/22 [==============================] - 0s 12ms/step - loss: 0.0021 - accuracy: 1.0000 - val_loss: 0.0579 - val_accuracy: 0.9838\n",
            "Epoch 162/200\n",
            "22/22 [==============================] - 2s 71ms/step - loss: 0.0020 - accuracy: 1.0000 - val_loss: 0.0454 - val_accuracy: 0.9903\n",
            "Epoch 163/200\n",
            "22/22 [==============================] - 0s 13ms/step - loss: 0.0023 - accuracy: 1.0000 - val_loss: 0.0600 - val_accuracy: 0.9903\n",
            "Epoch 164/200\n",
            "22/22 [==============================] - 0s 12ms/step - loss: 0.0021 - accuracy: 1.0000 - val_loss: 0.0529 - val_accuracy: 0.9903\n",
            "Epoch 165/200\n",
            "22/22 [==============================] - 0s 13ms/step - loss: 0.0023 - accuracy: 1.0000 - val_loss: 0.0575 - val_accuracy: 0.9838\n",
            "Epoch 166/200\n",
            "22/22 [==============================] - 0s 13ms/step - loss: 0.0022 - accuracy: 1.0000 - val_loss: 0.0521 - val_accuracy: 0.9838\n",
            "Epoch 167/200\n",
            "22/22 [==============================] - 0s 12ms/step - loss: 0.0021 - accuracy: 1.0000 - val_loss: 0.0517 - val_accuracy: 0.9870\n",
            "Epoch 168/200\n",
            "22/22 [==============================] - 0s 12ms/step - loss: 0.0019 - accuracy: 1.0000 - val_loss: 0.0554 - val_accuracy: 0.9870\n",
            "Epoch 169/200\n",
            "22/22 [==============================] - 0s 13ms/step - loss: 0.0019 - accuracy: 1.0000 - val_loss: 0.0507 - val_accuracy: 0.9838\n",
            "Epoch 170/200\n",
            "22/22 [==============================] - 0s 13ms/step - loss: 0.0018 - accuracy: 1.0000 - val_loss: 0.0534 - val_accuracy: 0.9903\n",
            "Epoch 171/200\n",
            "22/22 [==============================] - 2s 82ms/step - loss: 0.0018 - accuracy: 1.0000 - val_loss: 0.0419 - val_accuracy: 0.9903\n",
            "Epoch 172/200\n",
            "22/22 [==============================] - 0s 13ms/step - loss: 0.0018 - accuracy: 1.0000 - val_loss: 0.0597 - val_accuracy: 0.9773\n",
            "Epoch 173/200\n",
            "22/22 [==============================] - 0s 13ms/step - loss: 0.0018 - accuracy: 1.0000 - val_loss: 0.0511 - val_accuracy: 0.9903\n",
            "Epoch 174/200\n",
            "22/22 [==============================] - 0s 13ms/step - loss: 0.0018 - accuracy: 1.0000 - val_loss: 0.0525 - val_accuracy: 0.9935\n",
            "Epoch 175/200\n",
            "22/22 [==============================] - 0s 13ms/step - loss: 0.0017 - accuracy: 1.0000 - val_loss: 0.0508 - val_accuracy: 0.9903\n",
            "Epoch 176/200\n",
            "22/22 [==============================] - 0s 13ms/step - loss: 0.0017 - accuracy: 1.0000 - val_loss: 0.0459 - val_accuracy: 0.9935\n",
            "Epoch 177/200\n",
            "22/22 [==============================] - 0s 13ms/step - loss: 0.0018 - accuracy: 1.0000 - val_loss: 0.0478 - val_accuracy: 0.9838\n",
            "Epoch 178/200\n",
            "22/22 [==============================] - 0s 13ms/step - loss: 0.0019 - accuracy: 1.0000 - val_loss: 0.0547 - val_accuracy: 0.9903\n",
            "Epoch 179/200\n",
            "22/22 [==============================] - 0s 13ms/step - loss: 0.0019 - accuracy: 1.0000 - val_loss: 0.0446 - val_accuracy: 0.9870\n",
            "Epoch 180/200\n",
            "22/22 [==============================] - 1s 70ms/step - loss: 0.0017 - accuracy: 1.0000 - val_loss: 0.0385 - val_accuracy: 0.9903\n",
            "Epoch 181/200\n",
            "22/22 [==============================] - 0s 13ms/step - loss: 0.0015 - accuracy: 1.0000 - val_loss: 0.0422 - val_accuracy: 0.9935\n",
            "Epoch 182/200\n",
            "22/22 [==============================] - 0s 13ms/step - loss: 0.0016 - accuracy: 1.0000 - val_loss: 0.0569 - val_accuracy: 0.9838\n",
            "Epoch 183/200\n",
            "22/22 [==============================] - 0s 13ms/step - loss: 0.0019 - accuracy: 1.0000 - val_loss: 0.0629 - val_accuracy: 0.9838\n",
            "Epoch 184/200\n",
            "22/22 [==============================] - 0s 13ms/step - loss: 0.0018 - accuracy: 1.0000 - val_loss: 0.0508 - val_accuracy: 0.9838\n",
            "Epoch 185/200\n",
            "22/22 [==============================] - 0s 13ms/step - loss: 0.0015 - accuracy: 1.0000 - val_loss: 0.0520 - val_accuracy: 0.9870\n",
            "Epoch 186/200\n",
            "22/22 [==============================] - 0s 13ms/step - loss: 0.0016 - accuracy: 1.0000 - val_loss: 0.0495 - val_accuracy: 0.9903\n",
            "Epoch 187/200\n",
            "22/22 [==============================] - 0s 13ms/step - loss: 0.0015 - accuracy: 1.0000 - val_loss: 0.0462 - val_accuracy: 0.9935\n",
            "Epoch 188/200\n",
            "22/22 [==============================] - 0s 13ms/step - loss: 0.0015 - accuracy: 1.0000 - val_loss: 0.0450 - val_accuracy: 0.9903\n",
            "Epoch 189/200\n",
            "22/22 [==============================] - 0s 14ms/step - loss: 0.0015 - accuracy: 1.0000 - val_loss: 0.0423 - val_accuracy: 0.9968\n",
            "Epoch 190/200\n",
            "22/22 [==============================] - 0s 13ms/step - loss: 0.0015 - accuracy: 1.0000 - val_loss: 0.0454 - val_accuracy: 0.9903\n",
            "Epoch 191/200\n",
            "22/22 [==============================] - 0s 13ms/step - loss: 0.0016 - accuracy: 1.0000 - val_loss: 0.0583 - val_accuracy: 0.9773\n",
            "Epoch 192/200\n",
            "22/22 [==============================] - 0s 13ms/step - loss: 0.0015 - accuracy: 1.0000 - val_loss: 0.0443 - val_accuracy: 0.9903\n",
            "Epoch 193/200\n",
            "22/22 [==============================] - 0s 13ms/step - loss: 0.0015 - accuracy: 1.0000 - val_loss: 0.0484 - val_accuracy: 0.9838\n",
            "Epoch 194/200\n",
            "22/22 [==============================] - 0s 13ms/step - loss: 0.0014 - accuracy: 1.0000 - val_loss: 0.0628 - val_accuracy: 0.9805\n",
            "Epoch 195/200\n",
            "22/22 [==============================] - 0s 14ms/step - loss: 0.0013 - accuracy: 1.0000 - val_loss: 0.0407 - val_accuracy: 0.9903\n",
            "Epoch 196/200\n",
            "22/22 [==============================] - 0s 13ms/step - loss: 0.0012 - accuracy: 1.0000 - val_loss: 0.0422 - val_accuracy: 0.9903\n",
            "Epoch 197/200\n",
            "22/22 [==============================] - 0s 13ms/step - loss: 0.0012 - accuracy: 1.0000 - val_loss: 0.0390 - val_accuracy: 0.9935\n",
            "Epoch 198/200\n",
            "22/22 [==============================] - 0s 13ms/step - loss: 0.0012 - accuracy: 1.0000 - val_loss: 0.0580 - val_accuracy: 0.9870\n",
            "Epoch 199/200\n",
            "22/22 [==============================] - 0s 13ms/step - loss: 0.0011 - accuracy: 1.0000 - val_loss: 0.0387 - val_accuracy: 0.9935\n",
            "Epoch 200/200\n",
            "22/22 [==============================] - 0s 13ms/step - loss: 0.0011 - accuracy: 1.0000 - val_loss: 0.0453 - val_accuracy: 0.9903\n"
          ]
        }
      ],
      "source": [
        "## MFCC\n",
        "model = keras.Sequential()\n",
        "\n",
        "model.add(keras.layers.Conv2D(filters=32, kernel_size=(3,3), kernel_initializer=\"he_normal\", input_shape=(n_rows, n_cols, n_channels), activation='relu'))\n",
        "model.add(keras.layers.BatchNormalization())\n",
        "\n",
        "model.add(keras.layers.MaxPooling2D(pool_size=(2,2)))\n",
        "\n",
        "model.add(keras.layers.Conv2D(filters=48, kernel_size=(3,3), activation='relu', kernel_initializer=\"he_normal\"))\n",
        "model.add(keras.layers.BatchNormalization())\n",
        "\n",
        "model.add(keras.layers.Conv2D(filters=32, kernel_size=(3,3), activation='relu', kernel_initializer=\"he_normal\"))\n",
        "model.add(keras.layers.BatchNormalization())\n",
        "\n",
        "model.add(keras.layers.GlobalAveragePooling2D())\n",
        "\n",
        "model.add(keras.layers.Dense(units=8, activation='softmax'))\n",
        "\n",
        "model.summary()\n",
        "\n",
        "model.compile(loss='categorical_crossentropy', metrics=['accuracy'], optimizer=keras.optimizers.Adam(learning_rate=1e-3))\n",
        "\n",
        "n_epochs = 200\n",
        "batch_size = 128\n",
        "\n",
        "checkpoint = keras.callbacks.ModelCheckpoint(filepath='mfcc-model', \n",
        "                               monitor='val_loss',\n",
        "                               mode='min',\n",
        "                               save_best_only=True)\n",
        "\n",
        "history = model.fit(x_train, y_train, batch_size=batch_size, epochs=n_epochs, validation_data=(x_test, y_test), callbacks=[checkpoint], verbose=1)"
      ]
    },
    {
      "cell_type": "code",
      "source": [
        "acc = history.history['accuracy']\n",
        "val_acc = history.history['val_accuracy']\n",
        "loss = history.history['loss']\n",
        "val_loss = history.history['val_loss']\n",
        "\n",
        "epochs = range(1, len(acc) + 1)\n",
        "\n",
        "plt.plot(epochs, acc, label='Training acc')\n",
        "plt.plot(epochs, val_acc, label='Validation acc')\n",
        "plt.title('Training and validation accuracy')\n",
        "plt.legend()\n",
        "\n",
        "plt.figure()\n",
        "\n",
        "plt.plot(epochs, loss, label='Training loss')\n",
        "plt.plot(epochs, val_loss, label='Validation loss')\n",
        "plt.title('Training and validation loss')\n",
        "plt.legend()\n",
        "\n",
        "plt.show()"
      ],
      "metadata": {
        "colab": {
          "base_uri": "https://localhost:8080/",
          "height": 545
        },
        "id": "HLj3yF3WbIto",
        "outputId": "cb1881a1-dc92-4991-891e-5424289658dc"
      },
      "execution_count": 9,
      "outputs": [
        {
          "output_type": "display_data",
          "data": {
            "text/plain": [
              "<Figure size 432x288 with 1 Axes>"
            ],
            "image/png": "[encoded data removed]"
          },
          "metadata": {
            "needs_background": "light"
          }
        },
        {
          "output_type": "display_data",
          "data": {
            "text/plain": [
              "<Figure size 432x288 with 1 Axes>"
            ],
            "image/png": "[encoded data removed]"
          },
          "metadata": {
            "needs_background": "light"
          }
        }
      ]
    },
    {
      "cell_type": "code",
      "source": [],
      "metadata": {
        "id": "IuzjKorx_Fya"
      },
      "execution_count": null,
      "outputs": []
    },
    {
      "cell_type": "code",
      "source": [
        "# test\n",
        "model = keras.models.load_model('mfcc-model')"
      ],
      "metadata": {
        "id": "kzzIh99u-5ag"
      },
      "execution_count": 10,
      "outputs": []
    },
    {
      "cell_type": "code",
      "source": [
        "TESS_X_mfcc =np.load('drive/MyDrive/SER/TESS_X_mfcc.npy')\n",
        "SAVEES_X_mfcc = np.load('drive/MyDrive/SER/SAVEES_X_mfcc.npy')\n",
        "TESS_y = np.load('drive/MyDrive/SER/TESS_y.npy')\n",
        "SAVEES_y = np.load('drive/MyDrive/SER/SAVEES_y.npy')"
      ],
      "metadata": {
        "id": "pN2sBhff_tGq"
      },
      "execution_count": 11,
      "outputs": []
    },
    {
      "cell_type": "code",
      "source": [
        "le.fit(y)\n",
        "TESS_y_encoded = to_categorical(le.transform(TESS_y))\n",
        "# SAVEES_y_encoded = to_categorical(le.transform(SAVEES_y))"
      ],
      "metadata": {
        "id": "jfYhEwJAGvlM"
      },
      "execution_count": null,
      "outputs": []
    },
    {
      "cell_type": "code",
      "source": [
        "y_preds = model.predict(TESS_X_mfcc)\n",
        "y_hat = np.argmax(y_preds, axis=1)\n",
        "y_true = np.argmax(TESS_y_encoded, axis=1)"
      ],
      "metadata": {
        "id": "PvB2uwr_blNm"
      },
      "execution_count": 38,
      "outputs": []
    },
    {
      "cell_type": "code",
      "source": [
        "cm = confusion_matrix(y_true, y_hat)\n",
        "cm"
      ],
      "metadata": {
        "colab": {
          "base_uri": "https://localhost:8080/"
        },
        "id": "zjrMABowIfX6",
        "outputId": "d0bcdc46-816f-436c-a76a-5c04ad8f3f79"
      },
      "execution_count": 45,
      "outputs": [
        {
          "output_type": "execute_result",
          "data": {
            "text/plain": [
              "array([[  0,  13,   0,  73,   0,   0, 314,   0],\n",
              "       [  0,   0,   0,   0,   0,   0,   0,   0],\n",
              "       [  0,   3,   3,   8,  15,   8, 361,   2],\n",
              "       [  0,  81,   0, 139,   0,   0, 180,   0],\n",
              "       [  0,   0,   8,  10,   6,   0, 376,   0],\n",
              "       [  0,   0,   2,  20,  30,  16, 332,   0],\n",
              "       [  0,  32,   0,  15,   0,   0, 353,   0],\n",
              "       [  0,   7,   1,   6,   0,   5, 378,   3]])"
            ]
          },
          "metadata": {},
          "execution_count": 45
        }
      ]
    },
    {
      "cell_type": "code",
      "source": [],
      "metadata": {
        "id": "xiAFLnu-HQME"
      },
      "execution_count": null,
      "outputs": []
    },
    {
      "cell_type": "code",
      "source": [
        "## MEL\n",
        "model = keras.Sequential()\n",
        "\n",
        "model.add(keras.layers.Conv2D(filters=16, kernel_size=(3,3), kernel_initializer=\"he_normal\", input_shape=(n_rows, n_cols, n_channels), activation='relu'))\n",
        "model.add(keras.layers.BatchNormalization())\n",
        "\n",
        "model.add(keras.layers.MaxPooling2D(pool_size=(2,2)))\n",
        "\n",
        "model.add(keras.layers.Conv2D(filters=32, kernel_size=(3,3), activation='relu', kernel_initializer=\"he_normal\"))\n",
        "model.add(keras.layers.BatchNormalization())\n",
        "\n",
        "model.add(keras.layers.MaxPooling2D(pool_size=(2,2)))\n",
        "\n",
        "model.add(keras.layers.Conv2D(filters=48, kernel_size=(3,3), activation='relu', kernel_initializer=\"he_normal\"))\n",
        "model.add(keras.layers.BatchNormalization())\n",
        "\n",
        "model.add(keras.layers.MaxPooling2D(pool_size=(2,2)))\n",
        "\n",
        "model.add(keras.layers.Dense(units=8, activation='softmax'))\n",
        "\n",
        "model.summary()\n",
        "\n",
        "model.compile(loss='categorical_crossentropy', metrics=['accuracy'], optimizer=keras.optimizers.Adam(learning_rate=3e-2))\n",
        "\n",
        "n_epochs = 100\n",
        "batch_size = 128\n",
        "\n",
        "checkpoint = keras.callbacks.ModelCheckpoint(filepath='mfcc-model', \n",
        "                               monitor='val_loss',\n",
        "                               mode='min',\n",
        "                               save_best_only=True)\n",
        "\n",
        "history = model.fit(x_train, y_train, batch_size=batch_size, epochs=n_epochs, validation_data=(x_test, y_test), callbacks=[checkpoint], verbose=1)"
      ],
      "metadata": {
        "id": "AuXb4rX1ja4w"
      },
      "execution_count": null,
      "outputs": []
    },
    {
      "cell_type": "code",
      "source": [
        "#85"
      ],
      "metadata": {
        "id": "yqFBhoL9sWHf"
      },
      "execution_count": 50,
      "outputs": []
    },
    {
      "cell_type": "code",
      "source": [
        "acc = history.history['accuracy']\n",
        "val_acc = history.history['val_accuracy']\n",
        "loss = history.history['loss']\n",
        "val_loss = history.history['val_loss']\n",
        "\n",
        "epochs = range(1, len(acc) + 1)\n",
        "\n",
        "plt.plot(epochs, acc, label='Training acc')\n",
        "plt.plot(epochs, val_acc, label='Validation acc')\n",
        "plt.title('Training and validation accuracy')\n",
        "plt.legend()\n",
        "\n",
        "plt.figure()\n",
        "\n",
        "plt.plot(epochs, loss, label='Training loss')\n",
        "plt.plot(epochs, val_loss, label='Validation loss')\n",
        "plt.title('Training and validation loss')\n",
        "plt.legend()\n",
        "\n",
        "plt.show()"
      ],
      "metadata": {
        "id": "gc1SCdfpjk4w"
      },
      "execution_count": null,
      "outputs": []
    },
    {
      "cell_type": "code",
      "source": [],
      "metadata": {
        "id": "q8wDwrCIjnOz"
      },
      "execution_count": null,
      "outputs": []
    }
  ],
  "metadata": {
    "accelerator": "GPU",
    "colab": {
      "provenance": [],
      "authorship_tag": "ABX9TyOCC4PL2bXp6bEuzKTqaSiZ",
      "include_colab_link": true
    },
    "gpuClass": "standard",
    "kernelspec": {
      "display_name": "Python 3",
      "name": "python3"
    },
    "language_info": {
      "name": "python"
    }
  },
  "nbformat": 4,
  "nbformat_minor": 0
}