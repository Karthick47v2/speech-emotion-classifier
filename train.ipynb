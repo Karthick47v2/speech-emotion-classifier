{
  "cells": [
    {
      "cell_type": "markdown",
      "metadata": {
        "id": "view-in-github",
        "colab_type": "text"
      },
      "source": [
        "<a href=\"https://colab.research.google.com/github/Karthick47v2/speech-emotion-classifier/blob/main/train.ipynb\" target=\"_parent\"><img src=\"https://colab.research.google.com/assets/colab-badge.svg\" alt=\"Open In Colab\"/></a>"
      ]
    },
    {
      "cell_type": "code",
      "execution_count": 1,
      "metadata": {
        "colab": {
          "base_uri": "https://localhost:8080/"
        },
        "id": "zkw8bp6Li5wJ",
        "outputId": "bfbbd997-8bc7-4820-c696-72e6dfb083d1"
      },
      "outputs": [
        {
          "output_type": "stream",
          "name": "stdout",
          "text": [
            "Mounted at /content/drive\n"
          ]
        }
      ],
      "source": [
        "from google.colab import drive\n",
        "drive.mount('/content/drive')"
      ]
    },
    {
      "cell_type": "code",
      "execution_count": 26,
      "metadata": {
        "id": "bNZZtnXnrJkl"
      },
      "outputs": [],
      "source": [
        "import numpy as np\n",
        "from sklearn.model_selection import train_test_split\n",
        "from sklearn.preprocessing import LabelEncoder\n",
        "from sklearn.metrics import confusion_matrix, f1_score\n",
        "from tensorflow.keras.utils import to_categorical\n",
        "from tensorflow import keras\n",
        "import matplotlib.pyplot as plt\n",
        "import seaborn as sns"
      ]
    },
    {
      "cell_type": "code",
      "execution_count": 3,
      "metadata": {
        "id": "MQcVZ1Njq7rs"
      },
      "outputs": [],
      "source": [
        "X_mfcc =np.load('drive/MyDrive/SER/X_mfcc.npy')\n",
        "X_mel = np.load('drive/MyDrive/SER/X_mel.npy')\n",
        "y = np.load('drive/MyDrive/SER/y.npy')"
      ]
    },
    {
      "cell_type": "code",
      "execution_count": 4,
      "metadata": {
        "id": "jkylGiBwugOK"
      },
      "outputs": [],
      "source": [
        "le = LabelEncoder()\n",
        "y_encoded = to_categorical(le.fit_transform(y))"
      ]
    },
    {
      "cell_type": "code",
      "execution_count": 14,
      "metadata": {
        "id": "nzMYI8Morele"
      },
      "outputs": [],
      "source": [
        "x_train, x_test, y_train, y_test = train_test_split(X_mel, y_encoded, random_state=42, test_size=0.2)\n",
        "x_test, x_T_test, y_test, y_T_test = train_test_split(x_test, y_test, random_state=42, test_size=0.25)"
      ]
    },
    {
      "cell_type": "code",
      "execution_count": 6,
      "metadata": {
        "colab": {
          "base_uri": "https://localhost:8080/"
        },
        "id": "dSkMvMLyuuGm",
        "outputId": "0c8db0bf-308a-40d8-9124-fdaf3299887b"
      },
      "outputs": [
        {
          "output_type": "execute_result",
          "data": {
            "text/plain": [
              "(1359, 13, 308)"
            ]
          },
          "metadata": {},
          "execution_count": 6
        }
      ],
      "source": [
        "x_test.shape"
      ]
    },
    {
      "cell_type": "code",
      "execution_count": 7,
      "metadata": {
        "id": "kgsAmw6_svd0"
      },
      "outputs": [],
      "source": [
        "n_rows = x_train.shape[1]\n",
        "n_cols = x_train.shape[2]\n",
        "n_channels = 1\n",
        "\n",
        "x_train = x_train.reshape(x_train.shape[0], n_rows, n_cols, n_channels)\n",
        "x_test = x_test.reshape(x_test.shape[0], n_rows, n_cols, n_channels)"
      ]
    },
    {
      "cell_type": "code",
      "execution_count": 8,
      "metadata": {
        "id": "yYMy1hQUvvc2"
      },
      "outputs": [],
      "source": [
        "# # MEL - 300 EPOCHS\n",
        "\n",
        "# model = keras.Sequential()\n",
        "\n",
        "# model.add(keras.layers.Conv2D(filters=16, kernel_size=(3,3), kernel_initializer=\"he_normal\", input_shape=(n_rows, n_cols, n_channels), activation='relu'))\n",
        "# model.add(keras.layers.BatchNormalization())\n",
        "\n",
        "# model.add(keras.layers.MaxPooling2D(pool_size=(6,6)))\n",
        "\n",
        "# model.add(keras.layers.Conv2D(filters=32, kernel_size=(3,3), activation='relu', kernel_initializer=\"he_normal\"))\n",
        "# model.add(keras.layers.BatchNormalization())\n",
        "\n",
        "# model.add(keras.layers.MaxPooling2D(pool_size=(4,4)))\n",
        "\n",
        "# model.add(keras.layers.Conv2D(filters=32, kernel_size=(3,3), activation='relu', kernel_initializer=\"he_normal\"))\n",
        "# model.add(keras.layers.BatchNormalization())\n",
        "\n",
        "# model.add(keras.layers.Dropout(0.6))\n",
        "\n",
        "# model.add(keras.layers.GlobalAveragePooling2D())\n",
        "\n",
        "# model.add(keras.layers.Dense(units=7, activation='softmax'))\n",
        "\n",
        "# model.compile(loss='categorical_crossentropy', metrics=['accuracy'], optimizer=keras.optimizers.Adam(learning_rate=2e-4))\n",
        "\n",
        "# n_epochs = 300\n",
        "# batch_size = 64\n",
        "\n",
        "# checkpoint = keras.callbacks.ModelCheckpoint(filepath='mel-model', \n",
        "#                                monitor='val_loss',\n",
        "#                                mode='min',\n",
        "#                                save_best_only=True)\n",
        "\n",
        "# lr_shed = keras.callbacks.ReduceLROnPlateau(monitor='val_accuracy', mode='max', verbose=1, patience=3, factor=0.99, min_lr=1e-7)\n",
        "\n",
        "# history = model.fit(x_train, y_train, batch_size=batch_size, epochs=n_epochs, validation_data=(x_test, y_test), callbacks=[checkpoint, lr_shed], verbose=1)"
      ]
    },
    {
      "cell_type": "code",
      "source": [
        "## MFCC\n",
        "model = keras.Sequential()\n",
        "\n",
        "model.add(keras.layers.Conv2D(filters=16, kernel_size=(3,3), kernel_initializer=\"he_normal\", input_shape=(n_rows, n_cols, n_channels), activation='relu'))\n",
        "model.add(keras.layers.BatchNormalization())\n",
        "\n",
        "model.add(keras.layers.MaxPooling2D(pool_size=(2,2)))\n",
        "\n",
        "model.add(keras.layers.Conv2D(filters=32, kernel_size=(3,3), activation='relu', kernel_initializer=\"he_normal\"))  # 32\n",
        "model.add(keras.layers.BatchNormalization())\n",
        "\n",
        "model.add(keras.layers.Dropout(0.3))\n",
        "\n",
        "model.add(keras.layers.GlobalAveragePooling2D())\n",
        "\n",
        "model.add(keras.layers.Dense(units=7, activation='softmax'))\n",
        "\n",
        "model.summary()\n",
        "\n",
        "model.compile(loss='categorical_crossentropy', metrics=['accuracy'], optimizer=keras.optimizers.Adam(learning_rate=0.5e-4)) # 1e-4 ###### 0.5e-4\n",
        "\n",
        "n_epochs = 600 \n",
        "batch_size = 16\n",
        "\n",
        "checkpoint = keras.callbacks.ModelCheckpoint(filepath='mel-model', \n",
        "                               monitor='val_loss',\n",
        "                               mode='min',\n",
        "                               save_best_only=True)\n",
        "\n",
        "lr_shed = keras.callbacks.ReduceLROnPlateau(monitor='val_accuracy', mode='max', verbose=1, patience=10, factor=0.99, min_lr=1e-7) # 77 70\n",
        "\n",
        "history = model.fit(x_train, y_train, batch_size=batch_size, epochs=n_epochs, validation_data=(x_test, y_test), callbacks=[checkpoint, lr_shed], verbose=1)"
      ],
      "metadata": {
        "id": "mAtXz3CEgiX8"
      },
      "execution_count": null,
      "outputs": []
    },
    {
      "cell_type": "code",
      "source": [
        "acc = history.history['accuracy']\n",
        "val_acc = history.history['val_accuracy']\n",
        "loss = history.history['loss']\n",
        "val_loss = history.history['val_loss']\n",
        "\n",
        "epochs = range(1, len(acc) + 1)\n",
        "\n",
        "plt.plot(epochs, acc, label='Training acc')\n",
        "plt.plot(epochs, val_acc, label='Validation acc')\n",
        "plt.title('Training and validation accuracy')\n",
        "plt.legend()\n",
        "\n",
        "plt.figure()\n",
        "\n",
        "plt.plot(epochs, loss, label='Training loss')\n",
        "plt.plot(epochs, val_loss, label='Validation loss')\n",
        "plt.title('Training and validation loss')\n",
        "plt.legend()\n",
        "\n",
        "plt.show()"
      ],
      "metadata": {
        "id": "HLj3yF3WbIto"
      },
      "execution_count": null,
      "outputs": []
    },
    {
      "cell_type": "code",
      "source": [],
      "metadata": {
        "id": "IuzjKorx_Fya"
      },
      "execution_count": null,
      "outputs": []
    },
    {
      "cell_type": "code",
      "source": [],
      "metadata": {
        "id": "xiAFLnu-HQME"
      },
      "execution_count": null,
      "outputs": []
    },
    {
      "cell_type": "code",
      "source": [
        "! unzip model1.zip\n",
        "! unzip model2.zip"
      ],
      "metadata": {
        "id": "iTYxIflgpunz"
      },
      "execution_count": null,
      "outputs": []
    },
    {
      "cell_type": "code",
      "source": [
        "# test\n",
        "model1 = keras.models.load_model('mel-model1')\n",
        "model2 = keras.models.load_model('mel-model2')\n",
        "\n",
        "x_train, x_test, y_train, y_test = train_test_split(X_mel, y_encoded, random_state=42, test_size=0.2)\n",
        "x_test, x_MEL_test, y_test, y_MEL_test = train_test_split(x_test, y_test, random_state=42, test_size=0.25)"
      ],
      "metadata": {
        "id": "q8wDwrCIjnOz"
      },
      "execution_count": 40,
      "outputs": []
    },
    {
      "cell_type": "code",
      "source": [
        "y_preds = model1.predict(x_T_test)\n",
        "y_hat = np.argmax(y_preds, axis=1)\n",
        "y_true = np.argmax(y_T_test, axis=1)\n",
        "\n",
        "cm = confusion_matrix(y_true, y_hat)\n",
        "\n",
        "sum = 0\n",
        "\n",
        "for i in range(cm.shape[0]):\n",
        "  sum += cm[i,i]\n",
        "\n",
        "print(len(y_preds))\n",
        "print(sum / len(y_preds))\n",
        "print(f1_score(y_true, y_hat, average='weighted'))\n",
        "sns.heatmap(cm, annot=True)"
      ],
      "metadata": {
        "id": "yvJ01sXh0M0f",
        "colab": {
          "base_uri": "https://localhost:8080/",
          "height": 334
        },
        "outputId": "9e9a973f-261b-46bf-9280-0a904c363396"
      },
      "execution_count": 36,
      "outputs": [
        {
          "output_type": "stream",
          "name": "stdout",
          "text": [
            "453\n",
            "0.8896247240618101\n",
            "0.8905227045730847\n"
          ]
        },
        {
          "output_type": "execute_result",
          "data": {
            "text/plain": [
              "<matplotlib.axes._subplots.AxesSubplot at 0x7ff416ec0090>"
            ]
          },
          "metadata": {},
          "execution_count": 36
        },
        {
          "output_type": "display_data",
          "data": {
            "text/plain": [
              "<Figure size 432x288 with 2 Axes>"
            ],
            "image/png": "[encoded data removed]"
          },
          "metadata": {
            "needs_background": "light"
          }
        }
      ]
    },
    {
      "cell_type": "code",
      "source": [],
      "metadata": {
        "id": "LXkOaLBAqgsv"
      },
      "execution_count": null,
      "outputs": []
    },
    {
      "cell_type": "code",
      "source": [],
      "metadata": {
        "id": "kyczMserrgK6"
      },
      "execution_count": null,
      "outputs": []
    },
    {
      "cell_type": "code",
      "source": [
        "! unzip model3.zip\n",
        "! unzip model4.zip"
      ],
      "metadata": {
        "id": "ffu2Xc9rrgD2",
        "outputId": "27b9eabd-6f66-44a2-87d0-89193a0e563c",
        "colab": {
          "base_uri": "https://localhost:8080/"
        }
      },
      "execution_count": 21,
      "outputs": [
        {
          "output_type": "stream",
          "name": "stdout",
          "text": [
            "Archive:  model3.zip\n",
            "   creating: MFCC_MODEL_1_86_85/\n",
            "  inflating: MFCC_MODEL_1_86_85/keras_metadata.pb  \n",
            "  inflating: MFCC_MODEL_1_86_85/saved_model.pb  \n",
            "   creating: MFCC_MODEL_1_86_85/assets/\n",
            "   creating: MFCC_MODEL_1_86_85/variables/\n",
            "  inflating: MFCC_MODEL_1_86_85/variables/variables.index  \n",
            "  inflating: MFCC_MODEL_1_86_85/variables/variables.data-00000-of-00001  \n",
            "Archive:  model4.zip\n",
            "   creating: MFCC_MODEL_2_85_85/\n",
            "  inflating: MFCC_MODEL_2_85_85/keras_metadata.pb  \n",
            "  inflating: MFCC_MODEL_2_85_85/saved_model.pb  \n",
            "   creating: MFCC_MODEL_2_85_85/variables/\n",
            "  inflating: MFCC_MODEL_2_85_85/variables/variables.index  \n",
            "  inflating: MFCC_MODEL_2_85_85/variables/variables.data-00000-of-00001  \n",
            "   creating: MFCC_MODEL_2_85_85/assets/\n"
          ]
        }
      ]
    },
    {
      "cell_type": "code",
      "source": [
        "# test\n",
        "m_model1 = keras.models.load_model('mfcc-model1')\n",
        "m_model2 = keras.models.load_model('mfcc-model2')\n",
        "\n",
        "x_train, x_test, y_train, y_test = train_test_split(X_mfcc, y_encoded, random_state=42, test_size=0.2)\n",
        "x_test, x_MFCC_test, y_test, y_MFCC_test = train_test_split(x_test, y_test, random_state=42, test_size=0.25)"
      ],
      "metadata": {
        "id": "l_qjGDKErUrC"
      },
      "execution_count": 41,
      "outputs": []
    },
    {
      "cell_type": "code",
      "source": [
        "y_preds = m_model1.predict(x_T_test)\n",
        "y_hat = np.argmax(y_preds, axis=1)\n",
        "y_true = np.argmax(y_T_test, axis=1)\n",
        "\n",
        "cm = confusion_matrix(y_true, y_hat)\n",
        "\n",
        "sum = 0\n",
        "\n",
        "for i in range(cm.shape[0]):\n",
        "  sum += cm[i,i]\n",
        "\n",
        "print(len(y_preds))\n",
        "print(sum / len(y_preds))\n",
        "print(f1_score(y_true, y_hat, average='weighted'))\n",
        "sns.heatmap(cm, annot=True)"
      ],
      "metadata": {
        "id": "PWoms0pMruWn",
        "outputId": "a0ee7713-039d-4cb4-8682-3fa93432b849",
        "colab": {
          "base_uri": "https://localhost:8080/",
          "height": 335
        }
      },
      "execution_count": 33,
      "outputs": [
        {
          "output_type": "stream",
          "name": "stdout",
          "text": [
            "453\n",
            "0.8543046357615894\n",
            "0.8542529957173756\n"
          ]
        },
        {
          "output_type": "execute_result",
          "data": {
            "text/plain": [
              "<matplotlib.axes._subplots.AxesSubplot at 0x7ff4178dcad0>"
            ]
          },
          "metadata": {},
          "execution_count": 33
        },
        {
          "output_type": "display_data",
          "data": {
            "text/plain": [
              "<Figure size 432x288 with 2 Axes>"
            ],
            "image/png": "[encoded data removed]"
          },
          "metadata": {
            "needs_background": "light"
          }
        }
      ]
    },
    {
      "cell_type": "code",
      "source": [
        "y1_preds = m_model1.predict(x_MFCC_test)\n",
        "y2_preds = model1.predict(x_MEL_test)\n",
        "y_preds = y1_preds + y2_preds\n",
        "y_hat = np.argmax(y_preds, axis=1)\n",
        "y_true = np.argmax(y_T_test, axis=1)\n",
        "\n",
        "cm = confusion_matrix(y_true, y_hat)\n",
        "\n",
        "sum = 0\n",
        "\n",
        "for i in range(cm.shape[0]):\n",
        "  sum += cm[i,i]\n",
        "\n",
        "print(len(y_preds))\n",
        "print(sum / len(y_preds))\n",
        "print(f1_score(y_true, y_hat, average='weighted'))\n",
        "sns.heatmap(cm, annot=True)"
      ],
      "metadata": {
        "id": "oJMblJ5Xt_4e",
        "outputId": "79498327-9fff-4b9c-88a4-cda419f66a14",
        "colab": {
          "base_uri": "https://localhost:8080/",
          "height": 334
        }
      },
      "execution_count": 47,
      "outputs": [
        {
          "output_type": "stream",
          "name": "stdout",
          "text": [
            "453\n",
            "0.9139072847682119\n",
            "0.9141970610561828\n"
          ]
        },
        {
          "output_type": "execute_result",
          "data": {
            "text/plain": [
              "<matplotlib.axes._subplots.AxesSubplot at 0x7ff417a6ed50>"
            ]
          },
          "metadata": {},
          "execution_count": 47
        },
        {
          "output_type": "display_data",
          "data": {
            "text/plain": [
              "<Figure size 432x288 with 2 Axes>"
            ],
            "image/png": "[encoded data removed]"
          },
          "metadata": {
            "needs_background": "light"
          }
        }
      ]
    },
    {
      "cell_type": "code",
      "source": [],
      "metadata": {
        "id": "iI_2IXqkvDys"
      },
      "execution_count": null,
      "outputs": []
    }
  ],
  "metadata": {
    "accelerator": "GPU",
    "colab": {
      "provenance": [],
      "authorship_tag": "ABX9TyOjPweZ3XtBSjWZDtuny5Oj",
      "include_colab_link": true
    },
    "gpuClass": "standard",
    "kernelspec": {
      "display_name": "Python 3",
      "name": "python3"
    },
    "language_info": {
      "name": "python"
    }
  },
  "nbformat": 4,
  "nbformat_minor": 0
}