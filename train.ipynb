{
  "cells": [
    {
      "cell_type": "markdown",
      "metadata": {
        "id": "view-in-github",
        "colab_type": "text"
      },
      "source": [
        "<a href=\"https://colab.research.google.com/github/Karthick47v2/speech-emotion-classifier/blob/main/train.ipynb\" target=\"_parent\"><img src=\"https://colab.research.google.com/assets/colab-badge.svg\" alt=\"Open In Colab\"/></a>"
      ]
    },
    {
      "cell_type": "code",
      "execution_count": 1,
      "metadata": {
        "colab": {
          "base_uri": "https://localhost:8080/"
        },
        "id": "zkw8bp6Li5wJ",
        "outputId": "9f906fb8-07e3-49ba-9b96-a66264fb1b8f"
      },
      "outputs": [
        {
          "output_type": "stream",
          "name": "stdout",
          "text": [
            "Mounted at /content/drive\n"
          ]
        }
      ],
      "source": [
        "from google.colab import drive\n",
        "drive.mount('/content/drive')"
      ]
    },
    {
      "cell_type": "code",
      "execution_count": 2,
      "metadata": {
        "id": "bNZZtnXnrJkl"
      },
      "outputs": [],
      "source": [
        "import numpy as np\n",
        "from sklearn.model_selection import train_test_split\n",
        "from sklearn.preprocessing import LabelEncoder\n",
        "from sklearn.metrics import confusion_matrix, f1_score\n",
        "from tensorflow.keras.utils import to_categorical\n",
        "from tensorflow import keras\n",
        "import matplotlib.pyplot as plt\n",
        "import seaborn as sns"
      ]
    },
    {
      "cell_type": "code",
      "execution_count": 3,
      "metadata": {
        "id": "MQcVZ1Njq7rs"
      },
      "outputs": [],
      "source": [
        "X_mfcc =np.load('drive/MyDrive/SER/X_mfcc_2048.npy')\n",
        "X_mel = np.load('drive/MyDrive/SER/X_mel_2048.npy')\n",
        "y = np.load('drive/MyDrive/SER/y_2048.npy')"
      ]
    },
    {
      "cell_type": "code",
      "execution_count": 4,
      "metadata": {
        "id": "jkylGiBwugOK"
      },
      "outputs": [],
      "source": [
        "le = LabelEncoder()\n",
        "y_encoded = to_categorical(le.fit_transform(y))"
      ]
    },
    {
      "cell_type": "code",
      "execution_count": 17,
      "metadata": {
        "id": "nzMYI8Morele"
      },
      "outputs": [],
      "source": [
        "x_train, x_test, y_train, y_test = train_test_split(X_mel, y_encoded, random_state=42, test_size=0.1)\n",
        "x_test, x_T_test, y_test, y_T_test = train_test_split(x_test, y_test, random_state=42, test_size=0.5)"
      ]
    },
    {
      "cell_type": "code",
      "execution_count": null,
      "metadata": {
        "id": "dSkMvMLyuuGm"
      },
      "outputs": [],
      "source": [
        "x_test.shape"
      ]
    },
    {
      "cell_type": "code",
      "execution_count": null,
      "metadata": {
        "id": "kgsAmw6_svd0"
      },
      "outputs": [],
      "source": [
        "n_rows = x_train.shape[1]\n",
        "n_cols = x_train.shape[2]\n",
        "n_channels = 1\n",
        "\n",
        "x_train = x_train.reshape(x_train.shape[0], n_rows, n_cols, n_channels)\n",
        "x_test = x_test.reshape(x_test.shape[0], n_rows, n_cols, n_channels)"
      ]
    },
    {
      "cell_type": "code",
      "execution_count": null,
      "metadata": {
        "id": "yYMy1hQUvvc2"
      },
      "outputs": [],
      "source": [
        "# # MEL - 300 EPOCHS\n",
        "\n",
        "model.add(keras.layers.Conv2D(filters=16, kernel_size=(5,5), kernel_initializer=\"he_normal\", input_shape=(n_rows, n_cols, n_channels), activation='relu'))\n",
        "model.add(keras.layers.BatchNormalization())\n",
        "\n",
        "model.add(keras.layers.MaxPooling2D(pool_size=(6,6)))\n",
        "\n",
        "model.add(keras.layers.Conv2D(filters=32, kernel_size=(3,3), activation='relu', kernel_initializer=\"he_normal\"))\n",
        "model.add(keras.layers.BatchNormalization())\n",
        "\n",
        "model.add(keras.layers.MaxPooling2D(pool_size=(6,6)))\n",
        "\n",
        "model.add(keras.layers.Conv2D(filters=48, kernel_size=(3,3), activation='relu', kernel_initializer=\"he_normal\"))\n",
        "model.add(keras.layers.BatchNormalization())\n",
        "\n",
        "\n",
        "model.add(keras.layers.Dropout(0.7))\n",
        "\n",
        "model.add(keras.layers.GlobalAveragePooling2D())\n",
        "\n",
        "model.add(keras.layers.Dense(units=7, activation='softmax'))\n",
        "\n",
        "model.compile(loss='categorical_crossentropy', metrics=['accuracy'], optimizer=keras.optimizers.Adam(learning_rate=2e-4)) # 2\n",
        "\n",
        "model.summary()\n",
        "n_epochs = 300\n",
        "batch_size = 32\n",
        "\n",
        "checkpoint = keras.callbacks.ModelCheckpoint(filepath='mel-model', \n",
        "                               monitor='val_loss',\n",
        "                               mode='min',\n",
        "                               save_best_only=True)\n",
        "\n",
        "history = model.fit(x_train, y_train, batch_size=batch_size, epochs=n_epochs, validation_data=(x_test, y_test), callbacks=[checkpoint], verbose=1)"
      ]
    },
    {
      "cell_type": "code",
      "source": [
        "## MFCC\n",
        "model = keras.Sequential()\n",
        "\n",
        "model.add(keras.layers.Conv2D(filters=16, kernel_size=(3,3), kernel_initializer=\"he_normal\", input_shape=(n_rows, n_cols, n_channels), activation='relu'))\n",
        "model.add(keras.layers.BatchNormalization())\n",
        "\n",
        "model.add(keras.layers.MaxPooling2D(pool_size=(2,2)))\n",
        "\n",
        "model.add(keras.layers.Conv2D(filters=32, kernel_size=(3,3), activation='relu', kernel_initializer=\"he_normal\"))\n",
        "model.add(keras.layers.BatchNormalization())\n",
        "\n",
        "model.add(keras.layers.Conv2D(filters=48, kernel_size=(3,3), activation='relu', kernel_initializer=\"he_normal\"))\n",
        "model.add(keras.layers.BatchNormalization())\n",
        "\n",
        "model.add(keras.layers.Dropout(0.7))\n",
        "\n",
        "model.add(keras.layers.GlobalAveragePooling2D())\n",
        "\n",
        "model.add(keras.layers.Dense(units=7, activation='softmax'))\n",
        "\n",
        "model.compile(loss='categorical_crossentropy', metrics=['accuracy'], optimizer=keras.optimizers.Adam(learning_rate=4e-4)) # 2\n",
        "\n",
        "model.summary()\n",
        "n_epochs = 300\n",
        "batch_size = 32\n",
        "\n",
        "checkpoint = keras.callbacks.ModelCheckpoint(filepath='mfcc-model', \n",
        "                               monitor='val_loss',\n",
        "                               mode='min',\n",
        "                               save_best_only=True)\n",
        "\n",
        "lr_shed = keras.callbacks.ReduceLROnPlateau(monitor='val_accuracy', mode='max', verbose=1, patience=3, factor=0.99, min_lr=1e-7)\n",
        "\n",
        "history = model.fit(x_train, y_train, batch_size=batch_size, epochs=n_epochs, validation_data=(x_test, y_test), callbacks=[checkpoint], verbose=1)"
      ],
      "metadata": {
        "id": "mAtXz3CEgiX8"
      },
      "execution_count": null,
      "outputs": []
    },
    {
      "cell_type": "code",
      "source": [
        "acc = history.history['accuracy']\n",
        "val_acc = history.history['val_accuracy']\n",
        "loss = history.history['loss']\n",
        "val_loss = history.history['val_loss']\n",
        "\n",
        "epochs = range(1, len(acc) + 1)\n",
        "\n",
        "plt.plot(epochs, acc, label='Training acc')\n",
        "plt.plot(epochs, val_acc, label='Validation acc')\n",
        "plt.title('Training and validation accuracy')\n",
        "plt.legend()\n",
        "\n",
        "plt.figure()\n",
        "\n",
        "plt.plot(epochs, loss, label='Training loss')\n",
        "plt.plot(epochs, val_loss, label='Validation loss')\n",
        "plt.title('Training and validation loss')\n",
        "plt.legend()\n",
        "\n",
        "plt.show()"
      ],
      "metadata": {
        "id": "HLj3yF3WbIto"
      },
      "execution_count": null,
      "outputs": []
    },
    {
      "cell_type": "code",
      "source": [],
      "metadata": {
        "id": "IuzjKorx_Fya"
      },
      "execution_count": null,
      "outputs": []
    },
    {
      "cell_type": "code",
      "source": [],
      "metadata": {
        "id": "xiAFLnu-HQME"
      },
      "execution_count": null,
      "outputs": []
    },
    {
      "cell_type": "code",
      "source": [
        "! unzip mel_2048.zip\n",
        "! unzip mfcc_2048.zip"
      ],
      "metadata": {
        "id": "iTYxIflgpunz"
      },
      "execution_count": null,
      "outputs": []
    },
    {
      "cell_type": "code",
      "source": [
        "# test\n",
        "mel_model = keras.models.load_model('mel_2048')\n",
        "\n",
        "x_train, x_test, y_train, y_test = train_test_split(X_mel, y_encoded, random_state=42, test_size=0.1)\n",
        "x_test, x_MEL_test, y_test, y_MEL_test = train_test_split(x_test, y_test, random_state=42, test_size=0.5)"
      ],
      "metadata": {
        "id": "q8wDwrCIjnOz"
      },
      "execution_count": 13,
      "outputs": []
    },
    {
      "cell_type": "code",
      "source": [
        "y_preds = mel_model.predict(x_MEL_test)\n",
        "y_hat = np.argmax(y_preds, axis=1)\n",
        "y_true = np.argmax(y_MEL_test, axis=1)\n",
        "\n",
        "cm = confusion_matrix(y_true, y_hat)\n",
        "\n",
        "sum = 0\n",
        "\n",
        "for i in range(cm.shape[0]):\n",
        "  sum += cm[i,i]\n",
        "\n",
        "print(len(y_preds))\n",
        "print(sum / len(y_preds))\n",
        "print(f1_score(y_true, y_hat, average='weighted'))\n",
        "sns.heatmap(cm, annot=True)"
      ],
      "metadata": {
        "id": "yvJ01sXh0M0f",
        "colab": {
          "base_uri": "https://localhost:8080/",
          "height": 338
        },
        "outputId": "a5f5d979-7b4b-4408-b181-013d8b387243"
      },
      "execution_count": 14,
      "outputs": [
        {
          "output_type": "stream",
          "name": "stdout",
          "text": [
            "472\n",
            "0.9004237288135594\n",
            "0.9004028397246064\n"
          ]
        },
        {
          "output_type": "execute_result",
          "data": {
            "text/plain": [
              "<matplotlib.axes._subplots.AxesSubplot at 0x7f2bb0292710>"
            ]
          },
          "metadata": {},
          "execution_count": 14
        },
        {
          "output_type": "display_data",
          "data": {
            "text/plain": [
              "<Figure size 432x288 with 2 Axes>"
            ],
            "image/png": "[encoded data removed]"
          },
          "metadata": {
            "needs_background": "light"
          }
        }
      ]
    },
    {
      "cell_type": "code",
      "source": [],
      "metadata": {
        "id": "LXkOaLBAqgsv"
      },
      "execution_count": null,
      "outputs": []
    },
    {
      "cell_type": "code",
      "source": [],
      "metadata": {
        "id": "kyczMserrgK6"
      },
      "execution_count": null,
      "outputs": []
    },
    {
      "cell_type": "code",
      "source": [
        "mfcc_model = keras.models.load_model('mfcc_2048')\n",
        "\n",
        "x_train, x_test, y_train, y_test = train_test_split(X_mfcc, y_encoded, random_state=42, test_size=0.1)\n",
        "x_test, x_MFCC_test, y_test, y_MFCC_test = train_test_split(x_test, y_test, random_state=42, test_size=0.5)"
      ],
      "metadata": {
        "id": "l_qjGDKErUrC"
      },
      "execution_count": 15,
      "outputs": []
    },
    {
      "cell_type": "code",
      "source": [
        "y_preds = mfcc_model.predict(x_MFCC_test)\n",
        "y_hat = np.argmax(y_preds, axis=1)\n",
        "y_true = np.argmax(y_MFCC_test, axis=1)\n",
        "\n",
        "cm = confusion_matrix(y_true, y_hat)\n",
        "\n",
        "sum = 0\n",
        "\n",
        "for i in range(cm.shape[0]):\n",
        "  sum += cm[i,i]\n",
        "\n",
        "print(len(y_preds))\n",
        "print(sum / len(y_preds))\n",
        "print(f1_score(y_true, y_hat, average='weighted'))\n",
        "sns.heatmap(cm, annot=True)"
      ],
      "metadata": {
        "id": "PWoms0pMruWn",
        "outputId": "95670ffe-41e6-4811-b217-fd4bd94cdb4b",
        "colab": {
          "base_uri": "https://localhost:8080/",
          "height": 334
        }
      },
      "execution_count": 16,
      "outputs": [
        {
          "output_type": "stream",
          "name": "stdout",
          "text": [
            "472\n",
            "0.961864406779661\n",
            "0.9619427260405885\n"
          ]
        },
        {
          "output_type": "execute_result",
          "data": {
            "text/plain": [
              "<matplotlib.axes._subplots.AxesSubplot at 0x7f2bb0299110>"
            ]
          },
          "metadata": {},
          "execution_count": 16
        },
        {
          "output_type": "display_data",
          "data": {
            "text/plain": [
              "<Figure size 432x288 with 2 Axes>"
            ],
            "image/png": "[encoded data removed]"
          },
          "metadata": {
            "needs_background": "light"
          }
        }
      ]
    },
    {
      "cell_type": "code",
      "source": [
        "y1_preds = mfcc_model.predict(x_MFCC_test)\n",
        "y2_preds = mel_model.predict(x_MEL_test)\n",
        "y_preds = y1_preds * 0.7 + y2_preds * 0.3\n",
        "y_hat = np.argmax(y_preds, axis=1)\n",
        "y_true = np.argmax(y_T_test, axis=1)\n",
        "\n",
        "cm = confusion_matrix(y_true, y_hat)\n",
        "\n",
        "sum = 0\n",
        "\n",
        "for i in range(cm.shape[0]):\n",
        "  sum += cm[i,i]\n",
        "\n",
        "print(len(y_preds))\n",
        "print(sum / len(y_preds))\n",
        "print(f1_score(y_true, y_hat, average='weighted'))\n",
        "sns.heatmap(cm, annot=True)"
      ],
      "metadata": {
        "id": "oJMblJ5Xt_4e",
        "outputId": "b72a9eaa-7260-4843-bf81-33c1b53a23ab",
        "colab": {
          "base_uri": "https://localhost:8080/",
          "height": 334
        }
      },
      "execution_count": 39,
      "outputs": [
        {
          "output_type": "stream",
          "name": "stdout",
          "text": [
            "472\n",
            "0.9703389830508474\n",
            "0.9703448711446808\n"
          ]
        },
        {
          "output_type": "execute_result",
          "data": {
            "text/plain": [
              "<matplotlib.axes._subplots.AxesSubplot at 0x7f2a9d601890>"
            ]
          },
          "metadata": {},
          "execution_count": 39
        },
        {
          "output_type": "display_data",
          "data": {
            "text/plain": [
              "<Figure size 432x288 with 2 Axes>"
            ],
            "image/png": "[encoded data removed]"
          },
          "metadata": {
            "needs_background": "light"
          }
        }
      ]
    },
    {
      "cell_type": "code",
      "source": [],
      "metadata": {
        "id": "1n4r-cIxxV-n"
      },
      "execution_count": null,
      "outputs": []
    }
  ],
  "metadata": {
    "accelerator": "GPU",
    "colab": {
      "provenance": [],
      "include_colab_link": true
    },
    "gpuClass": "standard",
    "kernelspec": {
      "display_name": "Python 3",
      "name": "python3"
    },
    "language_info": {
      "name": "python"
    }
  },
  "nbformat": 4,
  "nbformat_minor": 0
}