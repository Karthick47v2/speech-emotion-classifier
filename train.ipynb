{
  "cells": [
    {
      "cell_type": "markdown",
      "metadata": {
        "id": "view-in-github",
        "colab_type": "text"
      },
      "source": [
        "<a href=\"https://colab.research.google.com/github/Karthick47v2/speech-emotion-classifier/blob/main/train.ipynb\" target=\"_parent\"><img src=\"https://colab.research.google.com/assets/colab-badge.svg\" alt=\"Open In Colab\"/></a>"
      ]
    },
    {
      "cell_type": "code",
      "execution_count": 1,
      "metadata": {
        "colab": {
          "base_uri": "https://localhost:8080/"
        },
        "id": "zkw8bp6Li5wJ",
        "outputId": "f4e38210-5aef-45f8-a1dc-906fe62d93b8"
      },
      "outputs": [
        {
          "output_type": "stream",
          "name": "stdout",
          "text": [
            "Mounted at /content/drive\n"
          ]
        }
      ],
      "source": [
        "from google.colab import drive\n",
        "drive.mount('/content/drive')"
      ]
    },
    {
      "cell_type": "code",
      "execution_count": 2,
      "metadata": {
        "id": "bNZZtnXnrJkl"
      },
      "outputs": [],
      "source": [
        "import numpy as np\n",
        "from sklearn.model_selection import train_test_split\n",
        "from sklearn.preprocessing import LabelEncoder\n",
        "from sklearn.metrics import confusion_matrix\n",
        "from tensorflow.keras.utils import to_categorical\n",
        "from tensorflow import keras\n",
        "import matplotlib.pyplot as plt\n",
        "import seaborn as sns"
      ]
    },
    {
      "cell_type": "code",
      "execution_count": 3,
      "metadata": {
        "id": "MQcVZ1Njq7rs"
      },
      "outputs": [],
      "source": [
        "X_mfcc =np.load('drive/MyDrive/SER/X_mfcc.npy')\n",
        "X_mel = np.load('drive/MyDrive/SER/X_mel.npy')\n",
        "y = np.load('drive/MyDrive/SER/y.npy')"
      ]
    },
    {
      "cell_type": "code",
      "execution_count": 4,
      "metadata": {
        "id": "jkylGiBwugOK"
      },
      "outputs": [],
      "source": [
        "le = LabelEncoder()\n",
        "y_encoded = to_categorical(le.fit_transform(y))"
      ]
    },
    {
      "cell_type": "code",
      "execution_count": 5,
      "metadata": {
        "id": "nzMYI8Morele"
      },
      "outputs": [],
      "source": [
        "x_train, x_test, y_train, y_test = train_test_split(X_mfcc, y_encoded, random_state=42, test_size=0.2)\n",
        "x_test, x_T_test, y_test, y_T_test = train_test_split(x_test, y_test, random_state=42, test_size=0.25)"
      ]
    },
    {
      "cell_type": "code",
      "execution_count": 6,
      "metadata": {
        "colab": {
          "base_uri": "https://localhost:8080/"
        },
        "id": "dSkMvMLyuuGm",
        "outputId": "0c8db0bf-308a-40d8-9124-fdaf3299887b"
      },
      "outputs": [
        {
          "output_type": "execute_result",
          "data": {
            "text/plain": [
              "(1359, 13, 308)"
            ]
          },
          "metadata": {},
          "execution_count": 6
        }
      ],
      "source": [
        "x_test.shape"
      ]
    },
    {
      "cell_type": "code",
      "execution_count": 7,
      "metadata": {
        "id": "kgsAmw6_svd0"
      },
      "outputs": [],
      "source": [
        "n_rows = x_train.shape[1]\n",
        "n_cols = x_train.shape[2]\n",
        "n_channels = 1\n",
        "\n",
        "x_train = x_train.reshape(x_train.shape[0], n_rows, n_cols, n_channels)\n",
        "x_test = x_test.reshape(x_test.shape[0], n_rows, n_cols, n_channels)"
      ]
    },
    {
      "cell_type": "code",
      "execution_count": 8,
      "metadata": {
        "id": "yYMy1hQUvvc2"
      },
      "outputs": [],
      "source": [
        "# # MEL - 300 EPOCHS\n",
        "\n",
        "# model = keras.Sequential()\n",
        "\n",
        "# model.add(keras.layers.Conv2D(filters=16, kernel_size=(3,3), kernel_initializer=\"he_normal\", input_shape=(n_rows, n_cols, n_channels), activation='relu'))\n",
        "# model.add(keras.layers.BatchNormalization())\n",
        "\n",
        "# model.add(keras.layers.MaxPooling2D(pool_size=(6,6)))\n",
        "\n",
        "# model.add(keras.layers.Conv2D(filters=32, kernel_size=(3,3), activation='relu', kernel_initializer=\"he_normal\"))\n",
        "# model.add(keras.layers.BatchNormalization())\n",
        "\n",
        "# model.add(keras.layers.MaxPooling2D(pool_size=(4,4)))\n",
        "\n",
        "# model.add(keras.layers.Conv2D(filters=32, kernel_size=(3,3), activation='relu', kernel_initializer=\"he_normal\"))\n",
        "# model.add(keras.layers.BatchNormalization())\n",
        "\n",
        "# model.add(keras.layers.Dropout(0.6))\n",
        "\n",
        "# model.add(keras.layers.GlobalAveragePooling2D())\n",
        "\n",
        "# model.add(keras.layers.Dense(units=7, activation='softmax'))\n",
        "\n",
        "# model.compile(loss='categorical_crossentropy', metrics=['accuracy'], optimizer=keras.optimizers.Adam(learning_rate=2e-4))\n",
        "\n",
        "# n_epochs = 300\n",
        "# batch_size = 64\n",
        "\n",
        "# checkpoint = keras.callbacks.ModelCheckpoint(filepath='mel-model', \n",
        "#                                monitor='val_loss',\n",
        "#                                mode='min',\n",
        "#                                save_best_only=True)\n",
        "\n",
        "# lr_shed = keras.callbacks.ReduceLROnPlateau(monitor='val_accuracy', mode='max', verbose=1, patience=3, factor=0.99, min_lr=1e-7)\n",
        "\n",
        "# history = model.fit(x_train, y_train, batch_size=batch_size, epochs=n_epochs, validation_data=(x_test, y_test), callbacks=[checkpoint, lr_shed], verbose=1)"
      ]
    },
    {
      "cell_type": "code",
      "source": [
        "## MFCC\n",
        "model = keras.Sequential()\n",
        "\n",
        "model.add(keras.layers.Conv2D(filters=16, kernel_size=(3,3), kernel_initializer=\"he_normal\", input_shape=(n_rows, n_cols, n_channels), activation='relu'))\n",
        "model.add(keras.layers.BatchNormalization())\n",
        "\n",
        "model.add(keras.layers.MaxPooling2D(pool_size=(2,2)))\n",
        "\n",
        "model.add(keras.layers.Conv2D(filters=32, kernel_size=(3,3), activation='relu', kernel_initializer=\"he_normal\"))  # 32\n",
        "model.add(keras.layers.BatchNormalization())\n",
        "\n",
        "model.add(keras.layers.Dropout(0.3))\n",
        "\n",
        "model.add(keras.layers.GlobalAveragePooling2D())\n",
        "\n",
        "model.add(keras.layers.Dense(units=7, activation='softmax'))\n",
        "\n",
        "model.summary()\n",
        "\n",
        "model.compile(loss='categorical_crossentropy', metrics=['accuracy'], optimizer=keras.optimizers.Adam(learning_rate=0.5e-4)) # 1e-4 ###### 0.5e-4\n",
        "\n",
        "n_epochs = 600 \n",
        "batch_size = 16\n",
        "\n",
        "checkpoint = keras.callbacks.ModelCheckpoint(filepath='mel-model', \n",
        "                               monitor='val_loss',\n",
        "                               mode='min',\n",
        "                               save_best_only=True)\n",
        "\n",
        "lr_shed = keras.callbacks.ReduceLROnPlateau(monitor='val_accuracy', mode='max', verbose=1, patience=10, factor=0.99, min_lr=1e-7) # 77 70\n",
        "\n",
        "history = model.fit(x_train, y_train, batch_size=batch_size, epochs=n_epochs, validation_data=(x_test, y_test), callbacks=[checkpoint, lr_shed], verbose=1)"
      ],
      "metadata": {
        "id": "mAtXz3CEgiX8"
      },
      "execution_count": null,
      "outputs": []
    },
    {
      "cell_type": "code",
      "source": [
        "acc = history.history['accuracy']\n",
        "val_acc = history.history['val_accuracy']\n",
        "loss = history.history['loss']\n",
        "val_loss = history.history['val_loss']\n",
        "\n",
        "epochs = range(1, len(acc) + 1)\n",
        "\n",
        "plt.plot(epochs, acc, label='Training acc')\n",
        "plt.plot(epochs, val_acc, label='Validation acc')\n",
        "plt.title('Training and validation accuracy')\n",
        "plt.legend()\n",
        "\n",
        "plt.figure()\n",
        "\n",
        "plt.plot(epochs, loss, label='Training loss')\n",
        "plt.plot(epochs, val_loss, label='Validation loss')\n",
        "plt.title('Training and validation loss')\n",
        "plt.legend()\n",
        "\n",
        "plt.show()"
      ],
      "metadata": {
        "id": "HLj3yF3WbIto"
      },
      "execution_count": null,
      "outputs": []
    },
    {
      "cell_type": "code",
      "source": [],
      "metadata": {
        "id": "IuzjKorx_Fya"
      },
      "execution_count": null,
      "outputs": []
    },
    {
      "cell_type": "code",
      "source": [
        "# test\n",
        "model = keras.models.load_model('mel-model')"
      ],
      "metadata": {
        "id": "kzzIh99u-5ag"
      },
      "execution_count": null,
      "outputs": []
    },
    {
      "cell_type": "code",
      "source": [
        "y_preds = model.predict(TESS_X_mfcc)\n",
        "y_hat = np.argmax(y_preds, axis=1)\n",
        "y_true = np.argmax(TESS_y_encoded, axis=1)"
      ],
      "metadata": {
        "id": "PvB2uwr_blNm"
      },
      "execution_count": null,
      "outputs": []
    },
    {
      "cell_type": "code",
      "source": [
        "cm = confusion_matrix(y_true, y_hat)\n",
        "cm"
      ],
      "metadata": {
        "colab": {
          "base_uri": "https://localhost:8080/"
        },
        "id": "zjrMABowIfX6",
        "outputId": "d0bcdc46-816f-436c-a76a-5c04ad8f3f79"
      },
      "execution_count": null,
      "outputs": [
        {
          "output_type": "execute_result",
          "data": {
            "text/plain": [
              "array([[  0,  13,   0,  73,   0,   0, 314,   0],\n",
              "       [  0,   0,   0,   0,   0,   0,   0,   0],\n",
              "       [  0,   3,   3,   8,  15,   8, 361,   2],\n",
              "       [  0,  81,   0, 139,   0,   0, 180,   0],\n",
              "       [  0,   0,   8,  10,   6,   0, 376,   0],\n",
              "       [  0,   0,   2,  20,  30,  16, 332,   0],\n",
              "       [  0,  32,   0,  15,   0,   0, 353,   0],\n",
              "       [  0,   7,   1,   6,   0,   5, 378,   3]])"
            ]
          },
          "metadata": {},
          "execution_count": 45
        }
      ]
    },
    {
      "cell_type": "code",
      "source": [],
      "metadata": {
        "id": "xiAFLnu-HQME"
      },
      "execution_count": null,
      "outputs": []
    },
    {
      "cell_type": "code",
      "source": [
        "## MEL\n",
        "model = keras.Sequential()\n",
        "\n",
        "model.add(keras.layers.Conv2D(filters=16, kernel_size=(3,3), kernel_initializer=\"he_normal\", input_shape=(n_rows, n_cols, n_channels), activation='relu'))\n",
        "model.add(keras.layers.BatchNormalization())\n",
        "\n",
        "model.add(keras.layers.MaxPooling2D(pool_size=(2,2)))\n",
        "\n",
        "model.add(keras.layers.Conv2D(filters=16, kernel_size=(3,3), activation='relu', kernel_initializer=\"he_normal\"))\n",
        "model.add(keras.layers.BatchNormalization())\n",
        "\n",
        "model.add(keras.layers.MaxPooling2D(pool_size=(2,2)))\n",
        "\n",
        "model.add(keras.layers.Conv2D(filters=16, kernel_size=(3,3), activation='relu', kernel_initializer=\"he_normal\")) # 32\n",
        "model.add(keras.layers.BatchNormalization())\n",
        "\n",
        "# model.add(keras.layers.MaxPooling2D(pool_size=(2,2)))\n",
        "\n",
        "# model.add(keras.layers.Conv2D(filters=32, kernel_size=(3,3), activation='relu', kernel_initializer=\"he_normal\"))\n",
        "# model.add(keras.layers.BatchNormalization())\n",
        "\n",
        "model.add(keras.layers.GlobalAveragePooling2D())\n",
        "\n",
        "model.add(keras.layers.Dense(units=8, activation='softmax'))\n",
        "\n",
        "model.summary()\n",
        "\n",
        "model.compile(loss='categorical_crossentropy', metrics=['accuracy'], optimizer=keras.optimizers.Adam(learning_rate=1e-4))\n",
        "\n",
        "n_epochs = 300\n",
        "batch_size = 64\n",
        "\n",
        "checkpoint = keras.callbacks.ModelCheckpoint(filepath='mel-model', \n",
        "                               monitor='val_loss',\n",
        "                               mode='min',\n",
        "                               save_best_only=True)\n",
        "\n",
        "history = model.fit(x_train, y_train, batch_size=batch_size, epochs=n_epochs, validation_data=(x_test, y_test), callbacks=[checkpoint], verbose=1)"
      ],
      "metadata": {
        "id": "AuXb4rX1ja4w",
        "colab": {
          "base_uri": "https://localhost:8080/"
        },
        "outputId": "9316008e-9503-4f1e-8f09-68c44265c6ae"
      },
      "execution_count": null,
      "outputs": [
        {
          "output_type": "stream",
          "name": "stdout",
          "text": [
            "Model: \"sequential_1\"\n",
            "_________________________________________________________________\n",
            " Layer (type)                Output Shape              Param #   \n",
            "=================================================================\n",
            " conv2d_3 (Conv2D)           (None, 126, 198, 16)      160       \n",
            "                                                                 \n",
            " batch_normalization_3 (Batc  (None, 126, 198, 16)     64        \n",
            " hNormalization)                                                 \n",
            "                                                                 \n",
            " max_pooling2d_2 (MaxPooling  (None, 63, 99, 16)       0         \n",
            " 2D)                                                             \n",
            "                                                                 \n",
            " conv2d_4 (Conv2D)           (None, 61, 97, 16)        2320      \n",
            "                                                                 \n",
            " batch_normalization_4 (Batc  (None, 61, 97, 16)       64        \n",
            " hNormalization)                                                 \n",
            "                                                                 \n",
            " max_pooling2d_3 (MaxPooling  (None, 30, 48, 16)       0         \n",
            " 2D)                                                             \n",
            "                                                                 \n",
            " conv2d_5 (Conv2D)           (None, 28, 46, 16)        2320      \n",
            "                                                                 \n",
            " batch_normalization_5 (Batc  (None, 28, 46, 16)       64        \n",
            " hNormalization)                                                 \n",
            "                                                                 \n",
            " global_average_pooling2d_1   (None, 16)               0         \n",
            " (GlobalAveragePooling2D)                                        \n",
            "                                                                 \n",
            " dense_1 (Dense)             (None, 8)                 136       \n",
            "                                                                 \n",
            "=================================================================\n",
            "Total params: 5,128\n",
            "Trainable params: 5,032\n",
            "Non-trainable params: 96\n",
            "_________________________________________________________________\n",
            "Epoch 1/300\n",
            "44/44 [==============================] - 64s 1s/step - loss: 2.0489 - accuracy: 0.1657 - val_loss: 2.1087 - val_accuracy: 0.1201\n",
            "Epoch 2/300\n",
            "44/44 [==============================] - 59s 1s/step - loss: 2.0292 - accuracy: 0.2019 - val_loss: 2.0540 - val_accuracy: 0.1299\n",
            "Epoch 3/300\n",
            "44/44 [==============================] - 58s 1s/step - loss: 2.0177 - accuracy: 0.2022 - val_loss: 2.0320 - val_accuracy: 0.1429\n",
            "Epoch 4/300\n",
            "44/44 [==============================] - 54s 1s/step - loss: 2.0107 - accuracy: 0.2066 - val_loss: 2.0335 - val_accuracy: 0.2110\n",
            "Epoch 5/300\n",
            "44/44 [==============================] - 56s 1s/step - loss: 2.0050 - accuracy: 0.2048 - val_loss: 2.0461 - val_accuracy: 0.2175\n",
            "Epoch 6/300\n",
            "44/44 [==============================] - 55s 1s/step - loss: 2.0022 - accuracy: 0.2138 - val_loss: 2.0586 - val_accuracy: 0.2175\n",
            "Epoch 7/300\n",
            "44/44 [==============================] - 55s 1s/step - loss: 1.9969 - accuracy: 0.2185 - val_loss: 2.0633 - val_accuracy: 0.2110\n",
            "Epoch 8/300\n",
            "44/44 [==============================] - 54s 1s/step - loss: 1.9928 - accuracy: 0.2247 - val_loss: 2.0506 - val_accuracy: 0.2143\n",
            "Epoch 9/300\n",
            "44/44 [==============================] - 57s 1s/step - loss: 1.9856 - accuracy: 0.2323 - val_loss: 2.0271 - val_accuracy: 0.2273\n",
            "Epoch 10/300\n",
            "44/44 [==============================] - 57s 1s/step - loss: 1.9839 - accuracy: 0.2348 - val_loss: 1.9999 - val_accuracy: 0.2208\n",
            "Epoch 11/300\n",
            "44/44 [==============================] - 56s 1s/step - loss: 1.9801 - accuracy: 0.2359 - val_loss: 1.9786 - val_accuracy: 0.2273\n",
            "Epoch 12/300\n",
            "44/44 [==============================] - 57s 1s/step - loss: 1.9779 - accuracy: 0.2341 - val_loss: 1.9695 - val_accuracy: 0.2240\n",
            "Epoch 13/300\n",
            "44/44 [==============================] - 57s 1s/step - loss: 1.9724 - accuracy: 0.2370 - val_loss: 1.9537 - val_accuracy: 0.2403\n",
            "Epoch 14/300\n",
            "44/44 [==============================] - 55s 1s/step - loss: 1.9710 - accuracy: 0.2395 - val_loss: 1.9472 - val_accuracy: 0.2435\n",
            "Epoch 15/300\n",
            "44/44 [==============================] - 58s 1s/step - loss: 1.9677 - accuracy: 0.2417 - val_loss: 1.9429 - val_accuracy: 0.2338\n",
            "Epoch 16/300\n",
            "44/44 [==============================] - 57s 1s/step - loss: 1.9636 - accuracy: 0.2446 - val_loss: 1.9411 - val_accuracy: 0.2370\n",
            "Epoch 17/300\n",
            "44/44 [==============================] - 56s 1s/step - loss: 1.9595 - accuracy: 0.2467 - val_loss: 1.9364 - val_accuracy: 0.2500\n",
            "Epoch 18/300\n",
            "44/44 [==============================] - 58s 1s/step - loss: 1.9566 - accuracy: 0.2525 - val_loss: 1.9344 - val_accuracy: 0.2630\n",
            "Epoch 19/300\n",
            "44/44 [==============================] - 56s 1s/step - loss: 1.9522 - accuracy: 0.2533 - val_loss: 1.9334 - val_accuracy: 0.2403\n",
            "Epoch 20/300\n",
            "44/44 [==============================] - 56s 1s/step - loss: 1.9492 - accuracy: 0.2616 - val_loss: 1.9259 - val_accuracy: 0.2500\n",
            "Epoch 21/300\n",
            "44/44 [==============================] - 58s 1s/step - loss: 1.9432 - accuracy: 0.2656 - val_loss: 1.9220 - val_accuracy: 0.2338\n",
            "Epoch 22/300\n",
            "44/44 [==============================] - 56s 1s/step - loss: 1.9408 - accuracy: 0.2598 - val_loss: 1.9188 - val_accuracy: 0.2695\n",
            "Epoch 23/300\n",
            "44/44 [==============================] - 57s 1s/step - loss: 1.9361 - accuracy: 0.2666 - val_loss: 1.9147 - val_accuracy: 0.2662\n",
            "Epoch 24/300\n",
            "44/44 [==============================] - 55s 1s/step - loss: 1.9324 - accuracy: 0.2666 - val_loss: 1.9085 - val_accuracy: 0.2695\n",
            "Epoch 25/300\n",
            "44/44 [==============================] - 57s 1s/step - loss: 1.9270 - accuracy: 0.2703 - val_loss: 1.9062 - val_accuracy: 0.2597\n",
            "Epoch 26/300\n",
            "44/44 [==============================] - 56s 1s/step - loss: 1.9227 - accuracy: 0.2836 - val_loss: 1.9075 - val_accuracy: 0.2695\n",
            "Epoch 27/300\n",
            "44/44 [==============================] - 55s 1s/step - loss: 1.9181 - accuracy: 0.2804 - val_loss: 1.9019 - val_accuracy: 0.2727\n",
            "Epoch 28/300\n",
            "44/44 [==============================] - 57s 1s/step - loss: 1.9124 - accuracy: 0.2822 - val_loss: 1.9003 - val_accuracy: 0.2792\n",
            "Epoch 29/300\n",
            "44/44 [==============================] - 57s 1s/step - loss: 1.9079 - accuracy: 0.2851 - val_loss: 1.9001 - val_accuracy: 0.2727\n",
            "Epoch 30/300\n",
            "44/44 [==============================] - 56s 1s/step - loss: 1.9006 - accuracy: 0.2967 - val_loss: 1.8922 - val_accuracy: 0.3019\n",
            "Epoch 31/300\n",
            "44/44 [==============================] - 57s 1s/step - loss: 1.8958 - accuracy: 0.2880 - val_loss: 1.8903 - val_accuracy: 0.2890\n",
            "Epoch 32/300\n",
            "44/44 [==============================] - 57s 1s/step - loss: 1.8932 - accuracy: 0.2978 - val_loss: 1.8867 - val_accuracy: 0.2890\n",
            "Epoch 33/300\n",
            "44/44 [==============================] - 55s 1s/step - loss: 1.8846 - accuracy: 0.2931 - val_loss: 1.8813 - val_accuracy: 0.3052\n",
            "Epoch 34/300\n",
            "44/44 [==============================] - 57s 1s/step - loss: 1.8794 - accuracy: 0.3035 - val_loss: 1.8725 - val_accuracy: 0.3084\n",
            "Epoch 35/300\n",
            "44/44 [==============================] - 55s 1s/step - loss: 1.8732 - accuracy: 0.3115 - val_loss: 1.8673 - val_accuracy: 0.3019\n",
            "Epoch 36/300\n",
            "44/44 [==============================] - 57s 1s/step - loss: 1.8673 - accuracy: 0.3046 - val_loss: 1.8623 - val_accuracy: 0.3344\n",
            "Epoch 37/300\n",
            "44/44 [==============================] - 57s 1s/step - loss: 1.8596 - accuracy: 0.3267 - val_loss: 1.8597 - val_accuracy: 0.3084\n",
            "Epoch 38/300\n",
            "44/44 [==============================] - 55s 1s/step - loss: 1.8530 - accuracy: 0.3180 - val_loss: 1.8594 - val_accuracy: 0.3279\n",
            "Epoch 39/300\n",
            "44/44 [==============================] - 57s 1s/step - loss: 1.8463 - accuracy: 0.3245 - val_loss: 1.8438 - val_accuracy: 0.3117\n",
            "Epoch 40/300\n",
            "44/44 [==============================] - 56s 1s/step - loss: 1.8430 - accuracy: 0.3271 - val_loss: 1.8390 - val_accuracy: 0.3344\n",
            "Epoch 41/300\n",
            "44/44 [==============================] - 57s 1s/step - loss: 1.8369 - accuracy: 0.3303 - val_loss: 1.8337 - val_accuracy: 0.3149\n",
            "Epoch 42/300\n",
            "44/44 [==============================] - 57s 1s/step - loss: 1.8310 - accuracy: 0.3300 - val_loss: 1.8294 - val_accuracy: 0.3117\n",
            "Epoch 43/300\n",
            "44/44 [==============================] - 56s 1s/step - loss: 1.8258 - accuracy: 0.3339 - val_loss: 1.8212 - val_accuracy: 0.3279\n",
            "Epoch 44/300\n",
            "44/44 [==============================] - 56s 1s/step - loss: 1.8195 - accuracy: 0.3292 - val_loss: 1.8281 - val_accuracy: 0.3182\n",
            "Epoch 45/300\n",
            "44/44 [==============================] - 57s 1s/step - loss: 1.8146 - accuracy: 0.3462 - val_loss: 1.8101 - val_accuracy: 0.3279\n",
            "Epoch 46/300\n",
            "44/44 [==============================] - 55s 1s/step - loss: 1.8086 - accuracy: 0.3310 - val_loss: 1.8086 - val_accuracy: 0.3409\n",
            "Epoch 47/300\n",
            "44/44 [==============================] - 57s 1s/step - loss: 1.8031 - accuracy: 0.3433 - val_loss: 1.8014 - val_accuracy: 0.3312\n",
            "Epoch 48/300\n",
            "44/44 [==============================] - 56s 1s/step - loss: 1.7999 - accuracy: 0.3336 - val_loss: 1.8023 - val_accuracy: 0.3312\n",
            "Epoch 49/300\n",
            "44/44 [==============================] - 56s 1s/step - loss: 1.7945 - accuracy: 0.3390 - val_loss: 1.7878 - val_accuracy: 0.3409\n",
            "Epoch 50/300\n",
            "44/44 [==============================] - 56s 1s/step - loss: 1.7893 - accuracy: 0.3462 - val_loss: 1.7915 - val_accuracy: 0.3766\n",
            "Epoch 51/300\n",
            "44/44 [==============================] - 54s 1s/step - loss: 1.7870 - accuracy: 0.3412 - val_loss: 1.8005 - val_accuracy: 0.3149\n",
            "Epoch 52/300\n",
            "44/44 [==============================] - 57s 1s/step - loss: 1.7822 - accuracy: 0.3412 - val_loss: 1.7861 - val_accuracy: 0.3506\n",
            "Epoch 53/300\n",
            "44/44 [==============================] - 55s 1s/step - loss: 1.7784 - accuracy: 0.3430 - val_loss: 1.7765 - val_accuracy: 0.3312\n",
            "Epoch 54/300\n",
            "44/44 [==============================] - 59s 1s/step - loss: 1.7721 - accuracy: 0.3506 - val_loss: 1.7672 - val_accuracy: 0.3506\n",
            "Epoch 55/300\n",
            "44/44 [==============================] - 58s 1s/step - loss: 1.7665 - accuracy: 0.3502 - val_loss: 1.7683 - val_accuracy: 0.3604\n",
            "Epoch 56/300\n",
            "44/44 [==============================] - 55s 1s/step - loss: 1.7648 - accuracy: 0.3549 - val_loss: 1.7640 - val_accuracy: 0.3409\n",
            "Epoch 57/300\n",
            "44/44 [==============================] - 57s 1s/step - loss: 1.7612 - accuracy: 0.3564 - val_loss: 1.7570 - val_accuracy: 0.3636\n",
            "Epoch 58/300\n",
            "44/44 [==============================] - 56s 1s/step - loss: 1.7569 - accuracy: 0.3520 - val_loss: 1.7587 - val_accuracy: 0.3669\n",
            "Epoch 59/300\n",
            "44/44 [==============================] - 55s 1s/step - loss: 1.7541 - accuracy: 0.3546 - val_loss: 1.7552 - val_accuracy: 0.3344\n",
            "Epoch 60/300\n",
            "44/44 [==============================] - 58s 1s/step - loss: 1.7478 - accuracy: 0.3542 - val_loss: 1.7464 - val_accuracy: 0.3604\n",
            "Epoch 61/300\n",
            "44/44 [==============================] - 57s 1s/step - loss: 1.7440 - accuracy: 0.3632 - val_loss: 1.7429 - val_accuracy: 0.3506\n",
            "Epoch 62/300\n",
            "44/44 [==============================] - 55s 1s/step - loss: 1.7405 - accuracy: 0.3578 - val_loss: 1.7376 - val_accuracy: 0.3442\n",
            "Epoch 63/300\n",
            "44/44 [==============================] - 57s 1s/step - loss: 1.7387 - accuracy: 0.3585 - val_loss: 1.7372 - val_accuracy: 0.3506\n",
            "Epoch 64/300\n",
            "44/44 [==============================] - 58s 1s/step - loss: 1.7351 - accuracy: 0.3636 - val_loss: 1.7369 - val_accuracy: 0.3474\n",
            "Epoch 65/300\n",
            "44/44 [==============================] - 56s 1s/step - loss: 1.7314 - accuracy: 0.3669 - val_loss: 1.7339 - val_accuracy: 0.3474\n",
            "Epoch 66/300\n",
            "44/44 [==============================] - 57s 1s/step - loss: 1.7260 - accuracy: 0.3640 - val_loss: 1.7310 - val_accuracy: 0.3474\n",
            "Epoch 67/300\n",
            "44/44 [==============================] - 58s 1s/step - loss: 1.7246 - accuracy: 0.3618 - val_loss: 1.7309 - val_accuracy: 0.3442\n",
            "Epoch 68/300\n",
            "44/44 [==============================] - 55s 1s/step - loss: 1.7221 - accuracy: 0.3698 - val_loss: 1.7250 - val_accuracy: 0.3474\n",
            "Epoch 69/300\n",
            "44/44 [==============================] - 55s 1s/step - loss: 1.7176 - accuracy: 0.3632 - val_loss: 1.7208 - val_accuracy: 0.3539\n",
            "Epoch 70/300\n",
            "44/44 [==============================] - 60s 1s/step - loss: 1.7143 - accuracy: 0.3618 - val_loss: 1.7162 - val_accuracy: 0.3701\n",
            "Epoch 71/300\n",
            "44/44 [==============================] - 54s 1s/step - loss: 1.7100 - accuracy: 0.3734 - val_loss: 1.7226 - val_accuracy: 0.3506\n",
            "Epoch 72/300\n",
            "44/44 [==============================] - 54s 1s/step - loss: 1.7090 - accuracy: 0.3730 - val_loss: 1.7167 - val_accuracy: 0.3571\n",
            "Epoch 73/300\n",
            "44/44 [==============================] - 59s 1s/step - loss: 1.7027 - accuracy: 0.3726 - val_loss: 1.7113 - val_accuracy: 0.3669\n",
            "Epoch 74/300\n",
            "44/44 [==============================] - 55s 1s/step - loss: 1.7016 - accuracy: 0.3759 - val_loss: 1.7049 - val_accuracy: 0.3669\n",
            "Epoch 75/300\n",
            "44/44 [==============================] - 55s 1s/step - loss: 1.7002 - accuracy: 0.3669 - val_loss: 1.7041 - val_accuracy: 0.3506\n",
            "Epoch 76/300\n",
            "44/44 [==============================] - 60s 1s/step - loss: 1.6931 - accuracy: 0.3723 - val_loss: 1.7019 - val_accuracy: 0.3571\n",
            "Epoch 77/300\n",
            "44/44 [==============================] - 56s 1s/step - loss: 1.6918 - accuracy: 0.3824 - val_loss: 1.6993 - val_accuracy: 0.3604\n",
            "Epoch 78/300\n",
            "44/44 [==============================] - 56s 1s/step - loss: 1.6886 - accuracy: 0.3752 - val_loss: 1.6932 - val_accuracy: 0.3539\n",
            "Epoch 79/300\n",
            "44/44 [==============================] - 58s 1s/step - loss: 1.6864 - accuracy: 0.3810 - val_loss: 1.6970 - val_accuracy: 0.3701\n",
            "Epoch 80/300\n",
            "44/44 [==============================] - 56s 1s/step - loss: 1.6840 - accuracy: 0.3835 - val_loss: 1.6928 - val_accuracy: 0.3669\n",
            "Epoch 81/300\n",
            "44/44 [==============================] - 55s 1s/step - loss: 1.6833 - accuracy: 0.3795 - val_loss: 1.6927 - val_accuracy: 0.3571\n",
            "Epoch 82/300\n",
            "44/44 [==============================] - 59s 1s/step - loss: 1.6779 - accuracy: 0.3817 - val_loss: 1.6821 - val_accuracy: 0.3636\n",
            "Epoch 83/300\n",
            "44/44 [==============================] - 54s 1s/step - loss: 1.6759 - accuracy: 0.3911 - val_loss: 1.7032 - val_accuracy: 0.3442\n",
            "Epoch 84/300\n",
            "44/44 [==============================] - 54s 1s/step - loss: 1.6737 - accuracy: 0.3821 - val_loss: 1.6835 - val_accuracy: 0.3571\n",
            "Epoch 85/300\n",
            "44/44 [==============================] - 58s 1s/step - loss: 1.6728 - accuracy: 0.3766 - val_loss: 1.7017 - val_accuracy: 0.3539\n",
            "Epoch 86/300\n",
            "44/44 [==============================] - 56s 1s/step - loss: 1.6679 - accuracy: 0.3817 - val_loss: 1.6738 - val_accuracy: 0.3701\n",
            "Epoch 87/300\n",
            "44/44 [==============================] - 55s 1s/step - loss: 1.6650 - accuracy: 0.3922 - val_loss: 1.6726 - val_accuracy: 0.3701\n",
            "Epoch 88/300\n",
            "44/44 [==============================] - 58s 1s/step - loss: 1.6621 - accuracy: 0.3897 - val_loss: 1.6763 - val_accuracy: 0.3636\n",
            "Epoch 89/300\n",
            "44/44 [==============================] - 54s 1s/step - loss: 1.6618 - accuracy: 0.3882 - val_loss: 1.6740 - val_accuracy: 0.3669\n",
            "Epoch 90/300\n",
            "44/44 [==============================] - 55s 1s/step - loss: 1.6572 - accuracy: 0.3958 - val_loss: 1.6687 - val_accuracy: 0.3701\n",
            "Epoch 91/300\n",
            "44/44 [==============================] - 56s 1s/step - loss: 1.6554 - accuracy: 0.3925 - val_loss: 1.6702 - val_accuracy: 0.3701\n",
            "Epoch 92/300\n",
            "44/44 [==============================] - 56s 1s/step - loss: 1.6518 - accuracy: 0.3889 - val_loss: 1.6742 - val_accuracy: 0.3604\n",
            "Epoch 93/300\n",
            "44/44 [==============================] - 56s 1s/step - loss: 1.6500 - accuracy: 0.3951 - val_loss: 1.6679 - val_accuracy: 0.3571\n",
            "Epoch 94/300\n",
            "44/44 [==============================] - 58s 1s/step - loss: 1.6465 - accuracy: 0.3911 - val_loss: 1.6594 - val_accuracy: 0.3799\n",
            "Epoch 95/300\n",
            "44/44 [==============================] - 57s 1s/step - loss: 1.6420 - accuracy: 0.3965 - val_loss: 1.6581 - val_accuracy: 0.3734\n",
            "Epoch 96/300\n",
            "44/44 [==============================] - 54s 1s/step - loss: 1.6406 - accuracy: 0.3965 - val_loss: 1.6867 - val_accuracy: 0.3474\n",
            "Epoch 97/300\n",
            "44/44 [==============================] - 56s 1s/step - loss: 1.6389 - accuracy: 0.4041 - val_loss: 1.6608 - val_accuracy: 0.3636\n",
            "Epoch 98/300\n",
            "44/44 [==============================] - 57s 1s/step - loss: 1.6409 - accuracy: 0.3929 - val_loss: 1.6554 - val_accuracy: 0.3669\n",
            "Epoch 99/300\n",
            "44/44 [==============================] - 56s 1s/step - loss: 1.6381 - accuracy: 0.4012 - val_loss: 1.6475 - val_accuracy: 0.3994\n",
            "Epoch 100/300\n",
            "44/44 [==============================] - 58s 1s/step - loss: 1.6311 - accuracy: 0.4009 - val_loss: 1.6466 - val_accuracy: 0.3864\n",
            "Epoch 101/300\n",
            "44/44 [==============================] - 56s 1s/step - loss: 1.6322 - accuracy: 0.4023 - val_loss: 1.6495 - val_accuracy: 0.3669\n",
            "Epoch 102/300\n",
            "27/44 [=================>............] - ETA: 20s - loss: 1.6325 - accuracy: 0.3981"
          ]
        }
      ]
    },
    {
      "cell_type": "code",
      "source": [
        "# 16 16 16 - 56"
      ],
      "metadata": {
        "id": "yqFBhoL9sWHf"
      },
      "execution_count": null,
      "outputs": []
    },
    {
      "cell_type": "code",
      "source": [
        "acc = history.history['accuracy']\n",
        "val_acc = history.history['val_accuracy']\n",
        "loss = history.history['loss']\n",
        "val_loss = history.history['val_loss']\n",
        "\n",
        "epochs = range(1, len(acc) + 1)\n",
        " \n",
        "plt.plot(epochs, acc, label='Training acc')\n",
        "plt.plot(epochs, val_acc, label='Validation acc')\n",
        "plt.title('Training and validation accuracy')\n",
        "plt.legend()\n",
        "\n",
        "plt.figure()\n",
        "\n",
        "plt.plot(epochs, loss, label='Training loss')\n",
        "plt.plot(epochs, val_loss, label='Validation loss')\n",
        "plt.title('Training and validation loss')\n",
        "plt.legend()\n",
        "\n",
        "plt.show()"
      ],
      "metadata": {
        "id": "gc1SCdfpjk4w",
        "colab": {
          "base_uri": "https://localhost:8080/",
          "height": 545
        },
        "outputId": "f73a8e95-46c5-40bc-b5f9-c415e79efe8f"
      },
      "execution_count": null,
      "outputs": [
        {
          "output_type": "display_data",
          "data": {
            "text/plain": [
              "<Figure size 432x288 with 1 Axes>"
            ],
            "image/png": "[encoded data removed]"
          },
          "metadata": {
            "needs_background": "light"
          }
        },
        {
          "output_type": "display_data",
          "data": {
            "text/plain": [
              "<Figure size 432x288 with 1 Axes>"
            ],
            "image/png": "[encoded data removed]"
          },
          "metadata": {
            "needs_background": "light"
          }
        }
      ]
    },
    {
      "cell_type": "code",
      "source": [
        "# test\n",
        "model = keras.models.load_model('mel-model')\n",
        "\n",
        "TESS_X_mel =np.load('drive/MyDrive/SER/TESS_X_mel.npy')\n",
        "# SAVEES_X_mel = np.load('drive/MyDrive/SER/SAVEES_X_mel.npy')\n",
        "TESS_y = np.load('drive/MyDrive/SER/TESS_y.npy')\n",
        "# SAVEES_y = np.load('drive/MyDrive/SER/SAVEES_y.npy')\n",
        "\n",
        "le.fit(y)\n",
        "TESS_y_encoded = to_categorical(le.transform(TESS_y))\n",
        "# SAVEES_y_encoded = to_categorical(le.transform(SAVEES_y))\n",
        "\n",
        "y_preds = model.predict(TESS_X_mel)\n",
        "y_hat = np.argmax(y_preds, axis=1)\n",
        "y_true = np.argmax(TESS_y_encoded, axis=1)\n",
        "\n",
        "cm = confusion_matrix(y_true, y_hat)\n",
        "\n",
        "sum = 0\n",
        "\n",
        "for i in range(cm.shape[0]):\n",
        "  sum += cm[i,i]\n",
        "\n",
        "print(len(y_preds))\n",
        "print(sum / len(y_preds))\n",
        "\n",
        "cm"
      ],
      "metadata": {
        "id": "q8wDwrCIjnOz",
        "colab": {
          "base_uri": "https://localhost:8080/"
        },
        "outputId": "90ffe25c-36ab-4b92-fe10-4a773867129f"
      },
      "execution_count": null,
      "outputs": [
        {
          "output_type": "stream",
          "name": "stdout",
          "text": [
            "2800\n",
            "0.37464285714285717\n"
          ]
        },
        {
          "output_type": "execute_result",
          "data": {
            "text/plain": [
              "array([[  1, 399,   0,   0,   0,   0,   0,   0],\n",
              "       [  0,   0,   0,   0,   0,   0,   0,   0],\n",
              "       [  3,   7, 146,   2,   6,  39,   0, 197],\n",
              "       [  5, 389,   0,   6,   0,   0,   0,   0],\n",
              "       [  2,   7, 162,  12, 121,  86,   0,  10],\n",
              "       [ 20,   0,  26,   0,   0, 327,   0,  27],\n",
              "       [  1,  13,  91,  27,  68,  18,  95,  87],\n",
              "       [  0,   1,  29,   0,  11,   5,   1, 353]])"
            ]
          },
          "metadata": {},
          "execution_count": 39
        }
      ]
    },
    {
      "cell_type": "code",
      "source": [],
      "metadata": {
        "id": "yvJ01sXh0M0f"
      },
      "execution_count": null,
      "outputs": []
    }
  ],
  "metadata": {
    "accelerator": "GPU",
    "colab": {
      "provenance": [],
      "authorship_tag": "ABX9TyNsQykDLmOZ9jtSb0Gs/6r+",
      "include_colab_link": true
    },
    "gpuClass": "standard",
    "kernelspec": {
      "display_name": "Python 3",
      "name": "python3"
    },
    "language_info": {
      "name": "python"
    }
  },
  "nbformat": 4,
  "nbformat_minor": 0
}